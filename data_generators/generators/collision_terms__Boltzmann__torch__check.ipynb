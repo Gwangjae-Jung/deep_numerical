{
 "cells": [
  {
   "cell_type": "code",
   "execution_count": 1,
   "id": "e0505e7a",
   "metadata": {},
   "outputs": [],
   "source": [
    "import  numpy               as      np\n",
    "import  torch\n",
    "import  matplotlib.pyplot   as      plt\n",
    "\n",
    "from    pathlib     import  Path\n",
    "import  sys\n",
    "sys.path.append(str(Path.cwd().parent.parent))\n",
    "from    pytorch.torch_numerical             import  utils\n",
    "from    pytorch.torch_numerical.solvers     import  FastSM_Boltzmann_VHS\n",
    "\n",
    "dtype:  torch.dtype     = torch.float32\n",
    "device: torch.device    = torch.device('cuda:2' if torch.cuda.is_available() else 'cpu')\n",
    "__dtype_str: str        = str(dtype).split('.')[-1]\n",
    "\n",
    "dtype_and_device = {'dtype': dtype, 'device': device}"
   ]
  },
  {
   "cell_type": "code",
   "execution_count": 2,
   "id": "0903214d",
   "metadata": {},
   "outputs": [],
   "source": [
    "DIMENSION:  int     = 2\n",
    "RESOLUTION: int     = 16\n",
    "VHS_ALPHA:  float   = 0.0\n",
    "file = np.load(f\"../datasets__{__dtype_str}/Boltzmann__alpha_{int(VHS_ALPHA)}__res_{RESOLUTION}.npz\")\n",
    "\n",
    "V_MAX:      float   = float(file['v_max'])\n",
    "DELTA_V:    float   = (2*V_MAX) / RESOLUTION\n",
    "v_grid              = utils.velocity_grid(DIMENSION, RESOLUTION, V_MAX, **dtype_and_device)\n",
    "FFT_AXES:   tuple[int]  = tuple(range(-(1+DIMENSION), -1))\n",
    "FFT_NORM:   str     = 'forward'\n",
    "\n",
    "VHS_COEFF:  float   = file['vhs_coeff']"
   ]
  },
  {
   "cell_type": "code",
   "execution_count": 3,
   "id": "db59253d",
   "metadata": {},
   "outputs": [],
   "source": [
    "solver_maxwellian = FastSM_Boltzmann_VHS(\n",
    "    dimension   = DIMENSION,\n",
    "    v_num_grid  = RESOLUTION,\n",
    "    v_max       = V_MAX,\n",
    "    vhs_alpha   = 0.0,\n",
    "    vhs_coeff   = VHS_COEFF,\n",
    "    \n",
    "    quad_order_uniform  = 25,\n",
    "    quad_order_legendre = 50,\n",
    "    quad_order_lebedev  = 7,\n",
    "    \n",
    "    dtype   = dtype,\n",
    "    device  = device,\n",
    ")\n",
    "solver_maxwellian.precompute()\n",
    "\n",
    "solver_hard_sphere = FastSM_Boltzmann_VHS(\n",
    "    dimension  = DIMENSION,\n",
    "    v_num_grid  = RESOLUTION,\n",
    "    v_max       = V_MAX,\n",
    "    vhs_alpha   = 1.0,\n",
    "    vhs_coeff   = VHS_COEFF,\n",
    "    \n",
    "    quad_order_uniform  = 25,\n",
    "    quad_order_legendre = 50,\n",
    "    quad_order_lebedev  = 7,\n",
    "    \n",
    "    dtype   = dtype,\n",
    "    device  = device,\n",
    ")\n",
    "solver_hard_sphere.precompute()"
   ]
  },
  {
   "cell_type": "code",
   "execution_count": 4,
   "id": "ff5b4787",
   "metadata": {},
   "outputs": [
    {
     "name": "stdout",
     "output_type": "stream",
     "text": [
      "TEST__collision_0.shape        = torch.Size([16, 1, 1, 16, 16, 1])\n",
      "TEST__collision_0_pred.shape   = torch.Size([16, 1, 1, 16, 16, 1])\n"
     ]
    }
   ],
   "source": [
    "__test_size = 16\n",
    "__test_rand_indices = torch.randint(0, len(file['data']), size=(__test_size,))\n",
    "err_order = 2.0\n",
    "err_dim = tuple(range(1, 2+2*DIMENSION))\n",
    "\n",
    "TEST__data_0 = torch.tensor(file['data'], **dtype_and_device)[__test_rand_indices]\n",
    "TEST__gain_fft_0 = torch.tensor(file['gain_fft'], dtype=utils.dtype_real_to_complex(dtype), device=device)[__test_rand_indices]\n",
    "TEST__loss_fft_0 = torch.tensor(file['loss_fft'], dtype=utils.dtype_real_to_complex(dtype), device=device)[__test_rand_indices]\n",
    "TEST__collision_0: torch.Tensor = torch.fft.ifftn(TEST__gain_fft_0-TEST__loss_fft_0, dim=FFT_AXES, norm=FFT_NORM).real\n",
    "\n",
    "TEST__gain_fft_0_pred = solver_maxwellian.compute_collision_gain_fft(None, torch.fft.fftn(TEST__data_0, dim=FFT_AXES, norm=FFT_NORM))\n",
    "TEST__loss_fft_0_pred = solver_maxwellian.compute_collision_loss_fft(None, torch.fft.fftn(TEST__data_0, dim=FFT_AXES, norm=FFT_NORM))\n",
    "TEST__collision_0_pred: torch.Tensor = torch.fft.ifftn(TEST__gain_fft_0_pred-TEST__loss_fft_0_pred, dim=FFT_AXES, norm=FFT_NORM).real\n",
    "\n",
    "print(f\"{TEST__collision_0.shape        = }\")\n",
    "print(f\"{TEST__collision_0_pred.shape   = }\")"
   ]
  },
  {
   "cell_type": "code",
   "execution_count": 5,
   "id": "228b9e20",
   "metadata": {},
   "outputs": [
    {
     "name": "stdout",
     "output_type": "stream",
     "text": [
      "Relative error (gain)      >>> 0.0000e+00\n",
      "Relative error (loss)      >>> 0.0000e+00\n",
      "Relative error (collision) >>> 0.0000e+00\n",
      "Relative error (gain)      >>> 0.0000e+00\n",
      "Relative error (loss)      >>> 0.0000e+00\n",
      "Relative error (collision) >>> 0.0000e+00\n",
      "Relative error (gain)      >>> 0.0000e+00\n",
      "Relative error (loss)      >>> 0.0000e+00\n",
      "Relative error (collision) >>> 0.0000e+00\n"
     ]
    }
   ],
   "source": [
    "gain_fft_abs_error  = (TEST__gain_fft_0_pred - TEST__gain_fft_0).norm(p=err_order, dim=err_dim).mean().item()\n",
    "loss_fft_abs_error  = (TEST__loss_fft_0_pred - TEST__loss_fft_0).norm(p=err_order, dim=err_dim).mean().item()\n",
    "collision_abs_error = (TEST__collision_0_pred - TEST__collision_0).norm(p=err_order, dim=err_dim).mean().item()\n",
    "print((f\"Relative error (gain)      >>> {gain_fft_abs_error:.4e}\"))\n",
    "print((f\"Relative error (loss)      >>> {loss_fft_abs_error:.4e}\"))\n",
    "print((f\"Relative error (collision) >>> {collision_abs_error:.4e}\"))\n",
    "\n",
    "gain_fft_abs_error  = utils.absolute_error(TEST__gain_fft_0_pred,   TEST__gain_fft_0).mean().item()\n",
    "loss_fft_abs_error  = utils.absolute_error(TEST__loss_fft_0_pred,   TEST__loss_fft_0).mean().item()\n",
    "collision_abs_error = utils.absolute_error(TEST__collision_0_pred,  TEST__collision_0).mean().item()\n",
    "print((f\"Relative error (gain)      >>> {gain_fft_abs_error:.4e}\"))\n",
    "print((f\"Relative error (loss)      >>> {loss_fft_abs_error:.4e}\"))\n",
    "print((f\"Relative error (collision) >>> {collision_abs_error:.4e}\"))\n",
    "\n",
    "gain_fft_rel_error  = utils.relative_error(TEST__gain_fft_0_pred, TEST__gain_fft_0, p=err_order, dim=err_dim).mean().item()\n",
    "loss_fft_rel_error  = utils.relative_error(TEST__loss_fft_0_pred, TEST__loss_fft_0, p=err_order, dim=err_dim).mean().item()\n",
    "collision_rel_error = utils.relative_error(TEST__collision_0_pred, TEST__collision_0, p=err_order, dim=err_dim).mean().item()\n",
    "print((f\"Relative error (gain)      >>> {gain_fft_rel_error:.4e}\"))\n",
    "print((f\"Relative error (loss)      >>> {loss_fft_rel_error:.4e}\"))\n",
    "print((f\"Relative error (collision) >>> {collision_rel_error:.4e}\"))"
   ]
  },
  {
   "cell_type": "markdown",
   "id": "a574d3cb",
   "metadata": {},
   "source": [
    "End of file"
   ]
  }
 ],
 "metadata": {
  "kernelspec": {
   "display_name": "GJ2",
   "language": "python",
   "name": "python3"
  },
  "language_info": {
   "codemirror_mode": {
    "name": "ipython",
    "version": 3
   },
   "file_extension": ".py",
   "mimetype": "text/x-python",
   "name": "python",
   "nbconvert_exporter": "python",
   "pygments_lexer": "ipython3",
   "version": "3.12.8"
  }
 },
 "nbformat": 4,
 "nbformat_minor": 5
}
