{
 "cells": [
  {
   "cell_type": "code",
   "execution_count": 8,
   "id": "ec9e9c51",
   "metadata": {},
   "outputs": [],
   "source": [
    "import  torch\n",
    "import  append_path\n",
    "from    deep_numerical.numerical.solvers    import  FastSM_Boltzmann_VHS\n",
    "from    deep_numerical.layers               import  FourierBoltzmannLayer\n",
    "from    deep_numerical.numerical.distribution   import  bkw\n",
    "from    deep_numerical.utils                import  *"
   ]
  },
  {
   "cell_type": "code",
   "execution_count": 25,
   "id": "9b9ec1b4",
   "metadata": {},
   "outputs": [],
   "source": [
    "dim, res, v_max = 2, 64, 5.0\n",
    "vhs_coeff, vhs_alpha = 1.0, 0.0\n",
    "\n",
    "v_grid = velocity_grid(dim, res, v_max)\n",
    "numerical_solver = FastSM_Boltzmann_VHS(\n",
    "    dimension   = dim,\n",
    "    v_num_grid  = res,\n",
    "    v_max       = v_max,\n",
    "    vhs_coeff   = vhs_coeff,\n",
    "    vhs_alpha   = vhs_alpha,\n",
    "    dtype       = torch.double,\n",
    ")\n",
    "neural_solver = FourierBoltzmannLayer(\n",
    "    dimension   = dim,\n",
    "    degree      = res//2,\n",
    "    n_weights   = numerical_solver.approximation_level,\n",
    "    dtype_str   = \"double\",\n",
    ")"
   ]
  },
  {
   "cell_type": "code",
   "execution_count": 26,
   "id": "fe98af57",
   "metadata": {},
   "outputs": [
    {
     "data": {
      "text/plain": [
       "(torch.Size([64, 64, 1, 64, 1]),\n",
       " torch.Size([64, 64, 1, 64, 21]),\n",
       " torch.Size([64, 64, 1, 64, 21]),\n",
       " torch.Size([64, 64, 1]))"
      ]
     },
     "execution_count": 26,
     "metadata": {},
     "output_type": "execute_result"
    }
   ],
   "source": [
    "numerical_solver.fsm_scale.shape, numerical_solver.fsm_phase_1.shape, numerical_solver.fsm_phase_2.shape, numerical_solver.kernel_diag.shape"
   ]
  },
  {
   "cell_type": "code",
   "execution_count": 27,
   "id": "e4e0629f",
   "metadata": {},
   "outputs": [
    {
     "data": {
      "text/plain": [
       "(torch.Size([64, 64, 1, 1344]),\n",
       " torch.Size([64, 64, 1, 1344]),\n",
       " torch.Size([64, 64, 1, 1344]),\n",
       " torch.Size([64, 64, 1]))"
      ]
     },
     "execution_count": 27,
     "metadata": {},
     "output_type": "execute_result"
    }
   ],
   "source": [
    "neural_solver.params_alpha.shape, neural_solver.params_beta.shape, neural_solver.params_gamma.shape, neural_solver.params_diag.shape"
   ]
  },
  {
   "cell_type": "code",
   "execution_count": 28,
   "id": "1526f10f",
   "metadata": {},
   "outputs": [],
   "source": [
    "neural_solver.params_alpha.data = numerical_solver.fsm_scale.repeat(1,1,1,1,21).reshape(neural_solver.params_alpha.shape)\n",
    "neural_solver.params_beta.data = numerical_solver.fsm_phase_1.reshape(neural_solver.params_beta.shape)\n",
    "neural_solver.params_gamma.data = numerical_solver.fsm_phase_2.reshape(neural_solver.params_gamma.shape)\n",
    "neural_solver.params_diag.data = numerical_solver.kernel_diag.reshape(neural_solver.params_diag.shape)"
   ]
  },
  {
   "cell_type": "code",
   "execution_count": 29,
   "id": "c685da75",
   "metadata": {},
   "outputs": [
    {
     "name": "stdout",
     "output_type": "stream",
     "text": [
      "----------[ BKW solution ]----------\n",
      "* coeff_ext: 0.5\n",
      "* coeff_int: 0.7853981633974483\n",
      "------------------------------------\n",
      "torch.Size([1, 1, 1, 1, 64, 64, 1])\n"
     ]
    }
   ],
   "source": [
    "f = bkw(torch.zeros((1,)), v_grid, vhs_coeff, 0.5)\n",
    "print(f.shape)\n",
    "fft_dim = tuple([-(2+k) for k in reversed(range(dim))])\n",
    "fft_norm = 'forward'\n",
    "f_fft: torch.Tensor = torch.fft.fftn(f, dim=fft_dim, norm=fft_norm)"
   ]
  },
  {
   "cell_type": "code",
   "execution_count": null,
   "id": "ef3e9097",
   "metadata": {},
   "outputs": [
    {
     "name": "stdout",
     "output_type": "stream",
     "text": [
      "torch.Size([1, 1, 64, 64, 1]) torch.Size([1, 1, 64, 64, 1])\n",
      "tensor(0.1558, dtype=torch.float64, grad_fn=<LinalgVectorNormBackward0>)\n"
     ]
    }
   ],
   "source": [
    "_sl = (slice(None), *(0 for _ in range(dim)))\n",
    "g_fft_1 = numerical_solver.compute_loss_fft(None, f_fft)[*_sl]\n",
    "g_fft_2 = neural_solver.compute_loss_fft(f_fft[*_sl])\n",
    "print(g_fft_1.shape, g_fft_2.shape)\n",
    "print((g_fft_2-g_fft_1).norm())"
   ]
  },
  {
   "cell_type": "code",
   "execution_count": null,
   "id": "d9f0bd94",
   "metadata": {},
   "outputs": [],
   "source": []
  }
 ],
 "metadata": {
  "kernelspec": {
   "display_name": "GJ2",
   "language": "python",
   "name": "python3"
  },
  "language_info": {
   "codemirror_mode": {
    "name": "ipython",
    "version": 3
   },
   "file_extension": ".py",
   "mimetype": "text/x-python",
   "name": "python",
   "nbconvert_exporter": "python",
   "pygments_lexer": "ipython3",
   "version": "3.12.8"
  }
 },
 "nbformat": 4,
 "nbformat_minor": 5
}
