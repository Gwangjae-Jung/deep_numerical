{
 "cells": [
  {
   "cell_type": "code",
   "execution_count": 1,
   "metadata": {},
   "outputs": [
    {
     "name": "stdout",
     "output_type": "stream",
     "text": [
      "The path [/media/junseung/47a90e46-3a9d-467c-bbee-066752b68532/GWANGJAE/python_custom_modules/numerical] will be appended.\n",
      "The path [/media/junseung/47a90e46-3a9d-467c-bbee-066752b68532/GWANGJAE/python_custom_modules] will be appended.\n"
     ]
    }
   ],
   "source": [
    "import  time\n",
    "from    tqdm.notebook           import  tqdm\n",
    "\n",
    "import  numpy                   as      np\n",
    "import  matplotlib.pyplot       as      plt\n",
    "from    IPython                 import  display\n",
    "from    ipywidgets              import  Output\n",
    "\n",
    "import  find_library\n",
    "from    numerical.utils           import  *\n",
    "from    numerical.distribution    import  *\n",
    "from    numerical.solvers         import  *"
   ]
  },
  {
   "cell_type": "code",
   "execution_count": 2,
   "metadata": {},
   "outputs": [],
   "source": [
    "# Time\n",
    "DELTA_T:    float       = 0.01\n",
    "MIN_T:      float       = 0.0\n",
    "MAX_T:      float       = 10.0\n",
    "NUM_T:      int         = int(1 + (MAX_T - MIN_T + 0.1*DELTA_T) / DELTA_T)\n",
    "ARR_T:      np.ndarray  = np.linspace(MIN_T, MAX_T, NUM_T)\n",
    "\n",
    "# Velocity\n",
    "DIMENSION:      int         = 2\n",
    "RESOLUTION:     int         = 16\n",
    "MAX_V:          float       = 3.0 / LAMBDA\n",
    "V:              np.ndarray  = velocity_grid(\n",
    "                                    DIMENSION,\n",
    "                                    RESOLUTION,\n",
    "                                    MAX_V,\n",
    "                                )\n",
    "\n",
    "# Further configurations - FFT\n",
    "FFT_NORM:   str         = 'forward'\n",
    "_FREQ:      np.ndarray  = fft_index(RESOLUTION)\n",
    "FREQ_MIN:   int         = int(_FREQ.min())\n",
    "FREQ_MAX:   int         = int(_FREQ.max())\n",
    "freqs:      np.ndarray  = freq_tensor(DIMENSION, RESOLUTION)\n",
    "    \n",
    "# VHS model\n",
    "VHS_ALPHA:      float   = 0.0\n",
    "VHS_COEFF:      float   = 1 / area_of_unit_sphere(DIMENSION)\n",
    "\n",
    "# Metric\n",
    "METRIC_ORDER:   float   = float('inf')\n",
    "def metric(pred: np.ndarray, target: np.ndarray) -> float:\n",
    "    numer = np.linalg.norm((pred - target).flatten(), ord=METRIC_ORDER)\n",
    "    denom = np.linalg.norm(target.flatten(), ord=METRIC_ORDER)\n",
    "    return float(numer / denom)\n",
    "\n",
    "\n",
    "# Problem type\n",
    "PROBLEM_TYPE:   str = 'bkw'\n",
    "PROBLEM_TYPE = PROBLEM_TYPE.lower()\n",
    "\n",
    "## BKW solution\n",
    "BKW_COEFF_EXT:  float = get_bkw_coeff_ext(DIMENSION)\n",
    "\n",
    "## Maxwellian distribution\n",
    "MAXWELLIAN_MEAN_DENSITY:        float       = 1.0\n",
    "MAXWELLIAN_MEAN_VELOCITY:       np.ndarray  = np.zeros(DIMENSION)\n",
    "MAXWELLIAN_MEAN_TEMPERATURE:    float       = 1.0\n",
    "\n",
    "## Bimodal distribution\n",
    "BIMODAL_MODE1_MEAN_DENSITY:     float       = 0.5\n",
    "BIMODAL_MODE1_MEAN_VELOCITY:    np.ndarray  = np.array([MAX_V/6, *zeros(DIMENSION-1)])\n",
    "BIMODAL_MODE1_MEAN_TEMPERATURE: float       = 0.5"
   ]
  },
  {
   "cell_type": "code",
   "execution_count": 3,
   "metadata": {},
   "outputs": [
    {
     "name": "stdout",
     "output_type": "stream",
     "text": [
      "[ Initialization ]\n",
      "* Setting the initial value.\n",
      "----------[ BKW solution ]----------\n",
      "* coeff_ext: 0.5\n",
      "* coeff_int: 0.125\n",
      "------------------------------------\n",
      "* Computing the kernel components.\n",
      "\tDone. (approximation level: 1250)\n"
     ]
    }
   ],
   "source": [
    "print(f\"[ Initialization ]\")\n",
    "print(f\"* Setting the initial value.\")\n",
    "arr_f:  np.ndarray\n",
    "\"\"\"A space-homogeneous initial condition\"\"\"\n",
    "if PROBLEM_TYPE == 'bkw':\n",
    "    bkw_sol = bkw(\n",
    "                    ARR_T, V,\n",
    "                    coeff_ext   = BKW_COEFF_EXT,\n",
    "                    vhs_coeff   = VHS_COEFF,\n",
    "                )\n",
    "    arr_f = bkw_sol[:, 0]\n",
    "elif PROBLEM_TYPE == 'maxwellian':\n",
    "    arr_f = maxwellian_homogeneous(\n",
    "                V,\n",
    "                MAXWELLIAN_MEAN_DENSITY,\n",
    "                MAXWELLIAN_MEAN_VELOCITY,\n",
    "                MAXWELLIAN_MEAN_TEMPERATURE,\n",
    "            )\n",
    "elif PROBLEM_TYPE == 'bimodal':\n",
    "    arr_f = maxwellian_homogeneous(\n",
    "                V,\n",
    "                BIMODAL_MODE1_MEAN_DENSITY,\n",
    "                +BIMODAL_MODE1_MEAN_VELOCITY,\n",
    "                BIMODAL_MODE1_MEAN_TEMPERATURE,\n",
    "            ) + \\\n",
    "            maxwellian_homogeneous(\n",
    "                V,\n",
    "                BIMODAL_MODE1_MEAN_DENSITY,\n",
    "                -BIMODAL_MODE1_MEAN_VELOCITY,\n",
    "                BIMODAL_MODE1_MEAN_TEMPERATURE,\n",
    "            )\n",
    "\n",
    "f_shape     = arr_f.shape[-(1+DIMENSION):-1]\n",
    "f_axes_v    = tuple(range(-(1+DIMENSION), -1))\n",
    "\n",
    "\n",
    "arr_f_fft = np.fft.fftn(arr_f, s=f_shape, axes=f_axes_v, norm=FFT_NORM)\n",
    "\"\"\"The discrete Fourier transform of the solution sample\"\"\"\n",
    "\n",
    "print(f\"* Computing the kernel components.\")\n",
    "sm_object = FastSM_Boltzmann_VHS(\n",
    "    dim         = DIMENSION,\n",
    "    v_num_grid  = RESOLUTION,\n",
    "    v_max       = MAX_V,\n",
    "    vhs_coeff   = VHS_COEFF,\n",
    "    vhs_alpha   = VHS_ALPHA,\n",
    "    quad_order_uniform  = 25,\n",
    "    quad_order_legendre = 50,\n",
    "    quad_order_lebedev  = 7,\n",
    ")\n",
    "sm_object.precompute()\n",
    "print(f\"\\tDone. (approximation level: {sm_object.approximation_level})\")"
   ]
  },
  {
   "cell_type": "code",
   "execution_count": 4,
   "metadata": {},
   "outputs": [
    {
     "name": "stdout",
     "output_type": "stream",
     "text": [
      "[ Computation ]\n",
      "* Computing the numerical solution.\n"
     ]
    },
    {
     "data": {
      "application/vnd.jupyter.widget-view+json": {
       "model_id": "3601dc861af44444aada8cb2276ae42c",
       "version_major": 2,
       "version_minor": 0
      },
      "text/plain": [
       "Output()"
      ]
     },
     "metadata": {},
     "output_type": "display_data"
    },
    {
     "data": {
      "application/vnd.jupyter.widget-view+json": {
       "model_id": "6543228e07064b9189e4cdf47c5ae297",
       "version_major": 2,
       "version_minor": 0
      },
      "text/plain": [
       "  0%|          | 0/1001 [00:00<?, ?it/s]"
      ]
     },
     "metadata": {},
     "output_type": "display_data"
    },
    {
     "name": "stdout",
     "output_type": "stream",
     "text": [
      "\tDone. (Elapsed time: 359.80 seconds)\n"
     ]
    }
   ],
   "source": [
    "print(f\"[ Computation ]\")\n",
    "print(f\"* Computing the numerical solution.\")\n",
    "arr_distribution        = []\n",
    "arr_mean_density        = []\n",
    "arr_mean_velocity       = []\n",
    "arr_mean_temperature    = []\n",
    "arr_rel_error           = []\n",
    "\n",
    "out = Output()\n",
    "display.display(out)\n",
    "\n",
    "elapsed_time = time.time()\n",
    "\n",
    "for cnt, t_curr in enumerate(tqdm(ARR_T)):\n",
    "    # Backup the previous data and check if the terminal time has been reached\n",
    "    arr_distribution.append(arr_f)\n",
    "    \n",
    "    rho, u, T = compute_moments_homogeneous(arr_f, V)\n",
    "    arr_mean_density.append(rho)\n",
    "    arr_mean_velocity.append(u)\n",
    "    arr_mean_temperature.append(T)\n",
    "    _target:    np.ndarray = None\n",
    "    if PROBLEM_TYPE == 'bkw':\n",
    "        _target = bkw_sol[:, cnt]\n",
    "    elif PROBLEM_TYPE == 'maxwellian':\n",
    "        _target = arr_distribution[0]\n",
    "    elif PROBLEM_TYPE == 'bimodal' and _target is None:\n",
    "        _target = maxwellian_homogeneous(\n",
    "            V,\n",
    "            arr_mean_density[0],\n",
    "            arr_mean_velocity[0],\n",
    "            arr_mean_temperature[0],\n",
    "        )\n",
    "    arr_rel_error.append( metric(arr_f, _target) )\n",
    "    \n",
    "    with out:\n",
    "        _title = f\"Relative error of order {METRIC_ORDER:.2f} by epoch {cnt} ($t={t_curr:.2f}$)\\n\"\n",
    "        if PROBLEM_TYPE != 'bimodal':\n",
    "            _title += f\"Cumulative maximum error: {max(arr_rel_error):.4e}\"\n",
    "        else:\n",
    "            _title += f\"Cumulative minimum error: {min(arr_rel_error):.4e}\"\n",
    "        plt.plot(ARR_T[:cnt+1], arr_rel_error, 'r-', linewidth=1)\n",
    "        plt.suptitle(_title)\n",
    "        plt.xlim(MIN_T, MAX_T)\n",
    "        plt.ylim(1e-8, 1e-0)\n",
    "        plt.yscale('log')\n",
    "        plt.grid()\n",
    "        plt.show()\n",
    "        display.clear_output(wait=True)\n",
    "    \n",
    "    if cnt == NUM_T-1:\n",
    "        break\n",
    "    \n",
    "    # Update the function\n",
    "    arr_f_fft = sm_object.forward(t_curr, arr_f_fft, DELTA_T, one_step_RK4_classic)\n",
    "    arr_f = np.fft.ifftn(arr_f_fft, s=f_shape, axes=f_axes_v, norm=FFT_NORM).real\n",
    "\n",
    "elapsed_time = time.time() - elapsed_time\n",
    "\n",
    "\n",
    "arr_distribution        = np.array(arr_distribution)\n",
    "arr_mean_density        = np.array(arr_mean_density)\n",
    "arr_mean_velocity       = np.array(arr_mean_velocity)\n",
    "arr_mean_temperature    = np.array(arr_mean_temperature)\n",
    "arr_rel_error           = np.array(arr_rel_error)\n",
    "\n",
    "print(f\"\\tDone. (Elapsed time: {elapsed_time:.2f} seconds)\")"
   ]
  },
  {
   "cell_type": "code",
   "execution_count": 5,
   "metadata": {},
   "outputs": [
    {
     "data": {
      "image/png": "[encoded data removed]",
      "text/plain": [
       "<Figure size 640x480 with 1 Axes>"
      ]
     },
     "metadata": {},
     "output_type": "display_data"
    }
   ],
   "source": [
    "plt.plot(ARR_T, arr_rel_error, 'r-', linewidth=1)\n",
    "plt.suptitle(_title)\n",
    "plt.xlim(MIN_T, MAX_T)\n",
    "plt.ylim(1e-8, 1e-0)\n",
    "plt.grid(True)\n",
    "plt.yscale('log')\n",
    "plt.show()\n",
    "display.clear_output(wait=True)"
   ]
  },
  {
   "cell_type": "code",
   "execution_count": 6,
   "metadata": {},
   "outputs": [],
   "source": [
    "# np.savez(\n",
    "#     file = f\"FSM_{DIMENSION}D__{PROBLEM_TYPE}_res{RESOLUTION}_L{MAX_V:.2e}_T{MAX_T}_dt{DELTA_T:.2e}\",\n",
    "    \n",
    "#     metric_order    = METRIC_ORDER,\n",
    "#     elapsed_time    = elapsed_time,\n",
    "    \n",
    "#     min_t   = MIN_T,\n",
    "#     max_t   = MAX_T,\n",
    "#     delta_t = DELTA_T,\n",
    "    \n",
    "#     dim     = DIMENSION,\n",
    "#     max_v   = MAX_V,\n",
    "#     res     = RESOLUTION,\n",
    "    \n",
    "#     arr_distribution        = arr_distribution,\n",
    "#     arr_mean_density        = arr_mean_density,\n",
    "#     arr_mean_velocity       = arr_mean_velocity,\n",
    "#     arr_mean_temperature    = arr_mean_temperature,\n",
    "#     arr_rel_error           = arr_rel_error,\n",
    "# )"
   ]
  },
  {
   "cell_type": "markdown",
   "metadata": {},
   "source": [
    "End of file"
   ]
  }
 ],
 "metadata": {
  "kernelspec": {
   "display_name": "GJ2",
   "language": "python",
   "name": "python3"
  },
  "language_info": {
   "codemirror_mode": {
    "name": "ipython",
    "version": 3
   },
   "file_extension": ".py",
   "mimetype": "text/x-python",
   "name": "python",
   "nbconvert_exporter": "python",
   "pygments_lexer": "ipython3",
   "version": "3.12.8"
  }
 },
 "nbformat": 4,
 "nbformat_minor": 2
}
