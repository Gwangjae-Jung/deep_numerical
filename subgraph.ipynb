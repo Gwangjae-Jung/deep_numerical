{
 "cells": [
  {
   "cell_type": "code",
   "execution_count": 1,
   "id": "c6aa3d92",
   "metadata": {},
   "outputs": [],
   "source": [
    "import  torch\n",
    "from    torch_geometric.data    import  data\n",
    "\n",
    "import  matplotlib.pyplot   as  plt\n",
    "\n",
    "from    pytorch.utils   import  RandomGraphGenerator, RandomGridGenerator"
   ]
  },
  {
   "cell_type": "code",
   "execution_count": 2,
   "id": "dd086b40",
   "metadata": {},
   "outputs": [],
   "source": [
    "rgg = RandomGridGenerator([[0, 1], [0, 1]], [11, 11])"
   ]
  },
  {
   "cell_type": "code",
   "execution_count": 3,
   "id": "8e5d6a86",
   "metadata": {},
   "outputs": [
    {
     "name": "stdout",
     "output_type": "stream",
     "text": [
      "Data(pos=[121, 2])\n"
     ]
    }
   ],
   "source": [
    "base_graph = rgg.base_graph\n",
    "print(base_graph)"
   ]
  },
  {
   "cell_type": "code",
   "execution_count": 9,
   "id": "11fe4d61",
   "metadata": {},
   "outputs": [
    {
     "name": "stdout",
     "output_type": "stream",
     "text": [
      "Data(edge_index=[2, 54], pos=[10, 2])\n"
     ]
    }
   ],
   "source": [
    "subgraph = rgg.sample_graph__radius(10, 0.5)\n",
    "print(subgraph)"
   ]
  },
  {
   "cell_type": "code",
   "execution_count": 10,
   "id": "edbca93d",
   "metadata": {},
   "outputs": [
    {
     "data": {
      "text/plain": [
       "(tensor([[1, 2, 3, 4, 0, 2, 3, 4, 5, 0, 1, 3, 4, 5, 0, 1, 2, 4, 5, 6, 7, 8, 0, 1,\n",
       "          2, 3, 5, 6, 7, 8, 1, 2, 3, 4, 6, 7, 8, 3, 4, 5, 7, 9, 3, 4, 5, 6, 8, 9,\n",
       "          3, 4, 5, 7, 6, 7],\n",
       "         [0, 0, 0, 0, 1, 1, 1, 1, 1, 2, 2, 2, 2, 2, 3, 3, 3, 3, 3, 3, 3, 3, 4, 4,\n",
       "          4, 4, 4, 4, 4, 4, 5, 5, 5, 5, 5, 5, 5, 6, 6, 6, 6, 6, 7, 7, 7, 7, 7, 7,\n",
       "          8, 8, 8, 8, 9, 9]]),\n",
       " tensor([[0.1000, 0.7000],\n",
       "         [0.2000, 0.8000],\n",
       "         [0.3000, 0.8000],\n",
       "         [0.5000, 0.7000],\n",
       "         [0.5000, 0.8000],\n",
       "         [0.6000, 0.8000],\n",
       "         [0.7000, 0.4000],\n",
       "         [0.8000, 0.5000],\n",
       "         [0.8000, 0.9000],\n",
       "         [1.0000, 0.2000]], dtype=torch.float64))"
      ]
     },
     "execution_count": 10,
     "metadata": {},
     "output_type": "execute_result"
    }
   ],
   "source": [
    "subgraph.edge_index, subgraph.pos"
   ]
  },
  {
   "cell_type": "code",
   "execution_count": 6,
   "id": "c1a74ce0",
   "metadata": {},
   "outputs": [
    {
     "ename": "TypeError",
     "evalue": "'NoneType' object is not subscriptable",
     "output_type": "error",
     "traceback": [
      "\u001b[0;31m---------------------------------------------------------------------------\u001b[0m",
      "\u001b[0;31mTypeError\u001b[0m                                 Traceback (most recent call last)",
      "Cell \u001b[0;32mIn[6], line 2\u001b[0m\n\u001b[1;32m      1\u001b[0m plt\u001b[38;5;241m.\u001b[39mfigure(figsize\u001b[38;5;241m=\u001b[39m(\u001b[38;5;241m8\u001b[39m, \u001b[38;5;241m8\u001b[39m))\n\u001b[0;32m----> 2\u001b[0m plt\u001b[38;5;241m.\u001b[39mscatter(\u001b[43mbase_graph\u001b[49m\u001b[38;5;241;43m.\u001b[39;49m\u001b[43mx\u001b[49m\u001b[43m[\u001b[49m\u001b[43m:\u001b[49m\u001b[43m,\u001b[49m\u001b[43m \u001b[49m\u001b[38;5;241;43m0\u001b[39;49m\u001b[43m]\u001b[49m, base_graph\u001b[38;5;241m.\u001b[39mx[:, \u001b[38;5;241m1\u001b[39m], s\u001b[38;5;241m=\u001b[39m\u001b[38;5;241m10\u001b[39m, c\u001b[38;5;241m=\u001b[39m\u001b[38;5;124m'\u001b[39m\u001b[38;5;124mblue\u001b[39m\u001b[38;5;124m'\u001b[39m, alpha\u001b[38;5;241m=\u001b[39m\u001b[38;5;241m0.5\u001b[39m)\n",
      "\u001b[0;31mTypeError\u001b[0m: 'NoneType' object is not subscriptable"
     ]
    },
    {
     "data": {
      "text/plain": [
       "<Figure size 800x800 with 0 Axes>"
      ]
     },
     "metadata": {},
     "output_type": "display_data"
    }
   ],
   "source": [
    "plt.figure(figsize=(8, 8))\n",
    "plt.scatter(base_graph.x[:, 0], base_graph.x[:, 1], s=10, c='blue', alpha=0.5)\n"
   ]
  }
 ],
 "metadata": {
  "kernelspec": {
   "display_name": "GJ2",
   "language": "python",
   "name": "python3"
  },
  "language_info": {
   "codemirror_mode": {
    "name": "ipython",
    "version": 3
   },
   "file_extension": ".py",
   "mimetype": "text/x-python",
   "name": "python",
   "nbconvert_exporter": "python",
   "pygments_lexer": "ipython3",
   "version": "3.12.8"
  }
 },
 "nbformat": 4,
 "nbformat_minor": 5
}
