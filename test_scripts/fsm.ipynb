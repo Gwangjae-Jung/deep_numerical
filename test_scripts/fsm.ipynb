{
 "cells": [
  {
   "cell_type": "code",
   "execution_count": 1,
   "id": "9b85667a",
   "metadata": {},
   "outputs": [],
   "source": [
    "import  numpy               as  np\n",
    "import  torch\n",
    "import  matplotlib.pyplot   as  plt\n",
    "\n",
    "import  append_path\n",
    "from    deep_numerical.numerical.solvers    import  *"
   ]
  },
  {
   "cell_type": "code",
   "execution_count": 6,
   "id": "924af6f2",
   "metadata": {},
   "outputs": [],
   "source": [
    "dimension   = 2\n",
    "resolution  = 64\n",
    "v_max       = 10.0\n",
    "\n",
    "vhs_coeff   = 1.0\n",
    "vhs_alpha   = 0.0\n",
    "\n",
    "\n",
    "fpl_solver = FastSM_Landau_VHS(\n",
    "    dimension=dimension,\n",
    "    v_num_grid=resolution,\n",
    "    v_max=v_max,\n",
    "    vhs_coeff=vhs_coeff,\n",
    "    vhs_alpha=vhs_alpha,\n",
    ")\n",
    "boltzmann_solver = FastSM_Boltzmann_VHS(\n",
    "    dimension=dimension,\n",
    "    v_num_grid=resolution,\n",
    "    v_max=v_max,\n",
    "    vhs_coeff=vhs_coeff,\n",
    "    vhs_alpha=vhs_alpha,\n",
    ")"
   ]
  },
  {
   "cell_type": "code",
   "execution_count": 10,
   "id": "457c58f9",
   "metadata": {},
   "outputs": [
    {
     "data": {
      "text/plain": [
       "(torch.Size([1, 1, 1, 64, 64, 1, 64, 1]), torch.Size([64, 64, 1, 64, 1]))"
      ]
     },
     "execution_count": 10,
     "metadata": {},
     "output_type": "execute_result"
    }
   ],
   "source": [
    "boltzmann_solver._fsm_scale.shape, boltzmann_solver.fsm_scale.shape"
   ]
  },
  {
   "cell_type": "code",
   "execution_count": null,
   "id": "4db8817c",
   "metadata": {},
   "outputs": [],
   "source": []
  }
 ],
 "metadata": {
  "kernelspec": {
   "display_name": "GJ2",
   "language": "python",
   "name": "python3"
  },
  "language_info": {
   "codemirror_mode": {
    "name": "ipython",
    "version": 3
   },
   "file_extension": ".py",
   "mimetype": "text/x-python",
   "name": "python",
   "nbconvert_exporter": "python",
   "pygments_lexer": "ipython3",
   "version": "3.12.8"
  }
 },
 "nbformat": 4,
 "nbformat_minor": 5
}
