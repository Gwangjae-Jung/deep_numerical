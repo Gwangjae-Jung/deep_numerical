{
 "cells": [
  {
   "cell_type": "code",
   "execution_count": 14,
   "id": "97706ed9",
   "metadata": {},
   "outputs": [],
   "source": [
    "import  numpy       as  np\n",
    "import  torch\n",
    "from    matplotlib  import  pyplot  as  plt\n",
    "\n",
    "from    sys         import  path\n",
    "from    pathlib     import  Path\n",
    "path.append(str(Path.cwd().parent))\n",
    "from    deep_numerical.utils                    import  *\n",
    "from    deep_numerical.numerical.distribution   import  *\n",
    "from    train_utils     import  *"
   ]
  },
  {
   "cell_type": "code",
   "execution_count": 3,
   "id": "4ce6caa2",
   "metadata": {},
   "outputs": [],
   "source": [
    "# alpha = torch.linspace(0,1,5)\n",
    "alpha = [0.75]\n",
    "res = 32\n",
    "values, info = load_data(rf\"/media/junseung/47a90e46-3a9d-467c-bbee-066752b68532/GWANGJAE/datasets_kinetic/Boltzmann_2D/biMaxwellian/coeff1.59e-01/res032/\", resolution=res, alpha=alpha, part_index=range(1,4))"
   ]
  },
  {
   "cell_type": "code",
   "execution_count": 4,
   "id": "76792c2a",
   "metadata": {},
   "outputs": [],
   "source": [
    "data = values['data']\n",
    "data = data[:, :, None, None, ...]\n",
    "\n",
    "v_max = 2/LAMBDA\n",
    "\n",
    "v_grid = velocity_grid(2, res, v_max)\n",
    "dv = 2*v_max/res\n",
    "equi = maxwellian_homogeneous(v_grid, *compute_moments_homogeneous(data[:,0], v_grid))"
   ]
  },
  {
   "cell_type": "code",
   "execution_count": 5,
   "id": "5486f916",
   "metadata": {},
   "outputs": [
    {
     "name": "stdout",
     "output_type": "stream",
     "text": [
      "torch.Size([9180, 1, 1, 32, 32, 1]) torch.Size([9180, 1, 1, 32, 32, 1])\n"
     ]
    }
   ],
   "source": [
    "n_inst, n_t = data.shape[:2]\n",
    "\n",
    "tensor1 = data.reshape((n_inst*n_t*len(alpha), *data.shape[2:]))\n",
    "tensor2 = equi[:, None, ...].repeat((1,51, 1, 1, 1, 1, 1)).reshape((180*51*len(alpha), *data.shape[2:]))\n",
    "print(tensor1.shape, tensor2.shape)"
   ]
  },
  {
   "cell_type": "code",
   "execution_count": 6,
   "id": "c47555ba",
   "metadata": {},
   "outputs": [
    {
     "name": "stdout",
     "output_type": "stream",
     "text": [
      "torch.Size([9180]) torch.Size([9180])\n"
     ]
    }
   ],
   "source": [
    "deviance = relative_error(tensor1, tensor2)\n",
    "entropy1 = compute_entropy_homogeneous(tensor1, dv)\n",
    "entropy2 = compute_entropy_homogeneous(tensor2, dv)\n",
    "non_equi = relative_error(entropy1, entropy2)\n",
    "print(deviance.shape, non_equi.shape)"
   ]
  },
  {
   "cell_type": "code",
   "execution_count": 12,
   "id": "476d94df",
   "metadata": {},
   "outputs": [
    {
     "data": {
      "image/png": "[encoded data removed]",
      "text/plain": [
       "<Figure size 640x480 with 1 Axes>"
      ]
     },
     "metadata": {},
     "output_type": "display_data"
    }
   ],
   "source": [
    "plt.title(f\"{alpha=}\")\n",
    "density, bins, _ = plt.hist(non_equi.flatten().log10(), bins=25, density=True, color='gray', edgecolor='black')\n",
    "plt.show()"
   ]
  },
  {
   "cell_type": "code",
   "execution_count": 16,
   "id": "28606225",
   "metadata": {},
   "outputs": [
    {
     "data": {
      "text/plain": [
       "0.0"
      ]
     },
     "execution_count": 16,
     "metadata": {},
     "output_type": "execute_result"
    }
   ],
   "source": [
    "np.abs(bins - np.linspace(bins.min(), bins.max(), len(bins))).max()"
   ]
  },
  {
   "cell_type": "code",
   "execution_count": 9,
   "id": "28a1cedd",
   "metadata": {},
   "outputs": [
    {
     "data": {
      "text/plain": [
       "tensor(136)"
      ]
     },
     "execution_count": 9,
     "metadata": {},
     "output_type": "execute_result"
    }
   ],
   "source": [
    "_bins = torch.tensor(bins)\n",
    "_bins[0] -= 0.1\n",
    "(torch.searchsorted(_bins, non_equi.flatten().log10()) == 1).sum()"
   ]
  },
  {
   "cell_type": "code",
   "execution_count": 10,
   "id": "cda285fd",
   "metadata": {},
   "outputs": [
    {
     "data": {
      "text/plain": [
       "tensor([[0, 0, 0, 0, 1, 1, 1, 2],\n",
       "        [2, 2, 3, 3, 3, 4, 4, 4],\n",
       "        [4, 4, 4, 4, 4, 5, 5, 5],\n",
       "        [5, 5, 5, 5, 5, 5, 5, 5]])"
      ]
     },
     "execution_count": 10,
     "metadata": {},
     "output_type": "execute_result"
    }
   ],
   "source": [
    "X = torch.arange(32).reshape(4, 8)\n",
    "b = torch.tensor([3, 6, 9, 12, 20])\n",
    "torch.searchsorted(b, X)"
   ]
  },
  {
   "cell_type": "code",
   "execution_count": 11,
   "id": "8fd26be4",
   "metadata": {},
   "outputs": [
    {
     "ename": "NameError",
     "evalue": "name 'impo' is not defined",
     "output_type": "error",
     "traceback": [
      "\u001b[0;31m---------------------------------------------------------------------------\u001b[0m",
      "\u001b[0;31mNameError\u001b[0m                                 Traceback (most recent call last)",
      "Cell \u001b[0;32mIn[11], line 1\u001b[0m\n\u001b[0;32m----> 1\u001b[0m \u001b[43mimpo\u001b[49m\n",
      "\u001b[0;31mNameError\u001b[0m: name 'impo' is not defined"
     ]
    }
   ],
   "source": [
    "impo"
   ]
  }
 ],
 "metadata": {
  "kernelspec": {
   "display_name": "GJ2",
   "language": "python",
   "name": "python3"
  },
  "language_info": {
   "codemirror_mode": {
    "name": "ipython",
    "version": 3
   },
   "file_extension": ".py",
   "mimetype": "text/x-python",
   "name": "python",
   "nbconvert_exporter": "python",
   "pygments_lexer": "ipython3",
   "version": "3.12.8"
  }
 },
 "nbformat": 4,
 "nbformat_minor": 5
}
