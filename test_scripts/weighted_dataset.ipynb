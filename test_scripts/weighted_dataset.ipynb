{
 "cells": [
  {
   "cell_type": "code",
   "execution_count": 1,
   "id": "72ddc181",
   "metadata": {},
   "outputs": [],
   "source": [
    "import  torch\n",
    "\n",
    "import  append_path\n",
    "from    train_utils.dataloaders     import  WeightedDataset"
   ]
  },
  {
   "cell_type": "code",
   "execution_count": 2,
   "id": "f3ff3d42",
   "metadata": {},
   "outputs": [],
   "source": [
    "dataset = WeightedDataset(\n",
    "    rf\"/media/junseung/47a90e46-3a9d-467c-bbee-066752b68532/GWANGJAE/datasets_kinetic/Boltzmann_2D/biMaxwellian/coeff1.59e-01/res032\",\n",
    "    32,\n",
    "    torch.linspace(0, 1, 5),\n",
    "    torch.arange(1, 3+1),\n",
    "    torch.double,\n",
    "    True,\n",
    "    1.0\n",
    ")"
   ]
  },
  {
   "cell_type": "code",
   "execution_count": 7,
   "id": "d69f18cb",
   "metadata": {},
   "outputs": [
    {
     "data": {
      "text/plain": [
       "tensor([[-0.7199, -0.7361, -0.7523,  ..., -1.4000, -1.4125, -1.4250],\n",
       "        [-0.8835, -0.9013, -0.9192,  ..., -1.6218, -1.6350, -1.6481],\n",
       "        [-1.1949, -1.2102, -1.2253,  ..., -1.8394, -1.8513, -1.8631],\n",
       "        ...,\n",
       "        [-0.2750, -0.3388, -0.4021,  ..., -1.7326, -1.7277, -1.7229],\n",
       "        [-0.3816, -0.4446, -0.5069,  ..., -2.6156, -2.6550, -2.6943],\n",
       "        [-0.8317, -0.8669, -0.9018,  ..., -2.3539, -2.3847, -2.4155]],\n",
       "       dtype=torch.float64)"
      ]
     },
     "execution_count": 7,
     "metadata": {},
     "output_type": "execute_result"
    }
   ],
   "source": [
    "dataset._WeightedDataset__scores"
   ]
  },
  {
   "cell_type": "code",
   "execution_count": null,
   "id": "3a9fd93f",
   "metadata": {},
   "outputs": [],
   "source": []
  }
 ],
 "metadata": {
  "kernelspec": {
   "display_name": "GJ2",
   "language": "python",
   "name": "python3"
  },
  "language_info": {
   "codemirror_mode": {
    "name": "ipython",
    "version": 3
   },
   "file_extension": ".py",
   "mimetype": "text/x-python",
   "name": "python",
   "nbconvert_exporter": "python",
   "pygments_lexer": "ipython3",
   "version": "3.12.8"
  }
 },
 "nbformat": 4,
 "nbformat_minor": 5
}
