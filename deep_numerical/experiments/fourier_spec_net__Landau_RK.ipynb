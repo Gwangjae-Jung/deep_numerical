{
 "cells": [
  {
   "cell_type": "code",
   "execution_count": 1,
   "id": "e845a696",
   "metadata": {},
   "outputs": [],
   "source": [
    "from    tqdm.notebook   import  tqdm\n",
    "import  matplotlib.pyplot   as  plt\n",
    "\n",
    "import  torch\n",
    "from    pathlib         import  Path\n",
    "path_root = Path(r\"/media/junseung/47a90e46-3a9d-467c-bbee-066752b68532/GWANGJAE\")\n",
    "path_lib  = path_root / \"python_deep_numerical\"\n",
    "from    sys     import  path\n",
    "path.append(str(path_lib))\n",
    "from    pytorch.torch_numerical     import utils, distribution\n",
    "from    pytorch.layers              import FourierLandauLayer\n",
    "\n",
    "\n",
    "dtype = torch.float\n",
    "device = torch.device(\"cuda:0\" if torch.cuda.is_available() else \"cpu\")"
   ]
  },
  {
   "cell_type": "code",
   "execution_count": 2,
   "id": "0d16c33f",
   "metadata": {},
   "outputs": [
    {
     "data": {
      "text/plain": [
       "FourierLandauLayer()"
      ]
     },
     "execution_count": 2,
     "metadata": {},
     "output_type": "execute_result"
    }
   ],
   "source": [
    "specnet = FourierLandauLayer(2, 8)\n",
    "specnet.load_state_dict(torch.load(r\"/media/junseung/47a90e46-3a9d-467c-bbee-066752b68532/GWANGJAE/datasets/Landau__alpha_0__res_64__specnet__deg_8.pth\", weights_only=False))\n",
    "specnet = specnet.to(device)\n",
    "specnet.eval()"
   ]
  },
  {
   "cell_type": "code",
   "execution_count": 3,
   "id": "b60a36d0",
   "metadata": {},
   "outputs": [
    {
     "name": "stdout",
     "output_type": "stream",
     "text": [
      "----------[ BKW solution ]----------\n",
      "* coeff_ext: 0.5\n",
      "* coeff_int: 2.0\n",
      "------------------------------------\n",
      "torch.Size([1, 1, 1, 128, 128, 1])\n"
     ]
    }
   ],
   "source": [
    "arr_t = torch.linspace(0, 1, 5001, device=device, dtype=dtype)\n",
    "delta_t = float((arr_t[1]-arr_t[0]).cpu())\n",
    "arr_v = utils.velocity_grid(2, 128, 3/utils.LAMBDA, device=device, dtype=dtype)\n",
    "bkw_sol = distribution.bkw(arr_t, arr_v, 1.0, 0.5, equation='fpl')\n",
    "bkw_init = bkw_sol[:, 0]\n",
    "print(bkw_init.shape)"
   ]
  },
  {
   "cell_type": "code",
   "execution_count": 4,
   "id": "2b1179e7",
   "metadata": {},
   "outputs": [
    {
     "data": {
      "application/vnd.jupyter.widget-view+json": {
       "model_id": "18b560bff5354110aecc38649588a725",
       "version_major": 2,
       "version_minor": 0
      },
      "text/plain": [
       "  0%|          | 0/5000 [00:00<?, ?it/s]"
      ]
     },
     "metadata": {},
     "output_type": "display_data"
    }
   ],
   "source": [
    "arr_f = bkw_init\n",
    "arr_f_fft = torch.fft.fftn(arr_f, dim=(-3,-2), norm='forward')\n",
    "\n",
    "# k1  = derivative(t_curr, y_curr)\n",
    "# k2  = derivative(t_curr + (2/3)*delta_t, y_curr + (2/3)*delta_t*k1)\n",
    "# return y_curr + delta_t * (k1 + 3*k2) / 4\n",
    "\n",
    "arr_distribution: list[torch.Tensor] = [arr_f.cpu()]\n",
    "for t_next in tqdm(arr_t[1:]):\n",
    "    k1 = specnet.forward(arr_f_fft)\n",
    "    k2 = specnet.forward(arr_f_fft + (2/3)*delta_t*k1)\n",
    "    arr_f_fft = arr_f_fft + delta_t * (k1+3*k2)/4\n",
    "    arr_f = torch.fft.ifftn(arr_f_fft, dim=(-3,-2), norm='forward').real\n",
    "    arr_distribution.append(arr_f.cpu())\n",
    "    del(k1, k2)\n",
    "\n",
    "arr_distribution = torch.stack(arr_distribution, dim=1)"
   ]
  },
  {
   "cell_type": "code",
   "execution_count": 7,
   "id": "fa19743e",
   "metadata": {},
   "outputs": [
    {
     "name": "stdout",
     "output_type": "stream",
     "text": [
      "torch.Size([5001])\n"
     ]
    }
   ],
   "source": [
    "rel_error = utils.relative_error(arr_distribution[0], bkw_sol.cpu()[0])\n",
    "print(rel_error.shape)"
   ]
  },
  {
   "cell_type": "code",
   "execution_count": 8,
   "id": "54f9e8ca",
   "metadata": {},
   "outputs": [
    {
     "data": {
      "image/png": "[encoded data removed]",
      "text/plain": [
       "<Figure size 640x480 with 1 Axes>"
      ]
     },
     "metadata": {},
     "output_type": "display_data"
    }
   ],
   "source": [
    "plt.plot(arr_t.cpu(), rel_error.detach().cpu())\n",
    "# plt.xlim((0,0.3))\n",
    "plt.ylim((1e-3, 1e+1))\n",
    "plt.yscale('log')\n",
    "plt.show()"
   ]
  },
  {
   "cell_type": "code",
   "execution_count": null,
   "id": "4a48bb33",
   "metadata": {},
   "outputs": [],
   "source": []
  },
  {
   "cell_type": "code",
   "execution_count": null,
   "id": "ae442474",
   "metadata": {},
   "outputs": [],
   "source": []
  }
 ],
 "metadata": {
  "kernelspec": {
   "display_name": "GJ2",
   "language": "python",
   "name": "python3"
  },
  "language_info": {
   "codemirror_mode": {
    "name": "ipython",
    "version": 3
   },
   "file_extension": ".py",
   "mimetype": "text/x-python",
   "name": "python",
   "nbconvert_exporter": "python",
   "pygments_lexer": "ipython3",
   "version": "undefined.undefined.undefined"
  }
 },
 "nbformat": 4,
 "nbformat_minor": 5
}
