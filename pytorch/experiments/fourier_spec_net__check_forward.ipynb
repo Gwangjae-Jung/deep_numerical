{
 "cells": [
  {
   "cell_type": "code",
   "execution_count": 1,
   "id": "e638dc27",
   "metadata": {},
   "outputs": [
    {
     "name": "stdout",
     "output_type": "stream",
     "text": [
      "Device for computation\n",
      ">>> cuda:2\n"
     ]
    }
   ],
   "source": [
    "from    typing              import  *\n",
    "from    typing_extensions   import  Self\n",
    "\n",
    "from    tqdm.notebook       import  tqdm\n",
    "\n",
    "import  numpy               as  np\n",
    "import  matplotlib.pyplot   as  plt\n",
    "\n",
    "import  torch\n",
    "from    torch.utils.data    import  Dataset, DataLoader\n",
    "\n",
    "\n",
    "from    pathlib             import  Path\n",
    "root_dir    = r\"/media/junseung/47a90e46-3a9d-467c-bbee-066752b68532/GWANGJAE\"\n",
    "path_root   = Path(root_dir)\n",
    "path_lib    = path_root / \"python_deep_numerical\"\n",
    "path_data   = path_root / \"datasets\"\n",
    "\n",
    "import  sys\n",
    "sys.path.append( str(path_lib) )\n",
    "from    pytorch.layers                  import  FourierBoltzmannLayer\n",
    "from    pytorch.torch_numerical         import  utils\n",
    "from    pytorch.torch_numerical.solvers import  FastSM_Boltzmann_VHS\n",
    "\n",
    "\n",
    "dtype  = torch.float32\n",
    "dtype_complex = utils.dtype_real_to_complex(dtype)\n",
    "device = torch.device('cuda:2')\n",
    "__dtype_str = str(dtype).split(\".\")[-1]\n",
    "dtype_and_device = {'dtype': dtype, 'device': device}\n",
    "print(f\"Device for computation\\n>>> {device}\")"
   ]
  },
  {
   "cell_type": "code",
   "execution_count": 2,
   "id": "27c4ed6c",
   "metadata": {},
   "outputs": [
    {
     "name": "stdout",
     "output_type": "stream",
     "text": [
      "Loading data from\n",
      ">>> /media/junseung/47a90e46-3a9d-467c-bbee-066752b68532/GWANGJAE/datasets/float32/test__Boltzmann__alpha_0__res_32.npz\n"
     ]
    }
   ],
   "source": [
    "DIMENSION:  int     = 2\n",
    "RESOLUTION: int     = 32\n",
    "VHS_ALPHA:  float   = 0.0\n",
    "\n",
    "_file = path_data / f\"{__dtype_str}/test__Boltzmann__alpha_{int(VHS_ALPHA)}__res_{RESOLUTION}.npz\"\n",
    "print(f\"Loading data from\\n>>> {_file}\")\n",
    "file = np.load(_file)\n",
    "\n",
    "V_MAX:      float   = float(file['v_max'])\n",
    "DELTA_V:    float   = (2*V_MAX) / RESOLUTION\n",
    "FFT_NORM:   str     = 'forward'\n",
    "\n",
    "VHS_COEFF:  float   = file['vhs_coeff']"
   ]
  },
  {
   "cell_type": "code",
   "execution_count": 3,
   "id": "52999534",
   "metadata": {},
   "outputs": [],
   "source": [
    "class CustomDataset(Dataset):\n",
    "    def __init__(\n",
    "            self,\n",
    "            distr:      torch.Tensor,\n",
    "            gain_fft:   torch.Tensor,\n",
    "            loss_fft:   torch.Tensor,\n",
    "            vhs_alpha:  Optional[torch.Tensor]  = None,\n",
    "            dim:        Optional[int]           = None,\n",
    "            squeeze_space: bool = False,\n",
    "        ) -> Self:\n",
    "        self.dim:       int                         = dim\n",
    "        self.distr:     torch.Tensor                = distr\n",
    "        self.gain_fft:  torch.Tensor                = gain_fft\n",
    "        self.loss_fft:  torch.Tensor                = loss_fft\n",
    "        self.vhs_alpha: Optional[torch.Tensor]      = vhs_alpha\n",
    "        self.__fft_dim: tuple[int] = tuple(range(1+dim, 1+2*dim))\n",
    "        \n",
    "        if squeeze_space:\n",
    "            self.distr      = self.distr.reshape(distr.size(0), *distr.shape[-1-dim:])\n",
    "            self.gain_fft   = self.gain_fft.reshape(gain_fft.size(0), *gain_fft.shape[-1-dim:])\n",
    "            self.loss_fft   = self.loss_fft.reshape(loss_fft.size(0), *loss_fft.shape[-1-dim:])\n",
    "            self.__fft_dim  = tuple(range(1, 1+dim))\n",
    "            \n",
    "        return\n",
    "    \n",
    "    \n",
    "    def __getitem__(self, index: int) -> tuple[torch.Tensor]:\n",
    "        if self.vhs_alpha:\n",
    "            return self.distr[index], self.gain_fft[index], self.loss_fft[index], self.vhs_alpha[index]\n",
    "        else:\n",
    "            return self.distr[index], self.gain_fft[index], self.loss_fft[index]\n",
    "    \n",
    "    def __len__(self) -> int:\n",
    "        return self.distr.size(0)\n",
    "    \n",
    "    \n",
    "    @property\n",
    "    def fft_dim(self) -> tuple[int]:\n",
    "        return self.__fft_dim"
   ]
  },
  {
   "cell_type": "code",
   "execution_count": 4,
   "id": "9b2495ed",
   "metadata": {},
   "outputs": [],
   "source": [
    "dataset  = CustomDataset(\n",
    "    torch.tensor(file['data'], dtype=dtype),\n",
    "    torch.tensor(file['gain_fft'], dtype=dtype_complex),\n",
    "    torch.tensor(file['loss_fft'], dtype=dtype_complex),\n",
    "    dim=DIMENSION,\n",
    "    squeeze_space=False,\n",
    ")\n",
    "dataloader  = DataLoader(dataset, batch_size=32, shuffle=True)\n",
    "FFT_DIM = dataset.fft_dim"
   ]
  },
  {
   "cell_type": "code",
   "execution_count": 5,
   "id": "46d87dea",
   "metadata": {},
   "outputs": [
    {
     "name": "stdout",
     "output_type": "stream",
     "text": [
      "fsm_phase_1 : torch.complex64      torch.Size([32, 32, 1, 50, 25])\n",
      "fsm_phase_2 : torch.complex64      torch.Size([32, 32, 1, 50, 25])\n",
      "fsm_scale   : torch.float32        torch.Size([32, 32, 1, 50, 1])\n",
      "torch.Size([32, 32, 1, 50, 25])\n",
      "torch.Size([32, 32, 1, 50, 25])\n",
      "torch.Size([32, 32, 1, 50, 1])\n"
     ]
    }
   ],
   "source": [
    "sm_object   = FastSM_Boltzmann_VHS(\n",
    "    dimension   = DIMENSION,\n",
    "    v_num_grid  = RESOLUTION,\n",
    "    v_max       = V_MAX,\n",
    "    vhs_alpha   = 0.0,\n",
    "    vhs_coeff   = VHS_COEFF,\n",
    "    \n",
    "    quad_order_uniform  = 25,\n",
    "    quad_order_legendre = 50,\n",
    "    quad_order_lebedev  = 7,\n",
    "    \n",
    "    dtype   = dtype,\n",
    "    device  = device,\n",
    ")\n",
    "n_weights   = sm_object.approximation_level\n",
    "specnet     = FourierBoltzmannLayer(DIMENSION, RESOLUTION//2, n_channels=1, n_weights=n_weights).to(device)\n",
    "specnet.eval()\n",
    "\n",
    "for _name, _t in zip(\n",
    "        (\"fsm_phase_1\", \"fsm_phase_2\", \"fsm_scale\"),\n",
    "        (sm_object.fsm_phase_1, sm_object.fsm_phase_2, sm_object.fsm_scale)\n",
    "    ):\n",
    "    print(f\"{_name:12s}: {str(_t.dtype):20s} {str(_t.shape)}\")\n",
    "print(sm_object.fsm_phase_1.shape)\n",
    "print(sm_object.fsm_phase_2.shape)\n",
    "print(sm_object.fsm_scale.shape)"
   ]
  },
  {
   "cell_type": "code",
   "execution_count": 6,
   "id": "662ef6c5",
   "metadata": {},
   "outputs": [
    {
     "name": "stdout",
     "output_type": "stream",
     "text": [
      "==============================< FourierBoltzmannLayer >==============================\n",
      "[ Subnetworks ]\n",
      "\n",
      "-------------------------------------------------------------------------------------\n",
      "[ Parameters ]\n",
      "\n",
      "( params_alpha )\n",
      "* Shape:       [32, 32, 1, 1250]\n",
      "* Data type:   torch.complex64\n",
      "( params_beta )\n",
      "* Shape:       [32, 32, 1, 1250]\n",
      "* Data type:   torch.complex64\n",
      "( params_gamma )\n",
      "* Shape:       [32, 32, 1, 1250]\n",
      "* Data type:   torch.complex64\n",
      "( params_diag )\n",
      "* Shape:       [32, 32, 1]\n",
      "* Data type:   torch.complex64\n",
      "-------------------------------------------------------------------------------------\n",
      "Number of parameters: 7682048\n",
      "=====================================================================================\n"
     ]
    }
   ],
   "source": [
    "_rep = (*utils.ones(DIMENSION+2), sm_object.fsm_phase_1.size(-1))\n",
    "param_scale     = sm_object.fsm_scale.repeat(_rep).reshape(specnet.params_gamma.shape)\n",
    "param_phase_1   = sm_object.fsm_phase_1.reshape(specnet.params_alpha.shape)\n",
    "param_phase_2   = sm_object.fsm_phase_2.reshape(specnet.params_beta.shape)\n",
    "param_diag      = sm_object.kernel_diag.reshape(specnet.params_diag.shape)\n",
    "param_scale     = param_scale.type(dtype_complex).to(device)\n",
    "param_phase_1   = param_phase_1.type(dtype_complex).to(device)\n",
    "param_phase_2   = param_phase_2.type(dtype_complex).to(device)\n",
    "param_diag      = param_diag.type(dtype_complex).to(device)\n",
    "\n",
    "specnet.params_gamma.data   = param_scale\n",
    "specnet.params_alpha.data   = param_phase_1\n",
    "specnet.params_beta.data    = param_phase_2\n",
    "specnet.params_diag.data    = param_diag\n",
    "\n",
    "print(specnet)"
   ]
  },
  {
   "cell_type": "code",
   "execution_count": 23,
   "id": "7883a558",
   "metadata": {},
   "outputs": [
    {
     "name": "stdout",
     "output_type": "stream",
     "text": [
      "tensor(0., device='cuda:2')\n"
     ]
    }
   ],
   "source": [
    "gain_newshape = (*utils.repeat(RESOLUTION, DIMENSION), 1, 50, 25)\n",
    "loss_newshape  = (*utils.repeat(RESOLUTION, DIMENSION), 1)\n",
    "__u = param_scale.reshape(gain_newshape)[..., [0]]\n",
    "__v = sm_object.fsm_scale\n",
    "\n",
    "__u = param_phase_1.reshape(gain_newshape)\n",
    "__v = sm_object.fsm_phase_1\n",
    "\n",
    "__u = param_phase_2.reshape(gain_newshape)\n",
    "__v = sm_object.fsm_phase_2\n",
    "\n",
    "__u = param_diag.reshape(loss_newshape)\n",
    "__v = sm_object.kernel_diag\n",
    "\n",
    "assert __u.shape == __v.shape, f\"Shape mismatch: {__u.shape} vs {__v.shape}\"\n",
    "\n",
    "print((__u-__v).norm(p=torch.inf))"
   ]
  },
  {
   "cell_type": "code",
   "execution_count": null,
   "id": "6c428413",
   "metadata": {},
   "outputs": [],
   "source": []
  },
  {
   "cell_type": "code",
   "execution_count": null,
   "id": "6df80afc",
   "metadata": {},
   "outputs": [],
   "source": []
  },
  {
   "cell_type": "code",
   "execution_count": 24,
   "id": "465e8b4a",
   "metadata": {},
   "outputs": [
    {
     "data": {
      "application/vnd.jupyter.widget-view+json": {
       "model_id": "08b4e0771c6d48efbb5448da5173ddf5",
       "version_major": 2,
       "version_minor": 0
      },
      "text/plain": [
       "  0%|          | 0/94 [00:00<?, ?it/s]"
      ]
     },
     "metadata": {},
     "output_type": "display_data"
    },
    {
     "name": "stdout",
     "output_type": "stream",
     "text": [
      "Absolute error:         2.2053e-08\n",
      "Relative error:         1.2203e-02\n",
      "\n",
      "Absolute error gain:    9.4282e-10\n",
      "Relative error gain:    3.7024e-08\n",
      "\n",
      "Absolute error loss:    1.0909e-14\n",
      "Relative error loss:    2.9041e-13\n"
     ]
    }
   ],
   "source": [
    "abs_error:  float = 0.0\n",
    "rel_error:  float = 0.0\n",
    "abs_error_gain: float = 0.0\n",
    "rel_error_gain: float = 0.0\n",
    "abs_error_loss: float = 0.0\n",
    "rel_error_loss: float = 0.0\n",
    "norms_Q:    list[torch.Tensor] = []\n",
    "\n",
    "dv = DELTA_V**DIMENSION\n",
    "\n",
    "data:       torch.Tensor\n",
    "gain_fft:   torch.Tensor\n",
    "loss_fft:   torch.Tensor\n",
    "for data, gain_fft, loss_fft in tqdm(dataloader):\n",
    "    data        = data.to(device)\n",
    "    gain_fft    = gain_fft.to(device)\n",
    "    loss_fft    = loss_fft.to(device)\n",
    "    target_collision:   torch.Tensor = torch.fft.ifftn(gain_fft-loss_fft, dim=FFT_DIM, norm=FFT_NORM).real\n",
    "\n",
    "    data_fft:   torch.Tensor = torch.fft.fftn(data, dim=FFT_DIM, norm=FFT_NORM)\n",
    "    # pred_gain_fft = sm_object.compute_gain_fft(None, data_fft)\n",
    "    # pred_loss_fft = sm_object.compute_loss_fft(None, data_fft)\n",
    "    pred_gain_fft = specnet.compute_gain_fft(data_fft)\n",
    "    pred_loss_fft = specnet.compute_loss_fft(data_fft)\n",
    "    pred_fft = pred_gain_fft - pred_loss_fft\n",
    "    pred_collision:     torch.Tensor = torch.fft.ifftn(pred_fft, dim=FFT_DIM, norm=FFT_NORM).real\n",
    "\n",
    "    assert pred_collision.shape == target_collision.shape, f\"Shape mismatch: {pred_collision.shape} vs {target_collision.shape}\"\n",
    "    abs_error += utils.absolute_error(pred_collision, target_collision).sum().item()\n",
    "    rel_error += utils.relative_error(pred_collision, target_collision).sum().item()\n",
    "    norms_Q.append(target_collision.reshape(target_collision.size(0), -1).norm(p=2, dim=-1) * dv)\n",
    "    abs_error_gain += utils.absolute_error(pred_gain_fft, gain_fft).sum().item()\n",
    "    rel_error_gain += utils.relative_error(pred_gain_fft, gain_fft).sum().item()\n",
    "    abs_error_loss += utils.absolute_error(pred_loss_fft, loss_fft).sum().item()\n",
    "    rel_error_loss += utils.relative_error(pred_loss_fft, loss_fft).sum().item()\n",
    "\n",
    "__abs_scale = dv/len(dataset)\n",
    "__rel_scale = 1.0/len(dataset)\n",
    "abs_error       *= __abs_scale\n",
    "rel_error       *= __rel_scale\n",
    "abs_error_gain  *= __abs_scale\n",
    "rel_error_gain  *= __rel_scale\n",
    "abs_error_loss  *= __abs_scale\n",
    "rel_error_loss  *= __rel_scale\n",
    "norms_Q = torch.cat(norms_Q, dim=0)\n",
    "print(f\"Absolute error:         {abs_error:.4e}\")\n",
    "print(f\"Relative error:         {rel_error:.4e}\")\n",
    "print()\n",
    "print(f\"Absolute error gain:    {abs_error_gain:.4e}\")\n",
    "print(f\"Relative error gain:    {rel_error_gain:.4e}\")\n",
    "print()\n",
    "print(f\"Absolute error loss:    {abs_error_loss:.4e}\")\n",
    "print(f\"Relative error loss:    {rel_error_loss:.4e}\")"
   ]
  },
  {
   "cell_type": "code",
   "execution_count": null,
   "id": "3867b064",
   "metadata": {},
   "outputs": [
    {
     "data": {
      "image/png": "[encoded data removed]",
      "text/plain": [
       "<Figure size 1600x500 with 6 Axes>"
      ]
     },
     "metadata": {},
     "output_type": "display_data"
    }
   ],
   "source": [
    "idx = torch.randint(0, len(data), (1,)).item()\n",
    "fig, axes = plt.subplots(1, 3, figsize=(16, 5))\n",
    "d1 = pred_collision[idx].reshape(RESOLUTION, RESOLUTION).detach().cpu().numpy()\n",
    "d2 = target_collision[idx].reshape(RESOLUTION, RESOLUTION).detach().cpu().numpy()\n",
    "d3 = (pred_collision-target_collision)[idx].reshape(RESOLUTION, RESOLUTION).detach().cpu().numpy()\n",
    "fig.colorbar(axes[0].imshow(d1))\n",
    "fig.colorbar(axes[1].imshow(d2))\n",
    "fig.colorbar(axes[2].imshow(np.abs(d3)))\n",
    "plt.show()"
   ]
  },
  {
   "cell_type": "code",
   "execution_count": null,
   "id": "8e050a6e",
   "metadata": {},
   "outputs": [
    {
     "data": {
      "image/png": "[encoded data removed]",
      "text/plain": [
       "<Figure size 640x480 with 1 Axes>"
      ]
     },
     "metadata": {},
     "output_type": "display_data"
    }
   ],
   "source": [
    "plt.hist(torch.log10(norms_Q).detach().cpu(), bins=100)\n",
    "plt.show()"
   ]
  },
  {
   "cell_type": "markdown",
   "id": "c8215f12",
   "metadata": {},
   "source": [
    "End of file"
   ]
  }
 ],
 "metadata": {
  "kernelspec": {
   "display_name": "GJ2",
   "language": "python",
   "name": "python3"
  },
  "language_info": {
   "codemirror_mode": {
    "name": "ipython",
    "version": 3
   },
   "file_extension": ".py",
   "mimetype": "text/x-python",
   "name": "python",
   "nbconvert_exporter": "python",
   "pygments_lexer": "ipython3",
   "version": "3.12.8"
  }
 },
 "nbformat": 4,
 "nbformat_minor": 5
}
