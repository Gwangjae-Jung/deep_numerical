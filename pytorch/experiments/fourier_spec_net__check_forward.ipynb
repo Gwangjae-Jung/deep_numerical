{
 "cells": [
  {
   "cell_type": "code",
   "execution_count": 1,
   "id": "e638dc27",
   "metadata": {},
   "outputs": [
    {
     "name": "stdout",
     "output_type": "stream",
     "text": [
      "Device for computation\n",
      ">>> cpu\n"
     ]
    }
   ],
   "source": [
    "from    typing              import  *\n",
    "from    typing_extensions   import  Self\n",
    "\n",
    "import  sys\n",
    "from    tqdm.notebook       import  tqdm\n",
    "\n",
    "import  numpy               as  np\n",
    "import  matplotlib.pyplot   as  plt\n",
    "\n",
    "import  torch\n",
    "from    torch.utils.data    import  Dataset, DataLoader\n",
    "\n",
    "root_dir = r\"E:\\_____custom_modules\\python_custom_modules\"\n",
    "get_dir = lambda from_root: '/'.join((root_dir, from_root))\n",
    "sys.path.append( root_dir )\n",
    "from    pytorch.layers    import  FourierBoltzmannLayer\n",
    "from    pytorch.torch_numerical         import  utils\n",
    "from    pytorch.torch_numerical.solvers import  FastSM_Boltzmann_VHS\n",
    "\n",
    "\n",
    "dtype  = torch.float32\n",
    "dtype_complex = utils.dtype_real_to_complex(dtype)\n",
    "device = torch.device('cpu')\n",
    "__dtype_str = str(dtype).split(\".\")[-1]\n",
    "dtype_and_device = {'dtype': dtype, 'device': device}\n",
    "print(f\"Device for computation\\n>>> {device}\")"
   ]
  },
  {
   "cell_type": "code",
   "execution_count": 2,
   "id": "27c4ed6c",
   "metadata": {},
   "outputs": [],
   "source": [
    "DIMENSION:  int     = 2\n",
    "RESOLUTION: int     = 16\n",
    "VHS_ALPHA:  float   = 0.0\n",
    "file = np.load(get_dir(f\"data/datasets__{__dtype_str}/Boltzmann__alpha_{int(VHS_ALPHA)}__res_{RESOLUTION}.npz\"))\n",
    "\n",
    "V_MAX:      float   = float(file['v_max'])\n",
    "DELTA_V:    float   = (2*V_MAX) / RESOLUTION\n",
    "v_grid              = utils.velocity_grid(DIMENSION, RESOLUTION, V_MAX, **dtype_and_device)\n",
    "FFT_AXES:   tuple[int]  = tuple(range(-(1+DIMENSION), -1))\n",
    "FFT_NORM:   str     = 'forward'\n",
    "\n",
    "VHS_COEFF:  float   = file['vhs_coeff']"
   ]
  },
  {
   "cell_type": "code",
   "execution_count": 3,
   "id": "52999534",
   "metadata": {},
   "outputs": [],
   "source": [
    "class CustomDataset(Dataset):\n",
    "    def __init__(\n",
    "            self,\n",
    "            distr:      torch.Tensor,\n",
    "            gain_fft:   torch.Tensor,\n",
    "            loss_fft:   torch.Tensor,\n",
    "            vhs_alpha:  Optional[torch.Tensor]  = None,\n",
    "            dim:        Optional[int]           = None,\n",
    "            squeeze_space: bool = False,\n",
    "        ) -> Self:\n",
    "        self.dim:       int                         = dim\n",
    "        self.distr:     torch.Tensor                = distr\n",
    "        self.gain_fft:  torch.Tensor                = gain_fft\n",
    "        self.loss_fft:  torch.Tensor                = loss_fft\n",
    "        self.vhs_alpha: Optional[torch.Tensor]      = vhs_alpha\n",
    "        \n",
    "        if squeeze_space:\n",
    "            self.distr      = self.distr.reshape(distr.size(0), *distr.shape[-1-dim:])\n",
    "            self.gain_fft   = self.gain_fft.reshape(gain_fft.size(0), *gain_fft.shape[-1-dim:])\n",
    "            self.loss_fft   = self.loss_fft.reshape(loss_fft.size(0), *loss_fft.shape[-1-dim:])\n",
    "            \n",
    "        return\n",
    "    \n",
    "    \n",
    "    def __getitem__(self, index: int) -> tuple[torch.Tensor]:\n",
    "        if self.vhs_alpha:\n",
    "            return self.distr[index], self.gain_fft[index], self.loss_fft[index], self.vhs_alpha[index]\n",
    "        else:\n",
    "            return self.distr[index], self.gain_fft[index], self.loss_fft[index]\n",
    "    \n",
    "    def __len__(self) -> int:\n",
    "        return self.distr.size(0)"
   ]
  },
  {
   "cell_type": "code",
   "execution_count": 4,
   "id": "9b2495ed",
   "metadata": {},
   "outputs": [],
   "source": [
    "dataset  = CustomDataset(\n",
    "    torch.tensor(file['data'], dtype=dtype),\n",
    "    torch.tensor(file['gain_fft'], dtype=dtype_complex),\n",
    "    torch.tensor(file['loss_fft'], dtype=dtype_complex),\n",
    "    dim=2,\n",
    "    squeeze_space=False,\n",
    ")\n",
    "dataloader  = DataLoader(dataset, batch_size=512, shuffle=True)"
   ]
  },
  {
   "cell_type": "code",
   "execution_count": 5,
   "id": "46d87dea",
   "metadata": {},
   "outputs": [
    {
     "name": "stdout",
     "output_type": "stream",
     "text": [
      "torch.Size([16, 16, 1, 50, 1])\n",
      "torch.Size([16, 16, 1, 50, 25])\n",
      "==============================< FourierBoltzmannLayer >==============================\n",
      "[ Subnetworks ]\n",
      "\n",
      "-------------------------------------------------------------------------------------\n",
      "[ Parameters ]\n",
      "\n",
      "( params_alpha )\n",
      "* Shape:       [16, 16, 1, 1250]\n",
      "* Data type:   torch.complex64\n",
      "( params_beta )\n",
      "* Shape:       [16, 16, 1, 1250]\n",
      "* Data type:   torch.complex64\n",
      "( params_gamma )\n",
      "* Shape:       [16, 16, 1, 1250]\n",
      "* Data type:   torch.complex64\n",
      "( params_diag )\n",
      "* Shape:       [16, 16, 1]\n",
      "* Data type:   torch.complex64\n",
      "-------------------------------------------------------------------------------------\n",
      "Number of parameters: 1920512\n",
      "=====================================================================================\n"
     ]
    }
   ],
   "source": [
    "sm_object   = FastSM_Boltzmann_VHS(DIMENSION, RESOLUTION, V_MAX, vhs_coeff=VHS_COEFF, vhs_alpha=VHS_ALPHA, dtype=dtype, device=device, quad_order_uniform  = 25,\n",
    "    quad_order_legendre = 50,\n",
    "    quad_order_lebedev  = 7,)\n",
    "n_weights   = sm_object.approximation_level\n",
    "specnet     = FourierBoltzmannLayer(DIMENSION, RESOLUTION//2, n_channels=1, n_weights=n_weights).to(device)\n",
    "specnet.eval()\n",
    "\n",
    "print(sm_object.fsm_scale.shape)\n",
    "print(sm_object.fsm_phase.shape)\n",
    "_rep = sm_object.fsm_phase.size(-1)\n",
    "param_scale = sm_object.fsm_scale.repeat((*utils.ones(DIMENSION+1), 1, _rep)).reshape(specnet.params_gamma.shape).type(dtype_complex).to(device)\n",
    "param_phase = sm_object.fsm_phase.reshape(specnet.params_alpha.shape).type(dtype_complex).to(device)\n",
    "param_diag  = sm_object.kernel_diag.reshape(specnet.params_diag.shape).type(dtype_complex).to(device)\n",
    "specnet.params_gamma.data   = param_scale\n",
    "specnet.params_alpha.data   = param_phase\n",
    "specnet.params_beta.data    = param_phase.clone().conj()\n",
    "specnet.params_diag.data    = param_diag\n",
    "\n",
    "print(specnet)"
   ]
  },
  {
   "cell_type": "code",
   "execution_count": 9,
   "id": "465e8b4a",
   "metadata": {},
   "outputs": [
    {
     "data": {
      "application/vnd.jupyter.widget-view+json": {
       "model_id": "890e2e756c37417da39eddfae3ec3aea",
       "version_major": 2,
       "version_minor": 0
      },
      "text/plain": [
       "  0%|          | 0/6 [00:00<?, ?it/s]"
      ]
     },
     "metadata": {},
     "output_type": "display_data"
    },
    {
     "name": "stdout",
     "output_type": "stream",
     "text": [
      "pred_collision.shape=torch.Size([512, 1, 1, 16, 16, 1])\n",
      "pred_collision.shape=torch.Size([512, 1, 1, 16, 16, 1])\n",
      "pred_collision.shape=torch.Size([512, 1, 1, 16, 16, 1])\n",
      "pred_collision.shape=torch.Size([512, 1, 1, 16, 16, 1])\n",
      "pred_collision.shape=torch.Size([512, 1, 1, 16, 16, 1])\n",
      "pred_collision.shape=torch.Size([440, 1, 1, 16, 16, 1])\n",
      "Absolute error:         0.0000e+00\n",
      "Relative error:         0.0000e+00\n",
      "Absolute error gain:    0.0000e+00\n",
      "Relative error gain:    0.0000e+00\n",
      "Absolute error loss:    0.0000e+00\n",
      "Relative error loss:    0.0000e+00\n"
     ]
    }
   ],
   "source": [
    "abs_error:  float = 0.0\n",
    "rel_error:  float = 0.0\n",
    "abs_error_gain: float = 0.0\n",
    "rel_error_gain: float = 0.0\n",
    "abs_error_loss: float = 0.0\n",
    "rel_error_loss: float = 0.0\n",
    "norms_Q:    list[torch.Tensor] = []\n",
    "\n",
    "dv = DELTA_V**DIMENSION\n",
    "\n",
    "data:       torch.Tensor\n",
    "gain_fft:   torch.Tensor\n",
    "loss_fft:   torch.Tensor\n",
    "for data, gain_fft, loss_fft in tqdm(dataloader):\n",
    "    data        = data.to(device)\n",
    "    gain_fft    = gain_fft.to(device)\n",
    "    loss_fft    = loss_fft.to(device)\n",
    "    target_collision:   torch.Tensor = torch.fft.ifftn(gain_fft-loss_fft, dim=FFT_AXES, norm=FFT_NORM).real\n",
    "\n",
    "    data_fft:   torch.Tensor = torch.fft.fftn(data, dim=FFT_AXES, norm=FFT_NORM)\n",
    "    # pred_gain_fft = sm_object.compute_gain_fft(None, data_fft)\n",
    "    # pred_loss_fft = sm_object.compute_loss_fft(None, data_fft)\n",
    "    pred_gain_fft = specnet.compute_gain_fft(data_fft)\n",
    "    pred_loss_fft = specnet.compute_loss_fft(data_fft)\n",
    "    pred_fft = pred_gain_fft - pred_loss_fft\n",
    "    pred_collision:     torch.Tensor = torch.fft.ifftn(pred_fft, dim=FFT_AXES, norm=FFT_NORM).real\n",
    "    \n",
    "    print(f\"{pred_collision.shape=}\")\n",
    "\n",
    "    abs_error += utils.absolute_error(pred_collision, target_collision).sum().item()\n",
    "    rel_error += utils.relative_error(pred_collision, target_collision).sum().item()\n",
    "    norms_Q.append(target_collision.reshape(target_collision.size(0), -1).norm(p=2, dim=-1) * dv)\n",
    "    abs_error_gain += utils.absolute_error(pred_gain_fft, gain_fft).sum().item()\n",
    "    rel_error_gain += utils.relative_error(pred_gain_fft, gain_fft).sum().item()\n",
    "    abs_error_loss += utils.absolute_error(pred_loss_fft, loss_fft).sum().item()\n",
    "    rel_error_loss += utils.relative_error(pred_loss_fft, loss_fft).sum().item()\n",
    "\n",
    "abs_error *= dv/len(dataset)\n",
    "rel_error /= len(dataset)\n",
    "abs_error_gain *= dv/len(dataset)\n",
    "rel_error_gain /= len(dataset)\n",
    "abs_error_loss *= dv/len(dataset)\n",
    "rel_error_loss /= len(dataset)\n",
    "norms_Q = torch.cat(norms_Q, dim=0)\n",
    "print(f\"Absolute error:         {abs_error:.4e}\")\n",
    "print(f\"Relative error:         {rel_error:.4e}\")\n",
    "print(f\"Absolute error gain:    {abs_error_gain:.4e}\")\n",
    "print(f\"Relative error gain:    {rel_error_gain:.4e}\")\n",
    "print(f\"Absolute error loss:    {abs_error_loss:.4e}\")\n",
    "print(f\"Relative error loss:    {rel_error_loss:.4e}\")"
   ]
  },
  {
   "cell_type": "code",
   "execution_count": 7,
   "id": "3867b064",
   "metadata": {},
   "outputs": [
    {
     "data": {
      "image/png": "[encoded data removed]",
      "text/plain": [
       "<Figure size 1600x500 with 6 Axes>"
      ]
     },
     "metadata": {},
     "output_type": "display_data"
    }
   ],
   "source": [
    "idx = 17\n",
    "fig, axes = plt.subplots(1, 3, figsize=(16, 5))\n",
    "d1 = pred_collision[idx].reshape(RESOLUTION, RESOLUTION).detach().cpu().numpy()\n",
    "d2 = target_collision[idx].reshape(RESOLUTION, RESOLUTION).detach().cpu().numpy()\n",
    "d3 = (pred_collision-target_collision)[idx].reshape(RESOLUTION, RESOLUTION).detach().cpu().numpy()\n",
    "fig.colorbar(axes[0].imshow(d1))\n",
    "fig.colorbar(axes[1].imshow(d2))\n",
    "fig.colorbar(axes[2].imshow(np.abs(d3)))\n",
    "plt.show()"
   ]
  },
  {
   "cell_type": "code",
   "execution_count": 8,
   "id": "8e050a6e",
   "metadata": {},
   "outputs": [
    {
     "data": {
      "image/png": "[encoded data removed]",
      "text/plain": [
       "<Figure size 640x480 with 1 Axes>"
      ]
     },
     "metadata": {},
     "output_type": "display_data"
    }
   ],
   "source": [
    "plt.hist(torch.log10(norms_Q), bins=100)\n",
    "plt.show()"
   ]
  },
  {
   "cell_type": "markdown",
   "id": "c8215f12",
   "metadata": {},
   "source": [
    "End of file"
   ]
  }
 ],
 "metadata": {
  "kernelspec": {
   "display_name": "dev_main",
   "language": "python",
   "name": "python3"
  },
  "language_info": {
   "codemirror_mode": {
    "name": "ipython",
    "version": 3
   },
   "file_extension": ".py",
   "mimetype": "text/x-python",
   "name": "python",
   "nbconvert_exporter": "python",
   "pygments_lexer": "ipython3",
   "version": "3.12.3"
  }
 },
 "nbformat": 4,
 "nbformat_minor": 5
}
