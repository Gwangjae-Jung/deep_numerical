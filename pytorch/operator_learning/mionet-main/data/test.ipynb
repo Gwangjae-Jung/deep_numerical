{
 "cells": [
  {
   "cell_type": "code",
   "execution_count": 1,
   "metadata": {},
   "outputs": [
    {
     "ename": "ModuleNotFoundError",
     "evalue": "No module named 'pathos'",
     "output_type": "error",
     "traceback": [
      "\u001b[1;31m---------------------------------------------------------------------------\u001b[0m",
      "\u001b[1;31mModuleNotFoundError\u001b[0m                       Traceback (most recent call last)",
      "Cell \u001b[1;32mIn[1], line 3\u001b[0m\n\u001b[0;32m      1\u001b[0m \u001b[38;5;28;01mimport\u001b[39;00m \u001b[38;5;21;01mnumpy\u001b[39;00m \u001b[38;5;28;01mas\u001b[39;00m \u001b[38;5;21;01mnp\u001b[39;00m\n\u001b[1;32m----> 3\u001b[0m \u001b[38;5;28;01mfrom\u001b[39;00m \u001b[38;5;21;01mspaces\u001b[39;00m \u001b[38;5;28;01mimport\u001b[39;00m GRF\n",
      "File \u001b[1;32mf:\\Programming\\mionet-main\\data\\spaces.py:3\u001b[0m\n\u001b[0;32m      1\u001b[0m \u001b[38;5;28;01mimport\u001b[39;00m \u001b[38;5;21;01mmatplotlib\u001b[39;00m\u001b[38;5;21;01m.\u001b[39;00m\u001b[38;5;21;01mpyplot\u001b[39;00m \u001b[38;5;28;01mas\u001b[39;00m \u001b[38;5;21;01mplt\u001b[39;00m\n\u001b[0;32m      2\u001b[0m \u001b[38;5;28;01mimport\u001b[39;00m \u001b[38;5;21;01mnumpy\u001b[39;00m \u001b[38;5;28;01mas\u001b[39;00m \u001b[38;5;21;01mnp\u001b[39;00m\n\u001b[1;32m----> 3\u001b[0m \u001b[38;5;28;01mfrom\u001b[39;00m \u001b[38;5;21;01mpathos\u001b[39;00m\u001b[38;5;21;01m.\u001b[39;00m\u001b[38;5;21;01mpools\u001b[39;00m \u001b[38;5;28;01mimport\u001b[39;00m ProcessPool\n\u001b[0;32m      4\u001b[0m \u001b[38;5;28;01mfrom\u001b[39;00m \u001b[38;5;21;01mscipy\u001b[39;00m \u001b[38;5;28;01mimport\u001b[39;00m linalg, interpolate\n\u001b[0;32m      5\u001b[0m \u001b[38;5;28;01mfrom\u001b[39;00m \u001b[38;5;21;01msklearn\u001b[39;00m \u001b[38;5;28;01mimport\u001b[39;00m gaussian_process \u001b[38;5;28;01mas\u001b[39;00m gp\n",
      "\u001b[1;31mModuleNotFoundError\u001b[0m: No module named 'pathos'"
     ]
    }
   ],
   "source": [
    "import numpy as np\n",
    "\n",
    "from spaces import GRF"
   ]
  },
  {
   "cell_type": "code",
   "execution_count": null,
   "metadata": {},
   "outputs": [],
   "source": [
    "def solve_ADVD(xmin, xmax, tmin, tmax, D, V, Nx, Nt):\n",
    "    \"\"\"Solve\n",
    "    u_t + u_x - D * u_xx = 0\n",
    "    u(x, 0) = V(x) periodic, twice continuously differentiable\n",
    "    D(x) periodic, continuous\n",
    "    \"\"\"\n",
    "    # Crank-Nicholson\n",
    "    x = np.linspace(xmin, xmax, Nx)\n",
    "    t = np.linspace(tmin, tmax, Nt)\n",
    "    h = x[1] - x[0]\n",
    "    dt = t[1] - t[0]\n",
    "    lam = dt / h\n",
    "    mu = dt / h**2\n",
    "    u = np.zeros([Nx, Nt])\n",
    "    u[:, 0] = V\n",
    "    d = D[1:]\n",
    "\n",
    "    I = np.eye(Nx - 1)\n",
    "    I1 = np.roll(I, 1, axis=0)\n",
    "    I2 = np.roll(I, -1, axis=0)\n",
    "\n",
    "    A = (1 + d * mu) * I - (lam / 4 + d * mu / 2) * I1 + (lam / 4 - d * mu / 2) * I2\n",
    "    B = 2 * I - A\n",
    "    C = np.linalg.solve(A, B)\n",
    "\n",
    "    for n in range(Nt - 1):\n",
    "        u[1:, n + 1] = C @ u[1:, n]\n",
    "    u[0, :] = u[-1, :]\n",
    "\n",
    "    return x, t, u"
   ]
  },
  {
   "cell_type": "code",
   "execution_count": null,
   "metadata": {},
   "outputs": [],
   "source": [
    "def eval_s(m, T, Nt, sensor_values1, sensor_values2):\n",
    "    return solve_ADVD(0, 1, 0, T, sensor_values1, sensor_values2, m, Nt)[2]"
   ]
  },
  {
   "cell_type": "code",
   "execution_count": null,
   "metadata": {},
   "outputs": [],
   "source": [
    "def run(space, m, T, Nt, num_train, num_test):\n",
    "    \"\"\"Advection-diffusion on the domain [0, 1] x [0, T].\n",
    "\n",
    "    Args:\n",
    "        T: Time [0, T]\n",
    "        Nt: Nt in FDM\n",
    "        npoints_output: For a input function, randomly choose these points from the solver output as data\n",
    "    \"\"\"\n",
    "\n",
    "    print(\"Generating operator data...\", flush=True)\n",
    "    features1 = space.random(num_train)\n",
    "    sensors1 = np.linspace(0, T, num=m)[:, None]\n",
    "    sensor_values1 = (\n",
    "        np.abs(space.eval_u(features1, np.sin(np.pi * sensors1) ** 2)) * 0.01 + 0.1\n",
    "    )\n",
    "    features2 = space.random(num_train)\n",
    "    sensors2 = np.linspace(0, T, num=m)[:, None]\n",
    "    sensor_values2 = space.eval_u(features2, np.sin(np.pi * sensors2) ** 2)\n",
    "    s = np.array(\n",
    "        list(\n",
    "            map(\n",
    "                eval_s,\n",
    "                np.hstack(np.tile(m, (num_train, 1))),\n",
    "                np.hstack(np.tile(T, (num_train, 1))),\n",
    "                np.hstack(np.tile(Nt, (num_train, 1))),\n",
    "                sensor_values1,\n",
    "                sensor_values2,\n",
    "            )\n",
    "        )\n",
    "    )\n",
    "    xt = [(x, y) for x in np.linspace(0, 1, m) for y in np.linspace(0, 1, Nt)]\n",
    "    s = np.reshape(s, (-1, Nt * m))\n",
    "    X_train, y_train = (sensor_values1, sensor_values2, xt), s\n",
    "\n",
    "    features1 = space.random(num_test)\n",
    "    sensors1 = np.linspace(0, T, num=m)[:, None]\n",
    "    sensor_values1 = (\n",
    "        np.abs(space.eval_u(features1, np.sin(np.pi * sensors1) ** 2)) * 0.01 + 0.1\n",
    "    )\n",
    "    features2 = space.random(num_test)\n",
    "    sensors2 = np.linspace(0, T, num=m)[:, None]\n",
    "    sensor_values2 = space.eval_u(features2, np.sin(np.pi * sensors2) ** 2)\n",
    "    s = np.array(\n",
    "        list(\n",
    "            map(\n",
    "                eval_s,\n",
    "                np.hstack(np.tile(m, (num_test, 1))),\n",
    "                np.hstack(np.tile(T, (num_test, 1))),\n",
    "                np.hstack(np.tile(Nt, (num_test, 1))),\n",
    "                sensor_values1,\n",
    "                sensor_values2,\n",
    "            )\n",
    "        )\n",
    "    )\n",
    "    xt = [(x, y) for x in np.linspace(0, 1, m) for y in np.linspace(0, 1, Nt)]\n",
    "    s = np.reshape(s, (-1, Nt * m))\n",
    "    X_test, y_test = (sensor_values1, sensor_values2, xt), s\n",
    "\n",
    "    np.savez_compressed(\"ADVD_train.npz\", X_train=X_train, y_train=y_train)\n",
    "    np.savez_compressed(\"ADVD_test.npz\", X_test=X_test, y_test=y_test)"
   ]
  },
  {
   "cell_type": "code",
   "execution_count": null,
   "metadata": {},
   "outputs": [],
   "source": [
    "space = GRF(1, length_scale=0.2, N=1000, interp=\"cubic\")\n",
    "m = 20\n",
    "T = 1\n",
    "Nt = 20\n",
    "num_train = 500\n",
    "num_test = 1000\n",
    "\n",
    "run(space, m, T, Nt, num_train, num_test)\n"
   ]
  }
 ],
 "metadata": {
  "kernelspec": {
   "display_name": "pytorch_py_3_10",
   "language": "python",
   "name": "python3"
  },
  "language_info": {
   "codemirror_mode": {
    "name": "ipython",
    "version": 3
   },
   "file_extension": ".py",
   "mimetype": "text/x-python",
   "name": "python",
   "nbconvert_exporter": "python",
   "pygments_lexer": "ipython3",
   "version": "3.10.13"
  }
 },
 "nbformat": 4,
 "nbformat_minor": 2
}
