{
 "cells": [
  {
   "cell_type": "markdown",
   "metadata": {},
   "source": [
    "## 1. Set up the experiment"
   ]
  },
  {
   "cell_type": "markdown",
   "metadata": {},
   "source": [
    "### 1-1. Import modules"
   ]
  },
  {
   "cell_type": "code",
   "execution_count": 1,
   "metadata": {},
   "outputs": [],
   "source": [
    "import  os, time\n",
    "from    pathlib             import  Path\n",
    "from    tqdm.notebook       import  tqdm\n",
    "import  pickle\n",
    "import  yaml\n",
    "\n",
    "import  numpy       as  np\n",
    "import  torch\n",
    "from    torch.utils.data            import  TensorDataset\n",
    "\n",
    "from    custom_modules.utils                import  get_time_str\n",
    "from    custom_modules.utils                import  npzReader, GaussianNormalizer\n",
    "from    custom_modules.pytorch.neuralop     import  GalerkinTransformer\n",
    "from    custom_modules.pytorch.torch_utils  import  count_parameters\n",
    "\n",
    "\n",
    "time_str = get_time_str()"
   ]
  },
  {
   "cell_type": "markdown",
   "metadata": {},
   "source": [
    "### 1-2. Load the configurations"
   ]
  },
  {
   "cell_type": "code",
   "execution_count": 2,
   "metadata": {},
   "outputs": [],
   "source": [
    "with open(\"config_train.yaml\") as f:\n",
    "    config = yaml.load(f, Loader = yaml.FullLoader)\n",
    "    _exp   = config['experiment']\n",
    "    _data  = config['pde_dataset']\n",
    "    _gt    = config['gt']"
   ]
  },
  {
   "cell_type": "markdown",
   "metadata": {},
   "source": [
    "### 1-3. Set the experiment"
   ]
  },
  {
   "cell_type": "code",
   "execution_count": 3,
   "metadata": {},
   "outputs": [],
   "source": [
    "# NOTE Training and data preprocess\n",
    "\n",
    "\n",
    "BATCH_SIZE      = _exp['batch_size']\n",
    "NUM_EPOCHS      = _exp['num_epochs']\n",
    "LEARNING_RATE   = _exp['learning_rate']\n",
    "LR_STEP         = _exp['lr_step']\n",
    "LR_GAMMA        = _exp['lr_gamma']\n",
    "TRAIN_SIZE      = _exp['train_size']\n",
    "VAL_SIZE        = _exp['val_size']\n",
    "DEVICE          = torch.device(f\"cuda:{_exp['cuda_index']}\")\n",
    "\n",
    "RESOLUTION      = _data['resolution']\n",
    "TRAIN_PATH      = Path(_data['path'])\n",
    "__RANDOM_CHOICE = np.random.choice(1024, TRAIN_SIZE + VAL_SIZE, replace = False)\n",
    "TRAIN_MASK      = __RANDOM_CHOICE[:TRAIN_SIZE]\n",
    "VAL_MASK        = __RANDOM_CHOICE[-VAL_SIZE:]\n",
    "\n",
    "\n",
    "DOWNSAMPLE      = _data['downsample']\n",
    "GRID            = (RESOLUTION - 1) // DOWNSAMPLE + 1\n",
    "grid            = torch.stack(\n",
    "                        torch.meshgrid(\n",
    "                            torch.linspace(0, 1, GRID),\n",
    "                            torch.linspace(0, 1, GRID),\n",
    "                            indexing = 'ij'\n",
    "                        ),\n",
    "                        dim = -1\n",
    "                    )   # Shape: (GRID, GRID, dim_domain = 2)"
   ]
  },
  {
   "cell_type": "markdown",
   "metadata": {},
   "source": [
    "## 2. Preprocess data"
   ]
  },
  {
   "cell_type": "markdown",
   "metadata": {},
   "source": [
    "### 2-1. Instantiate the storages"
   ]
  },
  {
   "cell_type": "code",
   "execution_count": 4,
   "metadata": {},
   "outputs": [],
   "source": [
    "train_data: dict[str, torch.Tensor] = {\n",
    "    'grid':     None,\n",
    "    'coeff':    None,\n",
    "    'Kcoeff':   None,\n",
    "    'Kcoeff_x': None,\n",
    "    'Kcoeff_y': None,\n",
    "    'sol':      None,\n",
    "}\n",
    "val_data: dict[str, torch.Tensor] = {\n",
    "    'grid':     None,\n",
    "    'coeff':    None,\n",
    "    'Kcoeff':   None,\n",
    "    'Kcoeff_x': None,\n",
    "    'Kcoeff_y': None,\n",
    "    'sol':      None,\n",
    "}\n",
    "\n",
    "\n",
    "normalizer: dict[str, GaussianNormalizer] = {\n",
    "    'grid':     None,\n",
    "    'coeff':    None,\n",
    "    'Kcoeff':   None,\n",
    "    'Kcoeff_x': None,\n",
    "    'Kcoeff_y': None,\n",
    "    'sol':      None,\n",
    "}"
   ]
  },
  {
   "cell_type": "markdown",
   "metadata": {},
   "source": [
    "### 2-2. Load the train data"
   ]
  },
  {
   "cell_type": "code",
   "execution_count": 5,
   "metadata": {},
   "outputs": [
    {
     "data": {
      "application/vnd.jupyter.widget-view+json": {
       "model_id": "06d0a9268a9e4b05ae7d5b53323d6157",
       "version_major": 2,
       "version_minor": 0
      },
      "text/plain": [
       "Preprocessing the train data: 0it [00:00, ?it/s]"
      ]
     },
     "metadata": {},
     "output_type": "display_data"
    },
    {
     "data": {
      "application/vnd.jupyter.widget-view+json": {
       "model_id": "6b271d1192ba418989cff00c9a8d70b3",
       "version_major": 2,
       "version_minor": 0
      },
      "text/plain": [
       "Preprocessing the validation data: 0it [00:00, ?it/s]"
      ]
     },
     "metadata": {},
     "output_type": "display_data"
    }
   ],
   "source": [
    "# Train data\n",
    "reader = npzReader(TRAIN_PATH)\n",
    "for cnt, k in tqdm(enumerate(train_data.keys()), desc = \"Preprocessing the train data\"):   \n",
    "    # Step 1. Load data\n",
    "    if k != 'grid':\n",
    "        train_data[k] = torch.from_numpy(reader.get_field(k)[TRAIN_MASK, ::DOWNSAMPLE, ::DOWNSAMPLE])\n",
    "        train_data[k] = train_data[k].type(torch.float).to(DEVICE)\n",
    "    else:\n",
    "        train_data[k] = grid.clone().unsqueeze(0).repeat(TRAIN_SIZE, 1, 1, 1).to(DEVICE)\n",
    "    \n",
    "    # Step 2. Normalize data\n",
    "    normalizer[k] = GaussianNormalizer(train_data[k])\n",
    "    normalizer[k].to(DEVICE)\n",
    "    train_data[k] = normalizer[k].encode(train_data[k])\n",
    "\n",
    "\n",
    "# Validation data\n",
    "for cnt, k in tqdm(enumerate(val_data.keys()), desc = \"Preprocessing the validation data\"):\n",
    "    # Step 1. Load data\n",
    "    if k != 'grid':\n",
    "        val_data[k] = torch.from_numpy(reader.get_field(k)[VAL_MASK, ::DOWNSAMPLE, ::DOWNSAMPLE])\n",
    "        val_data[k] = val_data[k].type(torch.float).to(DEVICE)\n",
    "    else:\n",
    "        val_data[k] = grid.clone().unsqueeze(0).repeat(VAL_SIZE, 1, 1, 1).to(DEVICE)\n",
    "    \n",
    "    # Step 2. Normalize data (NOTE: Uses the normalizers for the train dataset)\n",
    "    val_data[k] = normalizer[k].encode(val_data[k])"
   ]
  },
  {
   "cell_type": "markdown",
   "metadata": {},
   "source": [
    "### 2-3. Merge the grid and the coefficients"
   ]
  },
  {
   "cell_type": "code",
   "execution_count": 6,
   "metadata": {},
   "outputs": [],
   "source": [
    "train_data['data'] = torch.cat(\n",
    "    [\n",
    "        train_data['grid'],\n",
    "        train_data['coeff'], train_data['Kcoeff'],\n",
    "        train_data['Kcoeff_x'], train_data['Kcoeff_y'],\n",
    "    ], dim = -1\n",
    ")\n",
    "val_data['data'] = torch.cat(\n",
    "    [\n",
    "        val_data['grid'],\n",
    "        val_data['coeff'], val_data['Kcoeff'],\n",
    "        val_data['Kcoeff_x'], val_data['Kcoeff_y'],\n",
    "    ], dim = -1\n",
    ")\n",
    "del(train_data['grid'], train_data['coeff'], train_data['Kcoeff'], train_data['Kcoeff_x'], train_data['Kcoeff_y'])\n",
    "del(val_data['grid'], val_data['coeff'], val_data['Kcoeff'], val_data['Kcoeff_x'], val_data['Kcoeff_y'])"
   ]
  },
  {
   "cell_type": "markdown",
   "metadata": {},
   "source": [
    "### 2-4. Instantiate dataloaders"
   ]
  },
  {
   "cell_type": "code",
   "execution_count": 7,
   "metadata": {},
   "outputs": [],
   "source": [
    "train_dataset = TensorDataset(train_data['data'], train_data['sol'])\n",
    "val_dataset   = TensorDataset(  val_data['data'], val_data['sol'])\n",
    "train_loader = torch.utils.data.DataLoader(train_dataset, batch_size = BATCH_SIZE, shuffle = True)\n",
    "val_loader   = torch.utils.data.DataLoader(  val_dataset,  batch_size = BATCH_SIZE, shuffle = True) "
   ]
  },
  {
   "cell_type": "markdown",
   "metadata": {},
   "source": [
    "## 3. Train the model"
   ]
  },
  {
   "cell_type": "markdown",
   "metadata": {},
   "source": [
    "### 3-1. Initialize the model and instantiate the loss function and the optimizer"
   ]
  },
  {
   "cell_type": "code",
   "execution_count": 8,
   "metadata": {},
   "outputs": [
    {
     "name": "stdout",
     "output_type": "stream",
     "text": [
      "The number of the parameters in the custom GT\n",
      ">>> 151617\n",
      "GalerkinTransformer(\n",
      "    dim_domain        = 2,\n",
      "    in_channels       = 6,\n",
      "    hidden_channels   = 64,\n",
      "    out_channels      = 1,\n",
      "    n_layers          = 4,\n",
      "    n_heads           = 4,\n",
      ")\n"
     ]
    }
   ],
   "source": [
    "gt = GalerkinTransformer(**_gt).to(DEVICE)\n",
    "print(f\"The number of the parameters in the custom GT\\n>>> {count_parameters(gt)}\")\n",
    "print(gt)\n",
    "\n",
    "for p in gt.parameters():\n",
    "    if p.ndim == 1:\n",
    "        torch.nn.init.zeros_(p)\n",
    "    else:\n",
    "        torch.nn.init.xavier_uniform_(p)\n",
    "\n",
    "criterion = torch.nn.MSELoss(reduction = 'mean')\n",
    "optimizer = torch.optim.Adam(params = gt.parameters(), lr = _exp['learning_rate'])\n",
    "scheduler = torch.optim.lr_scheduler.StepLR(optimizer, step_size = LR_STEP, gamma = LR_GAMMA)"
   ]
  },
  {
   "cell_type": "markdown",
   "metadata": {},
   "source": [
    "### 3-2. Train the model"
   ]
  },
  {
   "cell_type": "code",
   "execution_count": 9,
   "metadata": {},
   "outputs": [
    {
     "data": {
      "application/vnd.jupyter.widget-view+json": {
       "model_id": "39ebd014c1a841a28031aa5b4e96dac4",
       "version_major": 2,
       "version_minor": 0
      },
      "text/plain": [
       "  0%|          | 0/300 [00:00<?, ?it/s]"
      ]
     },
     "metadata": {},
     "output_type": "display_data"
    },
    {
     "name": "stdout",
     "output_type": "stream",
     "text": [
      "[ Epoch 1 / 300 ]\n",
      "* train_loss     : 2.2567e-01\n",
      "* train_error    : 2.5966e-01\n",
      "* val_loss       : 5.8721e-02\n",
      "* val_error      : 1.4572e-01\n",
      "[ Epoch 10 / 300 ]\n",
      "* train_loss     : 1.1391e-02\n",
      "* train_error    : 6.3193e-02\n",
      "* val_loss       : 1.3839e-02\n",
      "* val_error      : 7.0541e-02\n",
      "[ Epoch 20 / 300 ]\n",
      "* train_loss     : 7.2539e-03\n",
      "* train_error    : 5.0494e-02\n",
      "* val_loss       : 8.9258e-03\n",
      "* val_error      : 5.6696e-02\n",
      "[ Epoch 30 / 300 ]\n",
      "* train_loss     : 4.6595e-03\n",
      "* train_error    : 4.0446e-02\n",
      "* val_loss       : 4.4051e-03\n",
      "* val_error      : 3.9765e-02\n",
      "[ Epoch 40 / 300 ]\n",
      "* train_loss     : 3.7091e-03\n",
      "* train_error    : 3.6126e-02\n",
      "* val_loss       : 4.1359e-03\n",
      "* val_error      : 3.8513e-02\n",
      "[ Epoch 50 / 300 ]\n",
      "* train_loss     : 2.9766e-03\n",
      "* train_error    : 3.2392e-02\n",
      "* val_loss       : 3.8702e-03\n",
      "* val_error      : 3.7235e-02\n",
      "[ Epoch 60 / 300 ]\n",
      "* train_loss     : 2.6943e-03\n",
      "* train_error    : 3.0772e-02\n",
      "* val_loss       : 2.7054e-03\n",
      "* val_error      : 3.1153e-02\n",
      "[ Epoch 70 / 300 ]\n",
      "* train_loss     : 2.2724e-03\n",
      "* train_error    : 2.8277e-02\n",
      "* val_loss       : 2.8145e-03\n",
      "* val_error      : 3.1612e-02\n",
      "[ Epoch 80 / 300 ]\n",
      "* train_loss     : 2.0167e-03\n",
      "* train_error    : 2.6566e-02\n",
      "* val_loss       : 2.5405e-03\n",
      "* val_error      : 2.9941e-02\n",
      "[ Epoch 90 / 300 ]\n",
      "* train_loss     : 1.9151e-03\n",
      "* train_error    : 2.5988e-02\n",
      "* val_loss       : 2.1054e-03\n",
      "* val_error      : 2.7390e-02\n",
      "[ Epoch 100 / 300 ]\n",
      "* train_loss     : 1.6802e-03\n",
      "* train_error    : 2.4329e-02\n",
      "* val_loss       : 2.0991e-03\n",
      "* val_error      : 2.7470e-02\n",
      "[ Epoch 110 / 300 ]\n",
      "* train_loss     : 1.4687e-03\n",
      "* train_error    : 2.2720e-02\n",
      "* val_loss       : 1.9729e-03\n",
      "* val_error      : 2.6561e-02\n",
      "[ Epoch 120 / 300 ]\n",
      "* train_loss     : 1.4844e-03\n",
      "* train_error    : 2.2775e-02\n",
      "* val_loss       : 2.0290e-03\n",
      "* val_error      : 2.6867e-02\n",
      "[ Epoch 130 / 300 ]\n",
      "* train_loss     : 1.2604e-03\n",
      "* train_error    : 2.1044e-02\n",
      "* val_loss       : 1.7754e-03\n",
      "* val_error      : 2.5215e-02\n",
      "[ Epoch 140 / 300 ]\n",
      "* train_loss     : 1.2770e-03\n",
      "* train_error    : 2.1234e-02\n",
      "* val_loss       : 1.5700e-03\n",
      "* val_error      : 2.3689e-02\n",
      "[ Epoch 150 / 300 ]\n",
      "* train_loss     : 1.1131e-03\n",
      "* train_error    : 1.9817e-02\n",
      "* val_loss       : 1.5670e-03\n",
      "* val_error      : 2.3674e-02\n",
      "[ Epoch 160 / 300 ]\n",
      "* train_loss     : 1.0977e-03\n",
      "* train_error    : 1.9611e-02\n",
      "* val_loss       : 1.4733e-03\n",
      "* val_error      : 2.2991e-02\n",
      "[ Epoch 170 / 300 ]\n",
      "* train_loss     : 9.8280e-04\n",
      "* train_error    : 1.8604e-02\n",
      "* val_loss       : 1.4936e-03\n",
      "* val_error      : 2.3054e-02\n",
      "[ Epoch 180 / 300 ]\n",
      "* train_loss     : 9.9961e-04\n",
      "* train_error    : 1.8756e-02\n",
      "* val_loss       : 1.4054e-03\n",
      "* val_error      : 2.2367e-02\n",
      "[ Epoch 190 / 300 ]\n",
      "* train_loss     : 9.0056e-04\n",
      "* train_error    : 1.7812e-02\n",
      "* val_loss       : 1.3354e-03\n",
      "* val_error      : 2.1828e-02\n",
      "[ Epoch 200 / 300 ]\n",
      "* train_loss     : 9.2460e-04\n",
      "* train_error    : 1.8053e-02\n",
      "* val_loss       : 1.3680e-03\n",
      "* val_error      : 2.2035e-02\n",
      "[ Epoch 210 / 300 ]\n",
      "* train_loss     : 8.3120e-04\n",
      "* train_error    : 1.7123e-02\n",
      "* val_loss       : 1.3824e-03\n",
      "* val_error      : 2.2187e-02\n",
      "[ Epoch 220 / 300 ]\n",
      "* train_loss     : 8.1139e-04\n",
      "* train_error    : 1.6918e-02\n",
      "* val_loss       : 1.2509e-03\n",
      "* val_error      : 2.1056e-02\n",
      "[ Epoch 230 / 300 ]\n",
      "* train_loss     : 7.8114e-04\n",
      "* train_error    : 1.6592e-02\n",
      "* val_loss       : 1.2729e-03\n",
      "* val_error      : 2.1308e-02\n",
      "[ Epoch 240 / 300 ]\n",
      "* train_loss     : 7.5347e-04\n",
      "* train_error    : 1.6316e-02\n",
      "* val_loss       : 1.2631e-03\n",
      "* val_error      : 2.1117e-02\n",
      "[ Epoch 250 / 300 ]\n",
      "* train_loss     : 7.1709e-04\n",
      "* train_error    : 1.5901e-02\n",
      "* val_loss       : 1.1868e-03\n",
      "* val_error      : 2.0486e-02\n",
      "[ Epoch 260 / 300 ]\n",
      "* train_loss     : 7.2427e-04\n",
      "* train_error    : 1.5954e-02\n",
      "* val_loss       : 1.3002e-03\n",
      "* val_error      : 2.1504e-02\n",
      "[ Epoch 270 / 300 ]\n",
      "* train_loss     : 6.9321e-04\n",
      "* train_error    : 1.5610e-02\n",
      "* val_loss       : 1.1380e-03\n",
      "* val_error      : 2.0096e-02\n",
      "[ Epoch 280 / 300 ]\n",
      "* train_loss     : 6.9466e-04\n",
      "* train_error    : 1.5632e-02\n",
      "* val_loss       : 1.1655e-03\n",
      "* val_error      : 2.0458e-02\n",
      "[ Epoch 290 / 300 ]\n",
      "* train_loss     : 6.6039e-04\n",
      "* train_error    : 1.5266e-02\n",
      "* val_loss       : 1.1308e-03\n",
      "* val_error      : 2.0015e-02\n",
      "[ Epoch 300 / 300 ]\n",
      "* train_loss     : 6.6067e-04\n",
      "* train_error    : 1.5237e-02\n",
      "* val_loss       : 1.1164e-03\n",
      "* val_error      : 1.9993e-02\n",
      "Elapsed time: 195 seconds\n"
     ]
    }
   ],
   "source": [
    "train_history = {\n",
    "    'train_loss':   [],\n",
    "    'train_error':  [],\n",
    "    'val_loss':     [],\n",
    "    'val_error':    [],\n",
    "    'train_time':   0.0,\n",
    "}\n",
    "normalizer['sol'].to(DEVICE)\n",
    "\n",
    "elapsed_time = time.time()\n",
    "for epoch in tqdm(range(1, NUM_EPOCHS + 1)):\n",
    "    # NOTE: Train\n",
    "    gt.train()\n",
    "    _train_time = time.time()\n",
    "    train_epoch_loss:  torch.Tensor = 0\n",
    "    train_epoch_error: torch.Tensor = 0\n",
    "    for data, target in train_loader:\n",
    "        num_data = len(data)\n",
    "        \n",
    "        train_pred = gt.forward(data)\n",
    "        train_loss = criterion.forward(train_pred, target)\n",
    "        optimizer.zero_grad()\n",
    "        train_loss.backward()\n",
    "        optimizer.step()\n",
    "        \n",
    "        train_epoch_loss = train_epoch_loss + train_loss * num_data\n",
    "        train_pred  = normalizer['sol'].decode(train_pred)\n",
    "        target      = normalizer['sol'].decode(target)\n",
    "        train_epoch_error = train_epoch_error + (\n",
    "            torch.linalg.norm(train_pred - target) / (1e-8 + torch.linalg.norm(target))\n",
    "        ) * num_data\n",
    "    scheduler.step()\n",
    "    \n",
    "    _train_time = time.time() - _train_time\n",
    "    train_history['train_time'] += _train_time\n",
    "    train_epoch_loss    = train_epoch_loss / TRAIN_SIZE\n",
    "    train_epoch_error   = train_epoch_error / TRAIN_SIZE\n",
    "    train_history['train_loss'].append(train_epoch_loss.item())\n",
    "    train_history['train_error'].append(train_epoch_error.item())\n",
    "    \n",
    "    \n",
    "    # NOTE: Validation\n",
    "    gt.eval()\n",
    "    val_epoch_loss:     torch.Tensor = 0\n",
    "    val_epoch_error:    torch.Tensor = 0\n",
    "    with torch.no_grad():\n",
    "        for data, target in val_loader:\n",
    "            num_data = len(data)\n",
    "            \n",
    "            val_pred = gt.forward(data)\n",
    "            val_loss = criterion.forward(val_pred, target)\n",
    "            \n",
    "            val_epoch_loss      = val_epoch_loss + val_loss * num_data\n",
    "            val_pred = normalizer['sol'].decode(val_pred)\n",
    "            target   = normalizer['sol'].decode(target)\n",
    "            val_epoch_error     = val_epoch_error + (\n",
    "                                        torch.linalg.norm(val_pred - target) / (1e-8 + torch.linalg.norm(target))\n",
    "                                    ) * num_data\n",
    "    val_epoch_loss      = val_epoch_loss / VAL_SIZE\n",
    "    val_epoch_error     = val_epoch_error / VAL_SIZE\n",
    "    train_history['val_loss'].append(val_epoch_loss.item())\n",
    "    train_history['val_error'].append(val_epoch_error.item())\n",
    "    \n",
    "    if epoch % 10 == 0 or epoch == 1:\n",
    "        print(f\"[ Epoch {epoch} / {NUM_EPOCHS} ]\")\n",
    "        for k in train_history.keys():\n",
    "            if k == \"train_time\":\n",
    "                continue\n",
    "            print(f\"* {k:15s}: {train_history[k][-1]:.4e}\")\n",
    "    \n",
    "elapsed_time = time.time() - elapsed_time\n",
    "print(f\"Elapsed time: {int(elapsed_time)} seconds\")"
   ]
  },
  {
   "cell_type": "markdown",
   "metadata": {},
   "source": [
    "### 3-3. Save the model and the train history"
   ]
  },
  {
   "cell_type": "code",
   "execution_count": 10,
   "metadata": {},
   "outputs": [],
   "source": [
    "# Save the model\n",
    "os.makedirs(f\"./{time_str}\", exist_ok = True)\n",
    "torch.save(gt.state_dict(), f\"{time_str}/gt_darcy{RESOLUTION}_res{GRID}.pth\")\n",
    "\n",
    "# Save the normalizer, which will also be used in prediction\n",
    "normalizer['sol'].cpu()\n",
    "torch.save(normalizer, f\"{time_str}/gt_darcy{RESOLUTION}_res{GRID}_normalizer.pth\")\n",
    "\n",
    "# Save the history\n",
    "with open(f\"{time_str}/gt_darcy{RESOLUTION}_res{GRID}.pickle\", \"wb\") as f:\n",
    "    pickle.dump(train_history, f)"
   ]
  },
  {
   "cell_type": "markdown",
   "metadata": {},
   "source": [
    "## End of file"
   ]
  }
 ],
 "metadata": {
  "kernelspec": {
   "display_name": "Python 3 (ipykernel)",
   "language": "python",
   "name": "python3"
  },
  "language_info": {
   "codemirror_mode": {
    "name": "ipython",
    "version": 3
   },
   "file_extension": ".py",
   "mimetype": "text/x-python",
   "name": "python",
   "nbconvert_exporter": "python",
   "pygments_lexer": "ipython3",
   "version": "3.10.14"
  }
 },
 "nbformat": 4,
 "nbformat_minor": 4
}
