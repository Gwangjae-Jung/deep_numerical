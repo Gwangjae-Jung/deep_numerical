{
 "cells": [
  {
   "cell_type": "code",
   "execution_count": 1,
   "metadata": {},
   "outputs": [],
   "source": [
    "from    math        import  prod\n",
    "import  torch\n",
    "from    torch       import  nn"
   ]
  },
  {
   "cell_type": "code",
   "execution_count": 4,
   "metadata": {},
   "outputs": [
    {
     "data": {
      "text/plain": [
       "tensor([[[-1.3416, -0.4472],\n",
       "         [ 0.4472,  1.3416]],\n",
       "\n",
       "        [[-1.3416, -0.4472],\n",
       "         [ 0.4472,  1.3416]],\n",
       "\n",
       "        [[-1.3416, -0.4472],\n",
       "         [ 0.4472,  1.3416]],\n",
       "\n",
       "        [[-1.3416, -0.4472],\n",
       "         [ 0.4472,  1.3416]],\n",
       "\n",
       "        [[-1.3416, -0.4472],\n",
       "         [ 0.4472,  1.3416]],\n",
       "\n",
       "        [[-1.3416, -0.4472],\n",
       "         [ 0.4472,  1.3416]],\n",
       "\n",
       "        [[-1.3416, -0.4472],\n",
       "         [ 0.4472,  1.3416]],\n",
       "\n",
       "        [[-1.3416, -0.4472],\n",
       "         [ 0.4472,  1.3416]],\n",
       "\n",
       "        [[-1.3416, -0.4472],\n",
       "         [ 0.4472,  1.3416]],\n",
       "\n",
       "        [[-1.3416, -0.4472],\n",
       "         [ 0.4472,  1.3416]]], grad_fn=<SelectBackward0>)"
      ]
     },
     "execution_count": 4,
     "metadata": {},
     "output_type": "execute_result"
    }
   ],
   "source": [
    "_size = (64, 10, 2, 2)\n",
    "length = prod(_size)\n",
    "\n",
    "X = torch.arange(length).reshape(_size)\n",
    "X = X.type(torch.float)\n",
    "\n",
    "\n",
    "ln = nn.LayerNorm(X.shape[-2:])\n",
    "ln.forward(X)[0]"
   ]
  },
  {
   "cell_type": "code",
   "execution_count": null,
   "metadata": {},
   "outputs": [],
   "source": []
  }
 ],
 "metadata": {
  "kernelspec": {
   "display_name": "torch",
   "language": "python",
   "name": "python3"
  },
  "language_info": {
   "codemirror_mode": {
    "name": "ipython",
    "version": 3
   },
   "file_extension": ".py",
   "mimetype": "text/x-python",
   "name": "python",
   "nbconvert_exporter": "python",
   "pygments_lexer": "ipython3",
   "version": "3.10.14"
  }
 },
 "nbformat": 4,
 "nbformat_minor": 2
}
