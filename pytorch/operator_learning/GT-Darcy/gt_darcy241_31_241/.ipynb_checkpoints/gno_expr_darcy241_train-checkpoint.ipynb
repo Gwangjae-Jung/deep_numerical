{
 "cells": [
  {
   "cell_type": "markdown",
   "metadata": {},
   "source": [
    "## 1. Set up the experiment"
   ]
  },
  {
   "cell_type": "markdown",
   "metadata": {},
   "source": [
    "### 1-1. Import modules"
   ]
  },
  {
   "cell_type": "code",
   "execution_count": 1,
   "metadata": {},
   "outputs": [],
   "source": [
    "import  os, time\n",
    "from    pathlib             import  Path\n",
    "from    tqdm.notebook       import  tqdm\n",
    "import  pickle\n",
    "\n",
    "import  numpy                       as  np\n",
    "import  torch\n",
    "from    torch                       import  nn, optim\n",
    "from    torch_geometric.data        import  Data\n",
    "from    torch_geometric.loader      import  DataLoader\n",
    "\n",
    "import  yaml\n",
    "\n",
    "from    custom_modules.utils                import  GaussianNormalizer, npzReader\n",
    "from    custom_modules.utils                import  GridGenerator\n",
    "from    custom_modules.pytorch.neuralop     import  GNOLite\n",
    "from    custom_modules.pytorch.ref_neuralop import  KernelNN\n",
    "from    custom_modules.pytorch.torch_utils  import  count_parameters"
   ]
  },
  {
   "cell_type": "markdown",
   "metadata": {},
   "source": [
    "### 1-2. Load the configurations"
   ]
  },
  {
   "cell_type": "code",
   "execution_count": 2,
   "metadata": {},
   "outputs": [],
   "source": [
    "with open(\"config_train.yaml\") as f:\n",
    "    config = yaml.load(f, Loader = yaml.FullLoader)\n",
    "    _exp   = config['experiment']\n",
    "    _data  = config['pde_dataset']\n",
    "    _graph = config['graph']\n",
    "    _gno   = config['gno']"
   ]
  },
  {
   "cell_type": "markdown",
   "metadata": {},
   "source": [
    "### 1-3. Set the experiment"
   ]
  },
  {
   "cell_type": "code",
   "execution_count": 3,
   "metadata": {},
   "outputs": [],
   "source": [
    "# NOTE Training and data preprocess\n",
    "\n",
    "\n",
    "BATCH_SIZE      = _exp['batch_size']\n",
    "NUM_EPOCHS      = _exp['num_epochs']\n",
    "LEARNING_RATE   = _exp['learning_rate']\n",
    "TRAIN_SIZE      = _exp['train_size']\n",
    "VAL_SIZE        = _exp['val_size']\n",
    "\n",
    "\n",
    "RESOLUTION      = _data['resolution']\n",
    "TRAIN_PATH      = Path(_data['path'])\n",
    "__RANDOM_CHOICE = np.random.choice(1024, TRAIN_SIZE + VAL_SIZE, replace = False)\n",
    "TRAIN_MASK      = __RANDOM_CHOICE[:TRAIN_SIZE]\n",
    "VAL_MASK        = __RANDOM_CHOICE[-VAL_SIZE:]\n",
    "\n",
    "\n",
    "DOWNSAMPLE      = _data['downsample']\n",
    "GRID            = (RESOLUTION - 1) // DOWNSAMPLE + 1\n",
    "NUM_NODES       = GRID ** 2\n",
    "\n",
    "\n",
    "RADIUS_TRAIN    = _graph['radius']\n",
    "SAMPLE_SIZE     = _graph['sample_size']\n",
    "NUM_SAMPLING    = _graph['num_sampling']"
   ]
  },
  {
   "cell_type": "code",
   "execution_count": 4,
   "metadata": {},
   "outputs": [
    {
     "name": "stdout",
     "output_type": "stream",
     "text": [
      "The number of the parameters in the custom GNO\n",
      ">>> 332065\n",
      "The number of the parameters in the reference GNO\n",
      ">>> 332065\n",
      "GraphNeuralOperatorLite(\n",
      "    lift:       MLP(layer=(6, 32), bias=True, activation=relu),\n",
      "    hidden:     GraphKernelLayer(node_dim=32, kernel_layer=MLP(layer=(6, 256, 256, 1024), bias=True, activation=relu))\n",
      "                x 6)\n",
      "                )\n",
      "    projection: MLP(layer=(32, 1), bias=True, activation=relu),\n",
      ")\n"
     ]
    }
   ],
   "source": [
    "### NOTE Model instantiation\n",
    "\n",
    "\n",
    "GNO_SOURCE  = (\"custom\", \"reference\")\n",
    "GNO_INDEX   = _gno['gno_index']\n",
    "\n",
    "GNO_LIST= (\n",
    "    GNOLite(\n",
    "                in_channels         = _gno['in_channels'],\n",
    "                hidden_channels     = _gno['hidden_channels'],\n",
    "                out_channels        = _gno['out_channels'],\n",
    "                edge_channels       = _gno['edge_channels'],\n",
    "                n_layers            = _gno['n_layers'],\n",
    "                lift_layer          = _gno['lift_layer'],\n",
    "                kernel_layer        = _gno['kernel_layer'],\n",
    "                project_layer       = _gno['project_layer'],\n",
    "                activation          = _gno['activation'],\n",
    "            ).cuda(),\n",
    "    KernelNN(\n",
    "                in_width        = _gno['in_channels'],\n",
    "                ker_in          = _gno['edge_channels'],\n",
    "                width           = _gno['hidden_channels'],\n",
    "                ker_width       = _gno['kernel_layer'][0],  # `KernelNN` uses a 2-layer MLP\n",
    "                depth           = _gno['n_layers'],\n",
    "            ).cuda()\n",
    ")\n",
    "\n",
    "print(f\"The number of the parameters in the custom GNO\\n>>> {   count_parameters(GNO_LIST[0])}\")\n",
    "print(f\"The number of the parameters in the reference GNO\\n>>> {count_parameters(GNO_LIST[1])}\")\n",
    "\n",
    "gno: GNOLite | KernelNN = GNO_LIST[GNO_INDEX]\n",
    "print(gno)"
   ]
  },
  {
   "cell_type": "markdown",
   "metadata": {},
   "source": [
    "## 2. Preprocess data"
   ]
  },
  {
   "cell_type": "markdown",
   "metadata": {},
   "source": [
    "### 2-1. Instantiate the storages"
   ]
  },
  {
   "cell_type": "code",
   "execution_count": 5,
   "metadata": {},
   "outputs": [],
   "source": [
    "train_data: dict[str, torch.Tensor]= {\n",
    "    'coeff':    None,\n",
    "    'Kcoeff':   None,\n",
    "    'Kcoeff_x': None,\n",
    "    'Kcoeff_y': None,\n",
    "    'sol':      None,\n",
    "}\n",
    "val_data: dict[str, torch.Tensor]= {\n",
    "    'coeff':    None,\n",
    "    'Kcoeff':   None,\n",
    "    'Kcoeff_x': None,\n",
    "    'Kcoeff_y': None,\n",
    "    'sol':      None,\n",
    "}\n",
    "\n",
    "\n",
    "normalizer: dict[str, GaussianNormalizer] = {\n",
    "    'coeff':    None,\n",
    "    'Kcoeff':   None,\n",
    "    'Kcoeff_x': None,\n",
    "    'Kcoeff_y': None,\n",
    "    'sol':      None,\n",
    "}"
   ]
  },
  {
   "cell_type": "markdown",
   "metadata": {},
   "source": [
    "### 2-2. Load the train data"
   ]
  },
  {
   "cell_type": "code",
   "execution_count": 6,
   "metadata": {},
   "outputs": [
    {
     "data": {
      "application/vnd.jupyter.widget-view+json": {
       "model_id": "9c205bbf9e474a35a7209f32feb01419",
       "version_major": 2,
       "version_minor": 0
      },
      "text/plain": [
       "Preprocessing the train data: 0it [00:00, ?it/s]"
      ]
     },
     "metadata": {},
     "output_type": "display_data"
    },
    {
     "data": {
      "application/vnd.jupyter.widget-view+json": {
       "model_id": "105bdaf94b6d4d90980fb82643f7ab2f",
       "version_major": 2,
       "version_minor": 0
      },
      "text/plain": [
       "Preprocessing the validation data: 0it [00:00, ?it/s]"
      ]
     },
     "metadata": {},
     "output_type": "display_data"
    }
   ],
   "source": [
    "# Train data\n",
    "reader = npzReader(TRAIN_PATH)\n",
    "for cnt, k in tqdm(enumerate(train_data.keys()), desc = \"Preprocessing the train data\"):\n",
    "    # Step 1. Load data\n",
    "    train_data[k] = torch.from_numpy(reader.get_field(k)[TRAIN_MASK, ::DOWNSAMPLE, ::DOWNSAMPLE])\n",
    "    train_data[k] = train_data[k].flatten(-1)\n",
    "    train_data[k] = train_data[k].type(torch.float)\n",
    "    \n",
    "    # Step 2. Normalize data\n",
    "    normalizer[k] = GaussianNormalizer(train_data[k])\n",
    "    train_data[k] = normalizer[k].encode(train_data[k])\n",
    "\n",
    "\n",
    "# Validation data\n",
    "for cnt, k in tqdm(enumerate(val_data.keys()), desc = \"Preprocessing the validation data\"):\n",
    "    # Step 1. Load data\n",
    "    val_data[k] = torch.from_numpy(reader.get_field(k)[VAL_MASK, ::DOWNSAMPLE, ::DOWNSAMPLE])\n",
    "    val_data[k] = val_data[k].flatten(-1)\n",
    "    val_data[k] = val_data[k].type(torch.float)\n",
    "    \n",
    "    # Step 2. Normalize data (NOTE: Uses the normalizers for the train dataset)\n",
    "    val_data[k] = normalizer[k].encode(val_data[k])"
   ]
  },
  {
   "cell_type": "markdown",
   "metadata": {},
   "source": [
    "### 2-3. Construct graphs"
   ]
  },
  {
   "cell_type": "code",
   "execution_count": 7,
   "metadata": {},
   "outputs": [],
   "source": [
    "# NOTE Generate a grid to set the node and edge attributes\n",
    "\n",
    "\n",
    "grid_generator  = GridGenerator([[0., 1.], [0., 1.]], [GRID, GRID], radius = RADIUS_TRAIN)\n",
    "grid_full_info  = grid_generator.full_information()\n",
    "node_index  = grid_full_info['node_index']\n",
    "edge_index  = grid_full_info['edge_index']\n",
    "grid        = grid_full_info['grid']"
   ]
  },
  {
   "cell_type": "code",
   "execution_count": 8,
   "metadata": {},
   "outputs": [
    {
     "data": {
      "application/vnd.jupyter.widget-view+json": {
       "model_id": "cf272b4b339440509fb039c2e14ea5a1",
       "version_major": 2,
       "version_minor": 0
      },
      "text/plain": [
       "  0%|          | 0/100 [00:00<?, ?it/s]"
      ]
     },
     "metadata": {},
     "output_type": "display_data"
    },
    {
     "data": {
      "application/vnd.jupyter.widget-view+json": {
       "model_id": "46fc1eab67044eeebe295c48711b85d1",
       "version_major": 2,
       "version_minor": 0
      },
      "text/plain": [
       "  0%|          | 0/50 [00:00<?, ?it/s]"
      ]
     },
     "metadata": {},
     "output_type": "display_data"
    }
   ],
   "source": [
    "# NOTE Construct graphs\n",
    "\n",
    "\n",
    "list_train_data, list_test_data = [], []\n",
    "\n",
    "\n",
    "for idx in tqdm(range(TRAIN_SIZE)):\n",
    "    _coeff      = train_data[ 'coeff'  ][idx].reshape(NUM_NODES, -1)\n",
    "    _Kcoeff     = train_data[ 'Kcoeff' ][idx].reshape(NUM_NODES, -1)\n",
    "    _Kcoeff_x   = train_data['Kcoeff_x'][idx].reshape(NUM_NODES, -1)\n",
    "    _Kcoeff_y   = train_data['Kcoeff_y'][idx].reshape(NUM_NODES, -1)\n",
    "    # Define the node feature\n",
    "    _x = torch.hstack([grid, _coeff, _Kcoeff, _Kcoeff_x, _Kcoeff_y])\n",
    "    # Define the node target\n",
    "    _y = train_data['sol'][idx].reshape(NUM_NODES, -1)\n",
    "    # Define the edge feature\n",
    "    _edge_attr = torch.hstack(\n",
    "        [\n",
    "            grid[edge_index[0]],\n",
    "            grid[edge_index[1]],\n",
    "            _coeff[edge_index[0]],\n",
    "            _coeff[edge_index[1]]\n",
    "        ]\n",
    "    )\n",
    "    \n",
    "    # Append the new graph\n",
    "    list_train_data.append(\n",
    "        Data(\n",
    "            x = _x,\n",
    "            y = _y,\n",
    "            edge_index  = edge_index,\n",
    "            edge_attr   = _edge_attr,\n",
    "        )\n",
    "    )\n",
    "\n",
    "\n",
    "for idx in tqdm(range(VAL_SIZE)):\n",
    "    _coeff      = val_data[ 'coeff'  ][idx].reshape(NUM_NODES, -1)\n",
    "    _Kcoeff     = val_data[ 'Kcoeff' ][idx].reshape(NUM_NODES, -1)\n",
    "    _Kcoeff_x   = val_data['Kcoeff_x'][idx].reshape(NUM_NODES, -1)\n",
    "    _Kcoeff_y   = val_data['Kcoeff_y'][idx].reshape(NUM_NODES, -1)\n",
    "    # Define the node feature\n",
    "    _x = torch.hstack([grid, _coeff, _Kcoeff, _Kcoeff_x, _Kcoeff_y])\n",
    "    # Define the node target\n",
    "    _y = val_data['sol'][idx].reshape(NUM_NODES, -1)\n",
    "    # Define the edge feature\n",
    "    _edge_attr = torch.hstack(\n",
    "        [\n",
    "            grid[edge_index[0]],\n",
    "            grid[edge_index[1]],\n",
    "            _coeff[edge_index[0]],\n",
    "            _coeff[edge_index[1]]\n",
    "        ]\n",
    "    )\n",
    "    \n",
    "    # Append the new graph\n",
    "    list_test_data.append(\n",
    "        Data(\n",
    "            x = _x,\n",
    "            y = _y,\n",
    "            edge_index  = edge_index,\n",
    "            edge_attr   = _edge_attr,\n",
    "        )\n",
    "    )"
   ]
  },
  {
   "cell_type": "markdown",
   "metadata": {},
   "source": [
    "### 2-4. Instantiate dataloaders"
   ]
  },
  {
   "cell_type": "code",
   "execution_count": 9,
   "metadata": {},
   "outputs": [],
   "source": [
    "train_loader = DataLoader(list_train_data, batch_size = BATCH_SIZE, shuffle = True)\n",
    "test_loader  = DataLoader(list_test_data,  batch_size = BATCH_SIZE, shuffle = True) "
   ]
  },
  {
   "cell_type": "markdown",
   "metadata": {},
   "source": [
    "## 3. Train the model"
   ]
  },
  {
   "cell_type": "markdown",
   "metadata": {},
   "source": [
    "### 3-1. Initialize the model and instantiate the loss function and the optimizer"
   ]
  },
  {
   "cell_type": "code",
   "execution_count": 10,
   "metadata": {},
   "outputs": [],
   "source": [
    "for p in gno.parameters():\n",
    "    if p.ndim == 1:\n",
    "        nn.init.zeros_(p)\n",
    "    else:\n",
    "        nn.init.xavier_uniform_(p)\n",
    "\n",
    "criterion = nn.MSELoss(reduction = 'mean')\n",
    "optimizer = optim.Adam(params = gno.parameters(), lr = 1e-3)"
   ]
  },
  {
   "cell_type": "markdown",
   "metadata": {},
   "source": [
    "### 3-2. Train the model"
   ]
  },
  {
   "cell_type": "code",
   "execution_count": 11,
   "metadata": {},
   "outputs": [
    {
     "data": {
      "application/vnd.jupyter.widget-view+json": {
       "model_id": "96f3d85b9dc148d0be9b91e3382b2210",
       "version_major": 2,
       "version_minor": 0
      },
      "text/plain": [
       "  0%|          | 0/200 [00:00<?, ?it/s]"
      ]
     },
     "metadata": {},
     "output_type": "display_data"
    },
    {
     "name": "stdout",
     "output_type": "stream",
     "text": [
      "[ Epoch 1 / 200 ]\n",
      "* train_loss     : 8.0489e-01\n",
      "* train_error    : 5.6419e-01\n",
      "* val_loss       : 5.2429e-01\n",
      "* val_error      : 4.5898e-01\n",
      "[ Epoch 10 / 200 ]\n",
      "* train_loss     : 3.8638e-02\n",
      "* train_error    : 1.2276e-01\n",
      "* val_loss       : 2.6116e-02\n",
      "* val_error      : 1.0252e-01\n",
      "[ Epoch 20 / 200 ]\n",
      "* train_loss     : 3.6145e-02\n",
      "* train_error    : 1.1825e-01\n",
      "* val_loss       : 3.0003e-02\n",
      "* val_error      : 1.0942e-01\n",
      "[ Epoch 30 / 200 ]\n",
      "* train_loss     : 1.6634e-02\n",
      "* train_error    : 8.0478e-02\n",
      "* val_loss       : 1.2970e-02\n",
      "* val_error      : 7.1363e-02\n",
      "[ Epoch 40 / 200 ]\n",
      "* train_loss     : 2.8071e-02\n",
      "* train_error    : 1.0349e-01\n",
      "* val_loss       : 2.4498e-02\n",
      "* val_error      : 9.9493e-02\n",
      "[ Epoch 50 / 200 ]\n",
      "* train_loss     : 1.7405e-02\n",
      "* train_error    : 8.1709e-02\n",
      "* val_loss       : 2.0814e-02\n",
      "* val_error      : 9.1615e-02\n",
      "[ Epoch 60 / 200 ]\n",
      "* train_loss     : 1.2323e-02\n",
      "* train_error    : 6.8496e-02\n",
      "* val_loss       : 2.3154e-02\n",
      "* val_error      : 9.6266e-02\n",
      "[ Epoch 70 / 200 ]\n",
      "* train_loss     : 1.0952e-02\n",
      "* train_error    : 6.5283e-02\n",
      "* val_loss       : 1.5075e-02\n",
      "* val_error      : 7.7389e-02\n",
      "[ Epoch 80 / 200 ]\n",
      "* train_loss     : 1.5579e-02\n",
      "* train_error    : 7.7171e-02\n",
      "* val_loss       : 1.2249e-02\n",
      "* val_error      : 6.9697e-02\n",
      "[ Epoch 90 / 200 ]\n",
      "* train_loss     : 7.5700e-03\n",
      "* train_error    : 5.4543e-02\n",
      "* val_loss       : 1.2883e-02\n",
      "* val_error      : 7.0979e-02\n",
      "[ Epoch 100 / 200 ]\n",
      "* train_loss     : 1.0327e-02\n",
      "* train_error    : 6.3514e-02\n",
      "* val_loss       : 1.0250e-02\n",
      "* val_error      : 6.2454e-02\n",
      "[ Epoch 110 / 200 ]\n",
      "* train_loss     : 1.0209e-02\n",
      "* train_error    : 6.2837e-02\n",
      "* val_loss       : 9.1676e-03\n",
      "* val_error      : 6.0131e-02\n",
      "[ Epoch 120 / 200 ]\n",
      "* train_loss     : 9.1843e-03\n",
      "* train_error    : 5.8958e-02\n",
      "* val_loss       : 1.2566e-02\n",
      "* val_error      : 7.0804e-02\n",
      "[ Epoch 130 / 200 ]\n",
      "* train_loss     : 7.5436e-03\n",
      "* train_error    : 5.4332e-02\n",
      "* val_loss       : 9.4881e-03\n",
      "* val_error      : 6.0097e-02\n",
      "[ Epoch 140 / 200 ]\n",
      "* train_loss     : 6.7073e-03\n",
      "* train_error    : 5.0782e-02\n",
      "* val_loss       : 8.7950e-03\n",
      "* val_error      : 5.9274e-02\n",
      "[ Epoch 150 / 200 ]\n",
      "* train_loss     : 6.3682e-03\n",
      "* train_error    : 5.0065e-02\n",
      "* val_loss       : 9.0399e-03\n",
      "* val_error      : 5.8943e-02\n",
      "[ Epoch 160 / 200 ]\n",
      "* train_loss     : 6.8476e-03\n",
      "* train_error    : 5.1315e-02\n",
      "* val_loss       : 8.3664e-03\n",
      "* val_error      : 5.7560e-02\n",
      "[ Epoch 170 / 200 ]\n",
      "* train_loss     : 4.8780e-03\n",
      "* train_error    : 4.3324e-02\n",
      "* val_loss       : 8.2384e-03\n",
      "* val_error      : 5.6305e-02\n",
      "[ Epoch 180 / 200 ]\n",
      "* train_loss     : 4.7284e-03\n",
      "* train_error    : 4.2959e-02\n",
      "* val_loss       : 9.6960e-03\n",
      "* val_error      : 6.0133e-02\n",
      "[ Epoch 190 / 200 ]\n",
      "* train_loss     : 5.4386e-03\n",
      "* train_error    : 4.6049e-02\n",
      "* val_loss       : 1.0951e-02\n",
      "* val_error      : 6.5714e-02\n",
      "[ Epoch 200 / 200 ]\n",
      "* train_loss     : 9.9336e-03\n",
      "* train_error    : 6.2525e-02\n",
      "* val_loss       : 9.3915e-03\n",
      "* val_error      : 6.0956e-02\n",
      "Elapsed time: 87 seconds\n"
     ]
    }
   ],
   "source": [
    "train_history = {\n",
    "    'train_loss':   [],\n",
    "    'train_error':  [],\n",
    "    'val_loss':     [],\n",
    "    'val_error':    [],\n",
    "    'train_time':   0.0,\n",
    "}\n",
    "normalizer['sol'].cuda()\n",
    "\n",
    "elapsed_time = time.time()\n",
    "for epoch in tqdm(range(1, NUM_EPOCHS + 1)):\n",
    "    # NOTE: Train\n",
    "    gno.train()\n",
    "    _train_time = time.time()\n",
    "    train_epoch_loss:  torch.Tensor = 0\n",
    "    train_epoch_error: torch.Tensor = 0\n",
    "    for batch in train_loader:\n",
    "        batch: Data = batch.cuda()\n",
    "        \n",
    "        train_pred = gno.forward(batch.x, batch.edge_index, batch.edge_attr)\n",
    "        train_loss = criterion.forward(train_pred, batch.y)\n",
    "        optimizer.zero_grad()\n",
    "        train_loss.backward()\n",
    "        optimizer.step()\n",
    "        \n",
    "        train_epoch_loss = train_epoch_loss + (\n",
    "            train_loss\n",
    "        ) * len(batch)\n",
    "        train_pred  = normalizer['sol'].decode(train_pred)\n",
    "        batch.y     = normalizer['sol'].decode(batch.y)\n",
    "        train_epoch_error = train_epoch_error + (\n",
    "            torch.linalg.norm(train_pred - batch.y) / (1e-8 + torch.linalg.norm(batch.y))\n",
    "        ) * len(batch)\n",
    "    _train_time = time.time() - _train_time\n",
    "    train_history['train_time'] += _train_time\n",
    "    train_epoch_loss    = train_epoch_loss / TRAIN_SIZE\n",
    "    train_epoch_error   = train_epoch_error / TRAIN_SIZE\n",
    "    train_history['train_loss'].append(train_epoch_loss.item())\n",
    "    train_history['train_error'].append(train_epoch_error.item())\n",
    "    \n",
    "    \n",
    "    # NOTE: Validation\n",
    "    gno.eval()\n",
    "    val_epoch_loss:     torch.Tensor = 0\n",
    "    val_epoch_error:    torch.Tensor = 0\n",
    "    with torch.no_grad():\n",
    "        for batch in test_loader:\n",
    "            batch: Data = batch.cuda()\n",
    "            \n",
    "            val_pred = gno.forward(batch.x, batch.edge_index, batch.edge_attr)\n",
    "            val_loss = criterion.forward(val_pred, batch.y)\n",
    "            \n",
    "            val_epoch_loss      = val_epoch_loss + val_loss * len(batch)\n",
    "            val_pred = normalizer['sol'].decode(val_pred)\n",
    "            batch.y  = normalizer['sol'].decode(batch.y)\n",
    "            val_epoch_error     = val_epoch_error + (\n",
    "                                        torch.linalg.norm(val_pred - batch.y) / (1e-8 + torch.linalg.norm(batch.y))\n",
    "                                    ) * len(batch)\n",
    "    val_epoch_loss      = val_epoch_loss / VAL_SIZE\n",
    "    val_epoch_error     = val_epoch_error / VAL_SIZE\n",
    "    train_history['val_loss'].append(val_epoch_loss.item())\n",
    "    train_history['val_error'].append(val_epoch_error.item())\n",
    "    \n",
    "    if epoch % 10 == 0 or epoch == 1:\n",
    "        print(f\"[ Epoch {epoch} / {NUM_EPOCHS} ]\")\n",
    "        for k in train_history.keys():\n",
    "            if k == \"train_time\":\n",
    "                continue\n",
    "            print(f\"* {k:15s}: {train_history[k][-1]:.4e}\")\n",
    "    \n",
    "elapsed_time = time.time() - elapsed_time\n",
    "print(f\"Elapsed time: {int(elapsed_time)} seconds\")"
   ]
  },
  {
   "cell_type": "markdown",
   "metadata": {},
   "source": [
    "### 3-3. Save the model and the train history"
   ]
  },
  {
   "cell_type": "code",
   "execution_count": 12,
   "metadata": {},
   "outputs": [],
   "source": [
    "gno.cpu()\n",
    "\n",
    "# Save the model\n",
    "gno_src = GNO_SOURCE[GNO_INDEX]\n",
    "os.makedirs(GNO_SOURCE[GNO_INDEX], exist_ok = True)\n",
    "torch.save(gno.state_dict(), f\"{gno_src}/gno_darcy{RESOLUTION}_res{GRID}.pth\")\n",
    "\n",
    "# Save the normalizer, which will also be used in prediction\n",
    "normalizer['sol'].cpu()\n",
    "torch.save(normalizer, f\"{gno_src}/gno_darcy{RESOLUTION}_res{GRID}_normalizer.pth\")\n",
    "\n",
    "# Save the history\n",
    "with open(f\"{gno_src}/gno_darcy{RESOLUTION}_res{GRID}.pickle\", \"wb\") as f:\n",
    "    pickle.dump(train_history, f)"
   ]
  },
  {
   "cell_type": "markdown",
   "metadata": {},
   "source": [
    "## End of file"
   ]
  }
 ],
 "metadata": {
  "kernelspec": {
   "display_name": "torch",
   "language": "python",
   "name": "python3"
  },
  "language_info": {
   "codemirror_mode": {
    "name": "ipython",
    "version": 3
   },
   "file_extension": ".py",
   "mimetype": "text/x-python",
   "name": "python",
   "nbconvert_exporter": "python",
   "pygments_lexer": "ipython3",
   "version": "3.10.14"
  }
 },
 "nbformat": 4,
 "nbformat_minor": 2
}
