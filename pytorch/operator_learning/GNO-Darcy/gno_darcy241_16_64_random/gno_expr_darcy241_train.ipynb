{
 "cells": [
  {
   "cell_type": "markdown",
   "metadata": {},
   "source": [
    "## 1. Set up the experiment"
   ]
  },
  {
   "cell_type": "markdown",
   "metadata": {},
   "source": [
    "### 1-1. Import modules"
   ]
  },
  {
   "cell_type": "code",
   "execution_count": 1,
   "metadata": {},
   "outputs": [],
   "source": [
    "import  os, time\n",
    "from    pathlib             import  Path\n",
    "from    tqdm.notebook       import  tqdm\n",
    "import  pickle\n",
    "\n",
    "import  numpy                       as  np\n",
    "import  torch\n",
    "from    torch                       import  nn, optim\n",
    "from    torch_geometric.data        import  Data\n",
    "from    torch_geometric.loader      import  DataLoader\n",
    "\n",
    "import  yaml\n",
    "\n",
    "from    custom_modules.utils                import  get_time_str\n",
    "from    custom_modules.utils                import  GaussianNormalizer, npzReader\n",
    "from    custom_modules.utils                import  RandomGridGenerator\n",
    "from    custom_modules.pytorch.neuralop     import  GraphNeuralOperator as  GNO\n",
    "# from    custom_modules.pytorch.neuralop_ref import  GNO\n",
    "from    custom_modules.pytorch.torch_utils  import  count_parameters\n",
    "\n",
    "\n",
    "time_str = get_time_str()"
   ]
  },
  {
   "cell_type": "markdown",
   "metadata": {},
   "source": [
    "### 1-2. Load the configurations"
   ]
  },
  {
   "cell_type": "code",
   "execution_count": 2,
   "metadata": {},
   "outputs": [],
   "source": [
    "with open(\"config_train.yaml\") as f:\n",
    "    config = yaml.load(f, Loader = yaml.FullLoader)\n",
    "    _exp   = config['experiment']\n",
    "    _data  = config['pde_dataset']\n",
    "    _graph = config['graph']\n",
    "    _gno   = config['gno']"
   ]
  },
  {
   "cell_type": "markdown",
   "metadata": {},
   "source": [
    "### 1-3. Set the experiment"
   ]
  },
  {
   "cell_type": "code",
   "execution_count": 3,
   "metadata": {},
   "outputs": [],
   "source": [
    "# NOTE Training and data preprocess\n",
    "\n",
    "\n",
    "BATCH_SIZE      = _exp['batch_size']\n",
    "NUM_EPOCHS      = _exp['num_epochs']\n",
    "LEARNING_RATE   = _exp['learning_rate']\n",
    "TRAIN_SIZE      = _exp['train_size']\n",
    "VAL_SIZE        = _exp['val_size']\n",
    "DEVICE          = torch.device(f\"cuda:{_exp['cuda_index']}\")\n",
    "\n",
    "\n",
    "RESOLUTION      = _data['resolution']\n",
    "TRAIN_PATH      = Path(_data['path'])\n",
    "__RANDOM_CHOICE = np.random.choice(1024, TRAIN_SIZE + VAL_SIZE, replace = False)\n",
    "TRAIN_MASK      = __RANDOM_CHOICE[:TRAIN_SIZE]\n",
    "VAL_MASK        = __RANDOM_CHOICE[-VAL_SIZE:]\n",
    "\n",
    "\n",
    "DOWNSAMPLE      = _data['downsample']\n",
    "GRID            = (RESOLUTION - 1) // DOWNSAMPLE + 1\n",
    "NUM_NODES       = GRID ** 2\n",
    "\n",
    "\n",
    "RADIUS_TRAIN    = _graph['radius']\n",
    "SAMPLE_SIZE     = _graph['sample_size']\n",
    "NUM_SAMPLING    = _graph['num_sampling']"
   ]
  },
  {
   "cell_type": "markdown",
   "metadata": {},
   "source": [
    "## 2. Preprocess data"
   ]
  },
  {
   "cell_type": "markdown",
   "metadata": {},
   "source": [
    "### 2-1. Instantiate the storages"
   ]
  },
  {
   "cell_type": "code",
   "execution_count": 4,
   "metadata": {},
   "outputs": [],
   "source": [
    "train_data: dict[str, torch.Tensor]= {\n",
    "    'coeff':    None,\n",
    "    'Kcoeff':   None,\n",
    "    'Kcoeff_x': None,\n",
    "    'Kcoeff_y': None,\n",
    "    'sol':      None,\n",
    "}\n",
    "val_data: dict[str, torch.Tensor]= {\n",
    "    'coeff':    None,\n",
    "    'Kcoeff':   None,\n",
    "    'Kcoeff_x': None,\n",
    "    'Kcoeff_y': None,\n",
    "    'sol':      None,\n",
    "}\n",
    "\n",
    "\n",
    "normalizer: dict[str, GaussianNormalizer] = {\n",
    "    'coeff':    None,\n",
    "    'Kcoeff':   None,\n",
    "    'Kcoeff_x': None,\n",
    "    'Kcoeff_y': None,\n",
    "    'sol':      None,\n",
    "}"
   ]
  },
  {
   "cell_type": "markdown",
   "metadata": {},
   "source": [
    "### 2-2. Load the train data"
   ]
  },
  {
   "cell_type": "code",
   "execution_count": 5,
   "metadata": {},
   "outputs": [
    {
     "data": {
      "application/vnd.jupyter.widget-view+json": {
       "model_id": "151f1945994d4e62acd8ebf0c639687a",
       "version_major": 2,
       "version_minor": 0
      },
      "text/plain": [
       "Preprocessing the train data: 0it [00:00, ?it/s]"
      ]
     },
     "metadata": {},
     "output_type": "display_data"
    },
    {
     "data": {
      "application/vnd.jupyter.widget-view+json": {
       "model_id": "9c4ab7003edb403087c6522a1be2fbb4",
       "version_major": 2,
       "version_minor": 0
      },
      "text/plain": [
       "Preprocessing the validation data: 0it [00:00, ?it/s]"
      ]
     },
     "metadata": {},
     "output_type": "display_data"
    }
   ],
   "source": [
    "# Train data\n",
    "reader = npzReader(TRAIN_PATH)\n",
    "for cnt, k in tqdm(enumerate(train_data.keys()), desc = \"Preprocessing the train data\"):\n",
    "    # Step 1. Load data\n",
    "    train_data[k] = torch.from_numpy(reader.get_field(k)[TRAIN_MASK, ::DOWNSAMPLE, ::DOWNSAMPLE])\n",
    "    train_data[k] = train_data[k].flatten(-1)\n",
    "    train_data[k] = train_data[k].type(torch.float)\n",
    "    \n",
    "    # Step 2. Normalize data\n",
    "    normalizer[k] = GaussianNormalizer(train_data[k])\n",
    "    train_data[k] = normalizer[k].encode(train_data[k])\n",
    "\n",
    "\n",
    "# Validation data\n",
    "for cnt, k in tqdm(enumerate(val_data.keys()), desc = \"Preprocessing the validation data\"):\n",
    "    # Step 1. Load data\n",
    "    val_data[k] = torch.from_numpy(reader.get_field(k)[VAL_MASK, ::DOWNSAMPLE, ::DOWNSAMPLE])\n",
    "    val_data[k] = val_data[k].flatten(-1)\n",
    "    val_data[k] = val_data[k].type(torch.float)\n",
    "    \n",
    "    # Step 2. Normalize data (NOTE: Uses the normalizers for the train dataset)\n",
    "    val_data[k] = normalizer[k].encode(val_data[k])"
   ]
  },
  {
   "cell_type": "markdown",
   "metadata": {},
   "source": [
    "### 2-3. Construct graphs"
   ]
  },
  {
   "cell_type": "code",
   "execution_count": 6,
   "metadata": {},
   "outputs": [],
   "source": [
    "# NOTE Generate a grid to set the node and edge attributes\n",
    "\n",
    "\n",
    "grid_generator  = RandomGridGenerator(\n",
    "                        domain      = [[0., 1.], [0., 1.]],\n",
    "                        grid_size   = [GRID, GRID],\n",
    "                        radius      = RADIUS_TRAIN,\n",
    "                        sample_size = SAMPLE_SIZE,\n",
    "                        max_neighbors = 50\n",
    "                    )"
   ]
  },
  {
   "cell_type": "code",
   "execution_count": 7,
   "metadata": {},
   "outputs": [
    {
     "data": {
      "application/vnd.jupyter.widget-view+json": {
       "model_id": "36473733095f434db8490a127bf1ded3",
       "version_major": 2,
       "version_minor": 0
      },
      "text/plain": [
       "  0%|          | 0/100 [00:00<?, ?it/s]"
      ]
     },
     "metadata": {},
     "output_type": "display_data"
    },
    {
     "data": {
      "application/vnd.jupyter.widget-view+json": {
       "model_id": "d37132dcffe04aa3931d14354c44b69d",
       "version_major": 2,
       "version_minor": 0
      },
      "text/plain": [
       "  0%|          | 0/50 [00:00<?, ?it/s]"
      ]
     },
     "metadata": {},
     "output_type": "display_data"
    }
   ],
   "source": [
    "# NOTE Construct graphs\n",
    "\n",
    "\n",
    "list_train_data, list_val_data = [], []\n",
    "\n",
    "\n",
    "for idx in tqdm(range(TRAIN_SIZE)):\n",
    "    for cnt in range(NUM_SAMPLING):\n",
    "        full_node_index     = grid_generator.node_index\n",
    "        full_edge_index     = grid_generator.construct_graph(radius_range=[0, RADIUS_TRAIN], max_neighbors=30)\n",
    "        full_grid           = grid_generator.grid\n",
    "        \n",
    "        grid_generator.sample()\n",
    "        subgrid_index       = grid_generator.subgrid_index\n",
    "        subgraph_edge_index = grid_generator.subgraph_edge_index\n",
    "        subgraph_coords     = grid_generator.subgraph_coordinates\n",
    "        \n",
    "        subgraph_edge_index_in_grid = subgrid_index[subgraph_edge_index]\n",
    "        \n",
    "        _coeff      = train_data[ 'coeff'  ][idx].reshape(NUM_NODES, -1)\n",
    "        _Kcoeff     = train_data[ 'Kcoeff' ][idx].reshape(NUM_NODES, -1)\n",
    "        _Kcoeff_x   = train_data['Kcoeff_x'][idx].reshape(NUM_NODES, -1)\n",
    "        _Kcoeff_y   = train_data['Kcoeff_y'][idx].reshape(NUM_NODES, -1)\n",
    "        # Define the node feature\n",
    "        _x = torch.hstack(\n",
    "            [\n",
    "                subgraph_coords,\n",
    "                _coeff[subgrid_index],\n",
    "                _Kcoeff[subgrid_index],\n",
    "                _Kcoeff_x[subgrid_index],\n",
    "                _Kcoeff_y[subgrid_index],\n",
    "            ]\n",
    "        )\n",
    "        # Define the node target\n",
    "        _y = train_data['sol'][idx].reshape(NUM_NODES, -1)[subgrid_index]\n",
    "        # Define the edge feature\n",
    "        _edge_attr = torch.hstack(\n",
    "            [\n",
    "                full_grid[subgraph_edge_index_in_grid[0]],\n",
    "                full_grid[subgraph_edge_index_in_grid[1]],\n",
    "                _coeff[subgraph_edge_index_in_grid[0]],\n",
    "                _coeff[subgraph_edge_index_in_grid[1]]\n",
    "            ]\n",
    "        )\n",
    "        \n",
    "        # Append the new graph\n",
    "        list_train_data.append(\n",
    "            Data(\n",
    "                x = _x,\n",
    "                y = _y,\n",
    "                edge_index  = subgraph_edge_index,\n",
    "                edge_attr   = _edge_attr,\n",
    "            )\n",
    "        )\n",
    "\n",
    "\n",
    "for idx in tqdm(range(VAL_SIZE)):\n",
    "    for cnt in range(NUM_SAMPLING):\n",
    "        full_node_index     = grid_generator.node_index\n",
    "        full_edge_index     = grid_generator.construct_graph(radius_range=[0, RADIUS_TRAIN], max_neighbors=30)\n",
    "        full_grid           = grid_generator.grid\n",
    "        \n",
    "        grid_generator.sample()\n",
    "        subgrid_index       = grid_generator.subgrid_index\n",
    "        subgraph_edge_index = grid_generator.subgraph_edge_index\n",
    "        subgraph_coords     = grid_generator.subgraph_coordinates\n",
    "        \n",
    "        subgraph_edge_index_in_grid = subgrid_index[subgraph_edge_index]\n",
    "        \n",
    "        _coeff      = val_data[ 'coeff'  ][idx].reshape(NUM_NODES, -1)\n",
    "        _Kcoeff     = val_data[ 'Kcoeff' ][idx].reshape(NUM_NODES, -1)\n",
    "        _Kcoeff_x   = val_data['Kcoeff_x'][idx].reshape(NUM_NODES, -1)\n",
    "        _Kcoeff_y   = val_data['Kcoeff_y'][idx].reshape(NUM_NODES, -1)\n",
    "        # Define the node feature\n",
    "        _x = torch.hstack(\n",
    "            [\n",
    "                subgraph_coords,\n",
    "                _coeff[subgrid_index],\n",
    "                _Kcoeff[subgrid_index],\n",
    "                _Kcoeff_x[subgrid_index],\n",
    "                _Kcoeff_y[subgrid_index],\n",
    "            ]\n",
    "        )\n",
    "        # Define the node target\n",
    "        _y = val_data['sol'][idx].reshape(NUM_NODES, -1)[subgrid_index]\n",
    "        # Define the edge feature\n",
    "        _edge_attr = torch.hstack(\n",
    "            [\n",
    "                full_grid[subgraph_edge_index_in_grid[0]],\n",
    "                full_grid[subgraph_edge_index_in_grid[1]],\n",
    "                _coeff[subgraph_edge_index_in_grid[0]],\n",
    "                _coeff[subgraph_edge_index_in_grid[1]]\n",
    "            ]\n",
    "        )\n",
    "        \n",
    "        # Append the new graph\n",
    "        list_val_data.append(\n",
    "            Data(\n",
    "                x = _x,\n",
    "                y = _y,\n",
    "                edge_index  = subgraph_edge_index,\n",
    "                edge_attr   = _edge_attr,\n",
    "            )\n",
    "        )"
   ]
  },
  {
   "cell_type": "markdown",
   "metadata": {},
   "source": [
    "### 2-4. Instantiate dataloaders"
   ]
  },
  {
   "cell_type": "code",
   "execution_count": 8,
   "metadata": {},
   "outputs": [],
   "source": [
    "train_loader = DataLoader(list_train_data, batch_size = BATCH_SIZE, shuffle = True)\n",
    "val_loader   = DataLoader(list_val_data,   batch_size = BATCH_SIZE, shuffle = True) "
   ]
  },
  {
   "cell_type": "markdown",
   "metadata": {},
   "source": [
    "## 3. Train the model"
   ]
  },
  {
   "cell_type": "markdown",
   "metadata": {},
   "source": [
    "### 3-1. Initialize the model and instantiate the loss function and the optimizer"
   ]
  },
  {
   "cell_type": "code",
   "execution_count": 9,
   "metadata": {},
   "outputs": [
    {
     "name": "stderr",
     "output_type": "stream",
     "text": [
      "c:\\Users\\GJ2\\anaconda3\\envs\\torch\\lib\\site-packages\\custom_modules\\utils\\__init__.py:48: UserWarning: (GraphNeuralOperator) The following unnecessary arguments are given to the initializer.\n",
      "* kwargs[0] >>> dim_domain=2\n",
      "* kwargs[1] >>> n_heads=1\n",
      "Note that these arguments are ignored.\n",
      "  warnings.warn(msg, UserWarning)\n"
     ]
    },
    {
     "name": "stdout",
     "output_type": "stream",
     "text": [
      "The number of the parameters in the custom GNO\n",
      ">>> 908065\n",
      "GraphNeuralOperator(\n",
      "    lift:       MLP(layer=(6, 64, 32), bias=True, activation=relu),\n",
      "    hidden:     (\n",
      "                     GraphKernelLayer(node_dim=32, kernel_layer=MLP(layer=(6, 128, 128, 1024), bias=True, activation=relu)))\n",
      "                     ReLU())\n",
      "                     GraphKernelLayer(node_dim=32, kernel_layer=MLP(layer=(6, 128, 128, 1024), bias=True, activation=relu)))\n",
      "                     ReLU())\n",
      "                     GraphKernelLayer(node_dim=32, kernel_layer=MLP(layer=(6, 128, 128, 1024), bias=True, activation=relu)))\n",
      "                     ReLU())\n",
      "                     GraphKernelLayer(node_dim=32, kernel_layer=MLP(layer=(6, 128, 128, 1024), bias=True, activation=relu)))\n",
      "                     ReLU())\n",
      "                     GraphKernelLayer(node_dim=32, kernel_layer=MLP(layer=(6, 128, 128, 1024), bias=True, activation=relu)))\n",
      "                     ReLU())\n",
      "                     GraphKernelLayer(node_dim=32, kernel_layer=MLP(layer=(6, 128, 128, 1024), bias=True, activation=relu)))\n",
      "                )\n",
      "    projection: MLP(layer=(32, 64, 1), bias=True, activation=relu),\n",
      ")\n"
     ]
    }
   ],
   "source": [
    "gno = GNO(dim_domain=2, n_heads=1, **_gno).to(DEVICE)\n",
    "print(f\"The number of the parameters in the custom GNO\\n>>> {count_parameters(gno)}\")\n",
    "print(gno)\n",
    "\n",
    "for p in gno.parameters():\n",
    "    if p.ndim == 1:\n",
    "        nn.init.zeros_(p)\n",
    "    else:\n",
    "        nn.init.xavier_uniform_(p)\n",
    "\n",
    "criterion = nn.MSELoss(reduction = 'mean')\n",
    "optimizer = optim.Adam(params = gno.parameters(), lr = 1e-3)"
   ]
  },
  {
   "cell_type": "markdown",
   "metadata": {},
   "source": [
    "### 3-2. Train the model"
   ]
  },
  {
   "cell_type": "code",
   "execution_count": 10,
   "metadata": {},
   "outputs": [
    {
     "data": {
      "application/vnd.jupyter.widget-view+json": {
       "model_id": "5abbeeefd20c4ea3ba44066c5803a493",
       "version_major": 2,
       "version_minor": 0
      },
      "text/plain": [
       "  0%|          | 0/300 [00:00<?, ?it/s]"
      ]
     },
     "metadata": {},
     "output_type": "display_data"
    },
    {
     "name": "stdout",
     "output_type": "stream",
     "text": [
      "[ Epoch 1 / 300 ]\n",
      "* train_loss     : 2.4243e+00\n",
      "* train_error    : 1.9365e+00\n",
      "* val_loss       : 1.2765e+00\n",
      "* val_error      : 1.4538e+00\n",
      "[ Epoch 10 / 300 ]\n",
      "* train_loss     : 9.4592e-02\n",
      "* train_error    : 3.8752e-01\n",
      "* val_loss       : 8.0171e-02\n",
      "* val_error      : 3.6380e-01\n",
      "[ Epoch 20 / 300 ]\n",
      "* train_loss     : 7.7479e-02\n",
      "* train_error    : 3.4964e-01\n",
      "* val_loss       : 7.8317e-02\n",
      "* val_error      : 3.5881e-01\n",
      "[ Epoch 30 / 300 ]\n",
      "* train_loss     : 5.1232e-02\n",
      "* train_error    : 2.8652e-01\n",
      "* val_loss       : 6.6496e-02\n",
      "* val_error      : 3.3032e-01\n",
      "[ Epoch 40 / 300 ]\n",
      "* train_loss     : 4.9185e-02\n",
      "* train_error    : 2.8065e-01\n",
      "* val_loss       : 5.8644e-02\n",
      "* val_error      : 3.0974e-01\n",
      "[ Epoch 50 / 300 ]\n",
      "* train_loss     : 3.8533e-02\n",
      "* train_error    : 2.4683e-01\n",
      "* val_loss       : 5.9019e-02\n",
      "* val_error      : 3.1107e-01\n",
      "[ Epoch 60 / 300 ]\n",
      "* train_loss     : 4.5204e-02\n",
      "* train_error    : 2.6439e-01\n",
      "* val_loss       : 6.4568e-02\n",
      "* val_error      : 3.2684e-01\n",
      "[ Epoch 70 / 300 ]\n",
      "* train_loss     : 3.3087e-02\n",
      "* train_error    : 2.3016e-01\n",
      "* val_loss       : 6.0153e-02\n",
      "* val_error      : 3.1552e-01\n",
      "[ Epoch 80 / 300 ]\n",
      "* train_loss     : 2.8734e-02\n",
      "* train_error    : 2.1354e-01\n",
      "* val_loss       : 4.4308e-02\n",
      "* val_error      : 2.6959e-01\n",
      "[ Epoch 90 / 300 ]\n",
      "* train_loss     : 2.6351e-02\n",
      "* train_error    : 2.0531e-01\n",
      "* val_loss       : 5.0360e-02\n",
      "* val_error      : 2.8832e-01\n",
      "[ Epoch 100 / 300 ]\n",
      "* train_loss     : 2.7264e-02\n",
      "* train_error    : 2.0838e-01\n",
      "* val_loss       : 4.5467e-02\n",
      "* val_error      : 2.7364e-01\n",
      "[ Epoch 110 / 300 ]\n",
      "* train_loss     : 1.9153e-02\n",
      "* train_error    : 1.7520e-01\n",
      "* val_loss       : 4.3878e-02\n",
      "* val_error      : 2.6822e-01\n",
      "[ Epoch 120 / 300 ]\n",
      "* train_loss     : 2.9358e-02\n",
      "* train_error    : 2.1308e-01\n",
      "* val_loss       : 5.1363e-02\n",
      "* val_error      : 2.9036e-01\n",
      "[ Epoch 130 / 300 ]\n",
      "* train_loss     : 1.7343e-02\n",
      "* train_error    : 1.6656e-01\n",
      "* val_loss       : 4.4178e-02\n",
      "* val_error      : 2.6992e-01\n",
      "[ Epoch 140 / 300 ]\n",
      "* train_loss     : 1.8035e-02\n",
      "* train_error    : 1.6941e-01\n",
      "* val_loss       : 4.0254e-02\n",
      "* val_error      : 2.5634e-01\n",
      "[ Epoch 150 / 300 ]\n",
      "* train_loss     : 1.4140e-02\n",
      "* train_error    : 1.5082e-01\n",
      "* val_loss       : 4.0759e-02\n",
      "* val_error      : 2.5931e-01\n",
      "[ Epoch 160 / 300 ]\n",
      "* train_loss     : 2.3523e-02\n",
      "* train_error    : 1.9222e-01\n",
      "* val_loss       : 4.6914e-02\n",
      "* val_error      : 2.7779e-01\n",
      "[ Epoch 170 / 300 ]\n",
      "* train_loss     : 1.3940e-02\n",
      "* train_error    : 1.4948e-01\n",
      "* val_loss       : 4.3621e-02\n",
      "* val_error      : 2.6616e-01\n",
      "[ Epoch 180 / 300 ]\n",
      "* train_loss     : 1.4804e-02\n",
      "* train_error    : 1.5292e-01\n",
      "* val_loss       : 4.5040e-02\n",
      "* val_error      : 2.7205e-01\n",
      "[ Epoch 190 / 300 ]\n",
      "* train_loss     : 1.6749e-02\n",
      "* train_error    : 1.6350e-01\n",
      "* val_loss       : 4.6911e-02\n",
      "* val_error      : 2.7782e-01\n",
      "[ Epoch 200 / 300 ]\n",
      "* train_loss     : 1.1016e-02\n",
      "* train_error    : 1.3258e-01\n",
      "* val_loss       : 4.1464e-02\n",
      "* val_error      : 2.6141e-01\n",
      "[ Epoch 210 / 300 ]\n",
      "* train_loss     : 1.4730e-02\n",
      "* train_error    : 1.5307e-01\n",
      "* val_loss       : 4.6971e-02\n",
      "* val_error      : 2.7803e-01\n",
      "[ Epoch 220 / 300 ]\n",
      "* train_loss     : 1.0130e-02\n",
      "* train_error    : 1.2764e-01\n",
      "* val_loss       : 4.1277e-02\n",
      "* val_error      : 2.6108e-01\n",
      "[ Epoch 230 / 300 ]\n",
      "* train_loss     : 1.3388e-02\n",
      "* train_error    : 1.4507e-01\n",
      "* val_loss       : 5.2544e-02\n",
      "* val_error      : 2.9471e-01\n",
      "[ Epoch 240 / 300 ]\n",
      "* train_loss     : 2.4017e-02\n",
      "* train_error    : 1.9477e-01\n",
      "* val_loss       : 4.6454e-02\n",
      "* val_error      : 2.7456e-01\n",
      "[ Epoch 250 / 300 ]\n",
      "* train_loss     : 9.1894e-03\n",
      "* train_error    : 1.2097e-01\n",
      "* val_loss       : 3.9126e-02\n",
      "* val_error      : 2.5307e-01\n",
      "[ Epoch 260 / 300 ]\n",
      "* train_loss     : 1.6178e-02\n",
      "* train_error    : 1.5941e-01\n",
      "* val_loss       : 4.4961e-02\n",
      "* val_error      : 2.7175e-01\n",
      "[ Epoch 270 / 300 ]\n",
      "* train_loss     : 9.1973e-03\n",
      "* train_error    : 1.2147e-01\n",
      "* val_loss       : 4.2503e-02\n",
      "* val_error      : 2.6444e-01\n",
      "[ Epoch 280 / 300 ]\n",
      "* train_loss     : 1.4257e-02\n",
      "* train_error    : 1.4983e-01\n",
      "* val_loss       : 4.3641e-02\n",
      "* val_error      : 2.6757e-01\n",
      "[ Epoch 290 / 300 ]\n",
      "* train_loss     : 1.0373e-02\n",
      "* train_error    : 1.2847e-01\n",
      "* val_loss       : 4.1709e-02\n",
      "* val_error      : 2.6209e-01\n",
      "[ Epoch 300 / 300 ]\n",
      "* train_loss     : 8.5545e-03\n",
      "* train_error    : 1.1702e-01\n",
      "* val_loss       : 4.2830e-02\n",
      "* val_error      : 2.6517e-01\n",
      "Elapsed time: 177 seconds\n"
     ]
    }
   ],
   "source": [
    "train_history = {\n",
    "    'train_loss':   [],\n",
    "    'train_error':  [],\n",
    "    'val_loss':     [],\n",
    "    'val_error':    [],\n",
    "    'train_time':   0.0,\n",
    "}\n",
    "normalizer['sol'].to(DEVICE)\n",
    "\n",
    "elapsed_time = time.time()\n",
    "for epoch in tqdm(range(1, NUM_EPOCHS + 1)):\n",
    "    # NOTE: Train\n",
    "    if True:\n",
    "        gno.train()\n",
    "        _train_time = time.time()\n",
    "        train_epoch_loss:  torch.Tensor = 0\n",
    "        train_epoch_error: torch.Tensor = 0\n",
    "        for batch in train_loader:\n",
    "            batch: Data = batch.to(DEVICE)\n",
    "            \n",
    "            train_pred = gno.forward(batch)           \n",
    "            train_loss = criterion.forward(train_pred, batch.y)\n",
    "            optimizer.zero_grad()\n",
    "            train_loss.backward()\n",
    "            optimizer.step()\n",
    "            \n",
    "            train_epoch_loss = train_epoch_loss + (\n",
    "                train_loss\n",
    "            ) * len(batch)\n",
    "            train_pred  = normalizer['sol'].decode(train_pred)\n",
    "            batch.y     = normalizer['sol'].decode(batch.y)\n",
    "            train_epoch_error = train_epoch_error + (\n",
    "                torch.linalg.norm(train_pred - batch.y) / (1e-8 + torch.linalg.norm(batch.y))\n",
    "            ) * len(batch)\n",
    "        _train_time = time.time() - _train_time\n",
    "        train_history['train_time'] += _train_time\n",
    "        train_epoch_loss    = train_epoch_loss / TRAIN_SIZE\n",
    "        train_epoch_error   = train_epoch_error / TRAIN_SIZE\n",
    "        train_history['train_loss'].append(train_epoch_loss.item())\n",
    "        train_history['train_error'].append(train_epoch_error.item())\n",
    "    \n",
    "    \n",
    "    # NOTE: Validation\n",
    "    if True:\n",
    "        gno.eval()\n",
    "        val_epoch_loss:     torch.Tensor = 0\n",
    "        val_epoch_error:    torch.Tensor = 0\n",
    "        with torch.no_grad():\n",
    "            for batch in val_loader:\n",
    "                batch: Data = batch.to(DEVICE)\n",
    "                \n",
    "                val_pred = gno.forward(batch)\n",
    "                val_loss = criterion.forward(val_pred, batch.y)\n",
    "                \n",
    "                val_epoch_loss      = val_epoch_loss + val_loss * len(batch)\n",
    "                val_pred = normalizer['sol'].decode(val_pred)\n",
    "                batch.y  = normalizer['sol'].decode(batch.y)\n",
    "                val_epoch_error     = val_epoch_error + (\n",
    "                                            torch.linalg.norm(val_pred - batch.y) / (1e-8 + torch.linalg.norm(batch.y))\n",
    "                                        ) * len(batch)\n",
    "        val_epoch_loss      = val_epoch_loss / VAL_SIZE\n",
    "        val_epoch_error     = val_epoch_error / VAL_SIZE\n",
    "        train_history['val_loss'].append(val_epoch_loss.item())\n",
    "        train_history['val_error'].append(val_epoch_error.item())\n",
    "    \n",
    "    # Report\n",
    "    if True:\n",
    "        if epoch % 10 == 0 or epoch == 1:\n",
    "            print(f\"[ Epoch {epoch} / {NUM_EPOCHS} ]\")\n",
    "            for k in train_history.keys():\n",
    "                if k == \"train_time\":\n",
    "                    continue\n",
    "                print(f\"* {k:15s}: {train_history[k][-1]:.4e}\")\n",
    "    \n",
    "elapsed_time = time.time() - elapsed_time\n",
    "print(f\"Elapsed time: {int(elapsed_time)} seconds\")"
   ]
  },
  {
   "cell_type": "markdown",
   "metadata": {},
   "source": [
    "### 3-3. Save the model and the train history"
   ]
  },
  {
   "cell_type": "code",
   "execution_count": 11,
   "metadata": {},
   "outputs": [],
   "source": [
    "gno.cpu()\n",
    "\n",
    "# Save the model\n",
    "os.makedirs(time_str, exist_ok = True)\n",
    "torch.save(gno.state_dict(), f\"{time_str}/gno_darcy{RESOLUTION}_res{GRID}.pth\")\n",
    "\n",
    "# Save the normalizer, which will also be used in prediction\n",
    "normalizer['sol'].cpu()\n",
    "torch.save(normalizer, f\"{time_str}/gno_darcy{RESOLUTION}_res{GRID}_normalizer.pth\")\n",
    "\n",
    "# Save the history\n",
    "with open(f\"{time_str}/gno_darcy{RESOLUTION}_res{GRID}.pickle\", \"wb\") as f:\n",
    "    pickle.dump(train_history, f)"
   ]
  },
  {
   "cell_type": "markdown",
   "metadata": {},
   "source": [
    "## End of file"
   ]
  }
 ],
 "metadata": {
  "kernelspec": {
   "display_name": "Python 3 (ipykernel)",
   "language": "python",
   "name": "python3"
  },
  "language_info": {
   "codemirror_mode": {
    "name": "ipython",
    "version": 3
   },
   "file_extension": ".py",
   "mimetype": "text/x-python",
   "name": "python",
   "nbconvert_exporter": "python",
   "pygments_lexer": "ipython3",
   "version": "3.10.14"
  }
 },
 "nbformat": 4,
 "nbformat_minor": 4
}
