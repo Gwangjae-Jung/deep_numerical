{
 "cells": [
  {
   "cell_type": "markdown",
   "metadata": {},
   "source": [
    "## 1. Set up the experiment"
   ]
  },
  {
   "cell_type": "markdown",
   "metadata": {},
   "source": [
    "### 1-1. Import modules"
   ]
  },
  {
   "cell_type": "code",
   "execution_count": null,
   "metadata": {},
   "outputs": [],
   "source": [
    "import  os, time\n",
    "from    pathlib             import  Path\n",
    "from    tqdm.notebook       import  tqdm\n",
    "import  pickle\n",
    "\n",
    "import  numpy                       as  np\n",
    "import  torch\n",
    "from    torch                       import  nn, optim\n",
    "from    torch_geometric.data        import  Data\n",
    "from    torch_geometric.loader      import  DataLoader\n",
    "\n",
    "import  yaml\n",
    "\n",
    "from    custom_modules.utils                import  get_time_str\n",
    "from    custom_modules.utils                import  GaussianNormalizer, npzReader\n",
    "from    custom_modules.utils                import  RandomGridGenerator\n",
    "from    custom_modules.pytorch.neuralop     import  GNO\n",
    "from    custom_modules.pytorch.torch_utils  import  count_parameters\n",
    "\n",
    "\n",
    "time_str = get_time_str()"
   ]
  },
  {
   "cell_type": "markdown",
   "metadata": {},
   "source": [
    "### 1-2. Load the configurations"
   ]
  },
  {
   "cell_type": "code",
   "execution_count": null,
   "metadata": {},
   "outputs": [],
   "source": [
    "with open(\"config_train.yaml\") as f:\n",
    "    config = yaml.load(f, Loader = yaml.FullLoader)\n",
    "    _exp   = config['experiment']\n",
    "    _data  = config['pde_dataset']\n",
    "    _graph = config['graph']\n",
    "    _gno   = config['gno']"
   ]
  },
  {
   "cell_type": "markdown",
   "metadata": {},
   "source": [
    "### 1-3. Set the experiment"
   ]
  },
  {
   "cell_type": "code",
   "execution_count": null,
   "metadata": {},
   "outputs": [],
   "source": [
    "# NOTE Training and data preprocess\n",
    "\n",
    "\n",
    "BATCH_SIZE      = _exp['batch_size']\n",
    "NUM_EPOCHS      = _exp['num_epochs']\n",
    "LEARNING_RATE   = _exp['learning_rate']\n",
    "TRAIN_SIZE      = _exp['train_size']\n",
    "VAL_SIZE        = _exp['val_size']\n",
    "DEVICE          = torch.device(f\"cuda:{_exp['cuda_index']}\")\n",
    "\n",
    "\n",
    "RESOLUTION      = _data['resolution']\n",
    "TRAIN_PATH      = Path(_data['path'])\n",
    "__RANDOM_CHOICE = np.random.choice(1024, TRAIN_SIZE + VAL_SIZE, replace = False)\n",
    "TRAIN_MASK      = __RANDOM_CHOICE[:TRAIN_SIZE]\n",
    "VAL_MASK        = __RANDOM_CHOICE[-VAL_SIZE:]\n",
    "\n",
    "\n",
    "DOWNSAMPLE      = _data['downsample']\n",
    "GRID            = (RESOLUTION - 1) // DOWNSAMPLE + 1\n",
    "NUM_NODES       = GRID ** 2\n",
    "\n",
    "\n",
    "RADIUS_TRAIN    = _graph['radius']\n",
    "SAMPLE_SIZE     = _graph['sample_size']\n",
    "NUM_SAMPLING    = _graph['num_sampling']"
   ]
  },
  {
   "cell_type": "markdown",
   "metadata": {},
   "source": [
    "## 2. Preprocess data"
   ]
  },
  {
   "cell_type": "markdown",
   "metadata": {},
   "source": [
    "### 2-1. Instantiate the storages"
   ]
  },
  {
   "cell_type": "code",
   "execution_count": null,
   "metadata": {},
   "outputs": [],
   "source": [
    "train_data: dict[str, torch.Tensor]= {\n",
    "    'coeff':    None,\n",
    "    'Kcoeff':   None,\n",
    "    'Kcoeff_x': None,\n",
    "    'Kcoeff_y': None,\n",
    "    'sol':      None,\n",
    "}\n",
    "val_data: dict[str, torch.Tensor]= {\n",
    "    'coeff':    None,\n",
    "    'Kcoeff':   None,\n",
    "    'Kcoeff_x': None,\n",
    "    'Kcoeff_y': None,\n",
    "    'sol':      None,\n",
    "}\n",
    "\n",
    "\n",
    "normalizer: dict[str, GaussianNormalizer] = {\n",
    "    'coeff':    None,\n",
    "    'Kcoeff':   None,\n",
    "    'Kcoeff_x': None,\n",
    "    'Kcoeff_y': None,\n",
    "    'sol':      None,\n",
    "}"
   ]
  },
  {
   "cell_type": "markdown",
   "metadata": {},
   "source": [
    "### 2-2. Load the train data"
   ]
  },
  {
   "cell_type": "code",
   "execution_count": null,
   "metadata": {},
   "outputs": [],
   "source": [
    "# Train data\n",
    "reader = npzReader(TRAIN_PATH)\n",
    "for cnt, k in tqdm(enumerate(train_data.keys()), desc = \"Preprocessing the train data\"):\n",
    "    # Step 1. Load data\n",
    "    train_data[k] = torch.from_numpy(reader.get_field(k)[TRAIN_MASK, ::DOWNSAMPLE, ::DOWNSAMPLE])\n",
    "    train_data[k] = train_data[k].flatten(-1)\n",
    "    train_data[k] = train_data[k].type(torch.float)\n",
    "    \n",
    "    # Step 2. Normalize data\n",
    "    normalizer[k] = GaussianNormalizer(train_data[k])\n",
    "    train_data[k] = normalizer[k].encode(train_data[k])\n",
    "\n",
    "\n",
    "# Validation data\n",
    "for cnt, k in tqdm(enumerate(val_data.keys()), desc = \"Preprocessing the validation data\"):\n",
    "    # Step 1. Load data\n",
    "    val_data[k] = torch.from_numpy(reader.get_field(k)[VAL_MASK, ::DOWNSAMPLE, ::DOWNSAMPLE])\n",
    "    val_data[k] = val_data[k].flatten(-1)\n",
    "    val_data[k] = val_data[k].type(torch.float)\n",
    "    \n",
    "    # Step 2. Normalize data (NOTE: Uses the normalizers for the train dataset)\n",
    "    val_data[k] = normalizer[k].encode(val_data[k])"
   ]
  },
  {
   "cell_type": "markdown",
   "metadata": {},
   "source": [
    "### 2-3. Construct graphs"
   ]
  },
  {
   "cell_type": "code",
   "execution_count": null,
   "metadata": {},
   "outputs": [],
   "source": [
    "# NOTE Generate a grid to set the node and edge attributes\n",
    "\n",
    "\n",
    "grid_generator  = RandomGridGenerator(\n",
    "                        domain      = [[0., 1.], [0., 1.]],\n",
    "                        grid_size   = [GRID, GRID],\n",
    "                        radius      = RADIUS_TRAIN,\n",
    "                        sample_size = SAMPLE_SIZE\n",
    "                    )"
   ]
  },
  {
   "cell_type": "code",
   "execution_count": null,
   "metadata": {},
   "outputs": [],
   "source": [
    "# NOTE Construct graphs\n",
    "\n",
    "\n",
    "list_train_data, list_test_data = [], []\n",
    "\n",
    "\n",
    "for idx in tqdm(range(TRAIN_SIZE)):\n",
    "    for cnt in range(NUM_SAMPLING):\n",
    "        grid_full_info = grid_generator.full_information()\n",
    "        full_node_index     = grid_full_info['node_index']\n",
    "        full_edge_index     = grid_full_info['edge_index']\n",
    "        full_grid           = grid_full_info['grid']\n",
    "        \n",
    "        grid_sample_info = grid_generator.sample(_return = True)\n",
    "        sample_node_index   = grid_sample_info['sample_node_index']\n",
    "        sample_edge_index   = grid_sample_info['sample_edge_index']\n",
    "        sample_grid         = grid_sample_info['sample_grid']\n",
    "        \n",
    "        _coeff      = train_data[ 'coeff'  ][idx].reshape(NUM_NODES, -1)\n",
    "        _Kcoeff     = train_data[ 'Kcoeff' ][idx].reshape(NUM_NODES, -1)\n",
    "        _Kcoeff_x   = train_data['Kcoeff_x'][idx].reshape(NUM_NODES, -1)\n",
    "        _Kcoeff_y   = train_data['Kcoeff_y'][idx].reshape(NUM_NODES, -1)\n",
    "        # Define the node feature\n",
    "        _x = torch.hstack(\n",
    "            [\n",
    "                sample_grid,\n",
    "                _coeff[sample_node_index],\n",
    "                _Kcoeff[sample_node_index],\n",
    "                _Kcoeff_x[sample_node_index],\n",
    "                _Kcoeff_y[sample_node_index],\n",
    "            ]\n",
    "        )\n",
    "        # Define the node target\n",
    "        _y = train_data['sol'][idx].reshape(NUM_NODES, -1)[sample_node_index]\n",
    "        # Define the edge feature\n",
    "        _edge_attr = torch.hstack(\n",
    "            [\n",
    "                full_grid[sample_edge_index[0]],\n",
    "                full_grid[sample_edge_index[1]],\n",
    "                _coeff[sample_edge_index[0]],\n",
    "                _coeff[sample_edge_index[1]]\n",
    "            ]\n",
    "        )\n",
    "        \n",
    "        # Append the new graph\n",
    "        list_train_data.append(\n",
    "            Data(\n",
    "                x = _x,\n",
    "                y = _y,\n",
    "                edge_index  = sample_edge_index,\n",
    "                edge_attr   = _edge_attr,\n",
    "            )\n",
    "        )\n",
    "\n",
    "\n",
    "for idx in tqdm(range(VAL_SIZE)):\n",
    "    for cnt in range(NUM_SAMPLING):\n",
    "        grid_full_info = grid_generator.full_information()\n",
    "        full_node_index     = grid_full_info['node_index']\n",
    "        full_edge_index     = grid_full_info['edge_index']\n",
    "        full_grid           = grid_full_info['grid']\n",
    "        \n",
    "        grid_sample_info = grid_generator.sample(_return = True)\n",
    "        sample_node_index   = grid_sample_info['sample_node_index']\n",
    "        sample_edge_index   = grid_sample_info['sample_edge_index']\n",
    "        sample_grid         = grid_sample_info['sample_grid']\n",
    "        \n",
    "        _coeff      = val_data[ 'coeff'  ][idx].reshape(NUM_NODES, -1)\n",
    "        _Kcoeff     = val_data[ 'Kcoeff' ][idx].reshape(NUM_NODES, -1)\n",
    "        _Kcoeff_x   = val_data['Kcoeff_x'][idx].reshape(NUM_NODES, -1)\n",
    "        _Kcoeff_y   = val_data['Kcoeff_y'][idx].reshape(NUM_NODES, -1)\n",
    "        # Define the node feature\n",
    "        _x = torch.hstack(\n",
    "            [\n",
    "                sample_grid,\n",
    "                _coeff[sample_node_index],\n",
    "                _Kcoeff[sample_node_index],\n",
    "                _Kcoeff_x[sample_node_index],\n",
    "                _Kcoeff_y[sample_node_index],\n",
    "            ]\n",
    "        )\n",
    "        # Define the node target\n",
    "        _y = val_data['sol'][idx].reshape(NUM_NODES, -1)[sample_node_index]\n",
    "        # Define the edge feature\n",
    "        _edge_attr = torch.hstack(\n",
    "            [\n",
    "                full_grid[sample_edge_index[0]],\n",
    "                full_grid[sample_edge_index[1]],\n",
    "                _coeff[sample_edge_index[0]],\n",
    "                _coeff[sample_edge_index[1]]\n",
    "            ]\n",
    "        )\n",
    "        \n",
    "        # Append the new graph\n",
    "        list_test_data.append(\n",
    "            Data(\n",
    "                x = _x,\n",
    "                y = _y,\n",
    "                edge_index  = sample_edge_index,\n",
    "                edge_attr   = _edge_attr,\n",
    "            )\n",
    "        )"
   ]
  },
  {
   "cell_type": "markdown",
   "metadata": {},
   "source": [
    "### 2-4. Instantiate dataloaders"
   ]
  },
  {
   "cell_type": "code",
   "execution_count": null,
   "metadata": {},
   "outputs": [],
   "source": [
    "train_loader = DataLoader(list_train_data, batch_size = BATCH_SIZE, shuffle = True)\n",
    "test_loader  = DataLoader(list_test_data,  batch_size = BATCH_SIZE, shuffle = True) "
   ]
  },
  {
   "cell_type": "markdown",
   "metadata": {},
   "source": [
    "## 3. Train the model"
   ]
  },
  {
   "cell_type": "markdown",
   "metadata": {},
   "source": [
    "### 3-1. Initialize the model and instantiate the loss function and the optimizer"
   ]
  },
  {
   "cell_type": "code",
   "execution_count": null,
   "metadata": {},
   "outputs": [],
   "source": [
    "gno = GNO(**_gno).to(DEVICE)\n",
    "print(f\"The number of the parameters in the custom GNO\\n>>> {count_parameters(gno)}\")\n",
    "print(gno)\n",
    "\n",
    "for p in gno.parameters():\n",
    "    if p.ndim == 1:\n",
    "        nn.init.zeros_(p)\n",
    "    else:\n",
    "        nn.init.xavier_uniform_(p)\n",
    "\n",
    "criterion = nn.MSELoss(reduction = 'mean')\n",
    "optimizer = optim.Adam(params = gno.parameters(), lr = 1e-3)"
   ]
  },
  {
   "cell_type": "markdown",
   "metadata": {},
   "source": [
    "### 3-2. Train the model"
   ]
  },
  {
   "cell_type": "code",
   "execution_count": null,
   "metadata": {},
   "outputs": [],
   "source": [
    "train_history = {\n",
    "    'train_loss':   [],\n",
    "    'train_error':  [],\n",
    "    'val_loss':     [],\n",
    "    'val_error':    [],\n",
    "    'train_time':   0.0,\n",
    "}\n",
    "normalizer['sol'].to(DEVICE)\n",
    "\n",
    "elapsed_time = time.time()\n",
    "for epoch in tqdm(range(1, NUM_EPOCHS + 1)):\n",
    "    # NOTE: Train\n",
    "    if True:\n",
    "        gno.train()\n",
    "        _train_time = time.time()\n",
    "        train_epoch_loss:  torch.Tensor = 0\n",
    "        train_epoch_error: torch.Tensor = 0\n",
    "        for batch in train_loader:\n",
    "            batch: Data = batch.to(DEVICE)\n",
    "            train_pred = gno.forward(batch.x, batch.edge_index, batch.edge_attr)           \n",
    "            train_loss = criterion.forward(train_pred, batch.y)\n",
    "            optimizer.zero_grad()\n",
    "            train_loss.backward()\n",
    "            optimizer.step()\n",
    "            \n",
    "            train_epoch_loss = train_epoch_loss + (\n",
    "                train_loss\n",
    "            ) * len(batch)\n",
    "            train_pred  = normalizer['sol'].decode(train_pred)\n",
    "            batch.y     = normalizer['sol'].decode(batch.y)\n",
    "            train_epoch_error = train_epoch_error + (\n",
    "                torch.linalg.norm(train_pred - batch.y) / (1e-8 + torch.linalg.norm(batch.y))\n",
    "            ) * len(batch)\n",
    "        _train_time = time.time() - _train_time\n",
    "        train_history['train_time'] += _train_time\n",
    "        train_epoch_loss    = train_epoch_loss / TRAIN_SIZE\n",
    "        train_epoch_error   = train_epoch_error / TRAIN_SIZE\n",
    "        train_history['train_loss'].append(train_epoch_loss.item())\n",
    "        train_history['train_error'].append(train_epoch_error.item())\n",
    "    \n",
    "    \n",
    "    # NOTE: Validation\n",
    "    if True:\n",
    "        gno.eval()\n",
    "        val_epoch_loss:     torch.Tensor = 0\n",
    "        val_epoch_error:    torch.Tensor = 0\n",
    "        with torch.no_grad():\n",
    "            for batch in test_loader:\n",
    "                batch: Data = batch.to(DEVICE)\n",
    "                \n",
    "                val_pred = gno.forward(batch.x, batch.edge_index, batch.edge_attr)\n",
    "                val_loss = criterion.forward(val_pred, batch.y)\n",
    "                \n",
    "                val_epoch_loss      = val_epoch_loss + val_loss * len(batch)\n",
    "                val_pred = normalizer['sol'].decode(val_pred)\n",
    "                batch.y  = normalizer['sol'].decode(batch.y)\n",
    "                val_epoch_error     = val_epoch_error + (\n",
    "                                            torch.linalg.norm(val_pred - batch.y) / (1e-8 + torch.linalg.norm(batch.y))\n",
    "                                        ) * len(batch)\n",
    "        val_epoch_loss      = val_epoch_loss / VAL_SIZE\n",
    "        val_epoch_error     = val_epoch_error / VAL_SIZE\n",
    "        train_history['val_loss'].append(val_epoch_loss.item())\n",
    "        train_history['val_error'].append(val_epoch_error.item())\n",
    "    \n",
    "    # Report\n",
    "    if True:\n",
    "        if epoch % 10 == 0 or epoch == 1:\n",
    "            print(f\"[ Epoch {epoch} / {NUM_EPOCHS} ]\")\n",
    "            for k in train_history.keys():\n",
    "                if k == \"train_time\":\n",
    "                    continue\n",
    "                print(f\"* {k:15s}: {train_history[k][-1]:.4e}\")\n",
    "    \n",
    "elapsed_time = time.time() - elapsed_time\n",
    "print(f\"Elapsed time: {int(elapsed_time)} seconds\")"
   ]
  },
  {
   "cell_type": "markdown",
   "metadata": {},
   "source": [
    "### 3-3. Save the model and the train history"
   ]
  },
  {
   "cell_type": "code",
   "execution_count": null,
   "metadata": {},
   "outputs": [],
   "source": [
    "gno.cpu()\n",
    "\n",
    "# Save the model\n",
    "os.makedirs(time_str, exist_ok = True)\n",
    "torch.save(gno.state_dict(), f\"{time_str}/gno_darcy{RESOLUTION}_res{GRID}.pth\")\n",
    "\n",
    "# Save the normalizer, which will also be used in prediction\n",
    "normalizer['sol'].cpu()\n",
    "torch.save(normalizer, f\"{time_str}/gno_darcy{RESOLUTION}_res{GRID}_normalizer.pth\")\n",
    "\n",
    "# Save the history\n",
    "with open(f\"{time_str}/gno_darcy{RESOLUTION}_res{GRID}.pickle\", \"wb\") as f:\n",
    "    pickle.dump(train_history, f)"
   ]
  },
  {
   "cell_type": "code",
   "execution_count": null,
   "metadata": {},
   "outputs": [],
   "source": [
    "from    typing      import  *\n",
    "\n",
    "\n",
    "isinstance([1], Sequence)\n",
    "\n",
    "\n",
    "\n",
    "def f(x: int) -> int:\n",
    "    return x ** 2\n",
    "\n",
    "\n",
    "a = 1\n",
    "ar = {}\n",
    "f(a, **ar)"
   ]
  },
  {
   "cell_type": "markdown",
   "metadata": {},
   "source": [
    "## End of file"
   ]
  }
 ],
 "metadata": {
  "kernelspec": {
   "display_name": "Python 3 (ipykernel)",
   "language": "python",
   "name": "python3"
  },
  "language_info": {
   "codemirror_mode": {
    "name": "ipython",
    "version": 3
   },
   "file_extension": ".py",
   "mimetype": "text/x-python",
   "name": "python",
   "nbconvert_exporter": "python",
   "pygments_lexer": "ipython3",
   "version": "3.10.14"
  }
 },
 "nbformat": 4,
 "nbformat_minor": 4
}
