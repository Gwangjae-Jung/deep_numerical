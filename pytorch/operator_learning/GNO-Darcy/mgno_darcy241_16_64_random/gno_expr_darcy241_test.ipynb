{
 "cells": [
  {
   "cell_type": "markdown",
   "metadata": {},
   "source": [
    "## 1. Set up the experiment\n",
    "\n",
    "\n",
    "Zero-shot superresolution of the `GNO` model: From `(16, 16)` grid to `(64, 64)` grid."
   ]
  },
  {
   "cell_type": "markdown",
   "metadata": {},
   "source": [
    "### 1-1. Import modules"
   ]
  },
  {
   "cell_type": "code",
   "execution_count": 1,
   "metadata": {},
   "outputs": [],
   "source": [
    "import  os, time\n",
    "from    pathlib             import  Path\n",
    "from    tqdm.notebook       import  tqdm\n",
    "import  pickle\n",
    "import  matplotlib.pyplot   as      plt\n",
    "\n",
    "import  numpy                       as  np\n",
    "import  torch\n",
    "from    torch                       import  nn\n",
    "from    torch_geometric.data        import  Data\n",
    "from    torch_geometric.loader      import  DataLoader\n",
    "\n",
    "import  yaml\n",
    "\n",
    "from    custom_modules.dtypes               import  MultiLevelGraph\n",
    "from    custom_modules.utils                import  GaussianNormalizer, npzReader\n",
    "from    custom_modules.utils                import  RandomMultiGridGenerator\n",
    "from    custom_modules.pytorch.neuralop     import  MultipoleGraphNeuralOperator    as  MGNO\n",
    "from    custom_modules.pytorch.torch_utils  import  count_parameters"
   ]
  },
  {
   "cell_type": "markdown",
   "metadata": {},
   "source": [
    "### 1-2. Load the configurations"
   ]
  },
  {
   "cell_type": "code",
   "execution_count": 2,
   "metadata": {},
   "outputs": [],
   "source": [
    "with open(\"config_test.yaml\") as f:\n",
    "    config = yaml.load(f, Loader = yaml.FullLoader)\n",
    "    _exp   = config['experiment']\n",
    "    _data  = config['pde_dataset']\n",
    "    _graph = config['graph']\n",
    "    _mgno  = config['mgno']\n",
    "    train_prefix = config['train_prefix']"
   ]
  },
  {
   "cell_type": "markdown",
   "metadata": {},
   "source": [
    "### 1-3. Set the experiment"
   ]
  },
  {
   "cell_type": "code",
   "execution_count": 3,
   "metadata": {},
   "outputs": [],
   "source": [
    "# NOTE Training and data preprocess\n",
    "\n",
    "\n",
    "BATCH_SIZE      = _exp['batch_size']\n",
    "TEST_SIZE       = _exp['test_size']\n",
    "DEVICE          = torch.device(f\"cuda:{_exp['cuda_index']}\")\n",
    "\n",
    "\n",
    "RESOLUTION      = _data['resolution']\n",
    "TEST_PATH       = Path(_data['path'])\n",
    "TEST_MASK       = np.random.choice(1024, TEST_SIZE, replace = False)\n",
    "\n",
    "\n",
    "DOWNSAMPLE      = _data['downsample']\n",
    "GRID            = (RESOLUTION - 1) // DOWNSAMPLE + 1\n",
    "NUM_NODES       = GRID ** 2\n",
    "\n",
    "\n",
    "RADII_GEOMETRIC = _graph['radii_geometric']\n",
    "SAMPLE_SIZES    = _graph['sample_sizes']\n",
    "NUM_SAMPLING    = _graph['num_sampling']\n",
    "MAX_NEIGHBORS   = _graph['max_neighbors']"
   ]
  },
  {
   "cell_type": "code",
   "execution_count": 4,
   "metadata": {},
   "outputs": [
    {
     "name": "stdout",
     "output_type": "stream",
     "text": [
      "The number of the parameters in the custom MGNO\n",
      ">>> 701457\n",
      "MultipoleGraphNeuralOperator(\n",
      "    lift:       MLP(layer=(6, 16, 32), bias=True, activation=relu)\n",
      "    hidden:     MultipoleGraphKernelLayer(node_channels=32, edge_channels=6, n_poles=3 (down: 2, iso: 3, up: 2)) x 2 (activation=relu)\n",
      "    projection: MLP(layer=(32, 16, 1), bias=True, activation=relu)\n",
      ")\n"
     ]
    }
   ],
   "source": [
    "### NOTE Model instantiation\n",
    "def get_path(train_grid: int) -> str:\n",
    "    return f\"{train_prefix}/gno_darcy{RESOLUTION}_res{train_grid}\"\n",
    "\n",
    "\n",
    "mgno = MGNO(**_mgno)\n",
    "mgno.load_state_dict(torch.load(f\"{get_path(31)}.pth\"))\n",
    "mgno.to(DEVICE)\n",
    "\n",
    "print(f\"The number of the parameters in the custom MGNO\\n>>> {count_parameters(mgno)}\")\n",
    "print(mgno)"
   ]
  },
  {
   "cell_type": "markdown",
   "metadata": {},
   "source": [
    "### * Report the train history"
   ]
  },
  {
   "cell_type": "code",
   "execution_count": 5,
   "metadata": {},
   "outputs": [
    {
     "name": "stdout",
     "output_type": "stream",
     "text": [
      "Custom model    : 379.81 seconds\n"
     ]
    }
   ],
   "source": [
    "# Train history\n",
    "with open(f\"{get_path(31)}.pickle\", \"rb\") as f:\n",
    "    custom_train_history = pickle.load(f)\n",
    "\n",
    "# Number of epochs\n",
    "NUM_TRAIN_EPOCHS = len(custom_train_history['train_loss'])\n",
    "_epoch_list = np.arange(NUM_TRAIN_EPOCHS) + 1\n",
    "\n",
    "# Training time\n",
    "print(f\"Custom model    : {custom_train_history['train_time']:.2f} seconds\")\n",
    "\n",
    "\n",
    "# Plot\n",
    "# fig, axes = plt.subplots(2, 1, figsize = (16, 10))\n",
    "# axes[0].plot(_epoch_list, custom_train_history['val_loss'], c = 'r', label = \"Custom\")\n",
    "# axes[0].set_title(\"Validation loss\")\n",
    "# axes[0].set_yscale(\"log\")\n",
    "# axes[0].legend()\n",
    "# axes[1].plot(_epoch_list, custom_train_history['val_error'], c = 'r', label = \"Custom\")\n",
    "# axes[1].set_title(\"Validation error\")\n",
    "# axes[1].set_yscale(\"log\")\n",
    "# axes[1].legend()\n",
    "# plt.show()"
   ]
  },
  {
   "cell_type": "markdown",
   "metadata": {},
   "source": [
    "## 2. Preprocess data"
   ]
  },
  {
   "cell_type": "markdown",
   "metadata": {},
   "source": [
    "### 2-1. Instantiate the storages"
   ]
  },
  {
   "cell_type": "code",
   "execution_count": 6,
   "metadata": {},
   "outputs": [],
   "source": [
    "test_data: dict[str, torch.Tensor]= {\n",
    "    'coeff':    None,\n",
    "    'Kcoeff':   None,\n",
    "    'Kcoeff_x': None,\n",
    "    'Kcoeff_y': None,\n",
    "    'sol':      None,\n",
    "}\n",
    "\n",
    "\n",
    "# # Normalizers\n",
    "# normalizer: dict[str, GaussianNormalizer] = torch.load(f\"{get_path(61)}_normalizer.pth\")"
   ]
  },
  {
   "cell_type": "markdown",
   "metadata": {},
   "source": [
    "### 2-2. Load the train data"
   ]
  },
  {
   "cell_type": "code",
   "execution_count": 7,
   "metadata": {},
   "outputs": [
    {
     "data": {
      "application/vnd.jupyter.widget-view+json": {
       "model_id": "d0fe414ca98b4429bd4504177fba1787",
       "version_major": 2,
       "version_minor": 0
      },
      "text/plain": [
       "Preprocessing the test data: 0it [00:00, ?it/s]"
      ]
     },
     "metadata": {},
     "output_type": "display_data"
    }
   ],
   "source": [
    "# Test data\n",
    "reader = npzReader(TEST_PATH)\n",
    "for cnt, k in tqdm(enumerate(test_data.keys()), desc = \"Preprocessing the test data\"):\n",
    "    # Step 1. Load data\n",
    "    test_data[k] = torch.from_numpy(reader.get_field(k))\n",
    "    test_data[k] = test_data[k][-TEST_SIZE:, ::DOWNSAMPLE, ::DOWNSAMPLE].flatten(-1)\n",
    "    test_data[k] = test_data[k].type(torch.float)\n",
    "    \n",
    "    # # Step 2. Normalize data (NOTE: Uses the normalizers for the train dataset)\n",
    "    # test_data[k] = normalizer[k].encode(test_data[k])"
   ]
  },
  {
   "cell_type": "markdown",
   "metadata": {},
   "source": [
    "### 2-3. Construct graphs"
   ]
  },
  {
   "cell_type": "code",
   "execution_count": 8,
   "metadata": {},
   "outputs": [],
   "source": [
    "# NOTE Generate a grid to set the node and edge attributes\n",
    "\n",
    "grid_generator  = RandomMultiGridGenerator([[0., 1.], [0., 1.]], [GRID, GRID], radii_geometric = RADII_GEOMETRIC, sample_sizes = [NUM_NODES // 8, NUM_NODES // 32, NUM_NODES // 128], max_neighbors = MAX_NEIGHBORS)"
   ]
  },
  {
   "cell_type": "code",
   "execution_count": 9,
   "metadata": {},
   "outputs": [
    {
     "data": {
      "application/vnd.jupyter.widget-view+json": {
       "model_id": "60219a0fcae84e9cbd3789a567d73c6f",
       "version_major": 2,
       "version_minor": 0
      },
      "text/plain": [
       "  0%|          | 0/50 [00:00<?, ?it/s]"
      ]
     },
     "metadata": {},
     "output_type": "display_data"
    }
   ],
   "source": [
    "# NOTE Construct graphs\n",
    "\n",
    "\n",
    "list_test_data = []\n",
    "\n",
    "grid_generator.sample()\n",
    "for idx in tqdm(range(TEST_SIZE)):\n",
    "    # Input information\n",
    "        _coeff      = test_data[ 'coeff'  ][idx].reshape(NUM_NODES, -1)\n",
    "        _Kcoeff     = test_data['Kcoeff'  ][idx].reshape(NUM_NODES, -1)\n",
    "        _Kcoeff_x   = test_data['Kcoeff_x'][idx].reshape(NUM_NODES, -1)\n",
    "        _Kcoeff_y   = test_data['Kcoeff_y'][idx].reshape(NUM_NODES, -1)\n",
    "        \n",
    "        merged_grid_index       = grid_generator.merged_grid_index\n",
    "        merged_graph_coords     = grid_generator.merged_graph_coordinates\n",
    "        merged_graph_edge_index = grid_generator.merged_graph_edge_index\n",
    "        \n",
    "        merged_edge_index_in_grid = merged_grid_index[merged_graph_edge_index]\n",
    "\n",
    "        # Define the node feature\n",
    "        _x = torch.hstack(\n",
    "            [\n",
    "                merged_graph_coords,\n",
    "                _coeff[merged_grid_index],\n",
    "                _Kcoeff[merged_grid_index],\n",
    "                _Kcoeff_x[merged_grid_index],\n",
    "                _Kcoeff_y[merged_grid_index],\n",
    "            ]\n",
    "        )\n",
    "        # Define the node target\n",
    "        _y = test_data['sol'][idx].reshape(NUM_NODES, -1)[merged_grid_index]\n",
    "        # Define the edge feature\n",
    "        _edge_attr = torch.hstack(\n",
    "            [\n",
    "                merged_graph_coords[merged_graph_edge_index[0]],\n",
    "                merged_graph_coords[merged_graph_edge_index[1]],\n",
    "                _coeff[merged_edge_index_in_grid[0]],\n",
    "                _coeff[merged_edge_index_in_grid[1]],\n",
    "            ]\n",
    "        )\n",
    "        \n",
    "        _ranges_node = grid_generator.masks_node\n",
    "        _ranges_edge = grid_generator.masks_edge\n",
    "        _lvwise_edge_index = grid_generator.levelwise_edge_index\n",
    "        \n",
    "        # Append the new graph\n",
    "        list_test_data.append(\n",
    "            Data(\n",
    "                x = _x,\n",
    "                y = _y,\n",
    "                edge_index  = grid_generator.merged_graph_edge_index,\n",
    "                edge_attr   = _edge_attr,\n",
    "                \n",
    "                mask_node  = _ranges_node,\n",
    "                mask_edge  = _ranges_edge,\n",
    "                levelwise_edge_index = _lvwise_edge_index,\n",
    "            )\n",
    "        )"
   ]
  },
  {
   "cell_type": "markdown",
   "metadata": {},
   "source": [
    "### 2-4. Instantiate dataloaders"
   ]
  },
  {
   "cell_type": "code",
   "execution_count": 10,
   "metadata": {},
   "outputs": [],
   "source": [
    "test_loader  = DataLoader(list_test_data,  batch_size = BATCH_SIZE, shuffle = True)"
   ]
  },
  {
   "cell_type": "markdown",
   "metadata": {},
   "source": [
    "## 3. Test the model"
   ]
  },
  {
   "cell_type": "markdown",
   "metadata": {},
   "source": [
    "### 3-1. Initialize the loss function"
   ]
  },
  {
   "cell_type": "code",
   "execution_count": 11,
   "metadata": {},
   "outputs": [],
   "source": [
    "criterion = nn.MSELoss(reduction = 'mean')"
   ]
  },
  {
   "cell_type": "markdown",
   "metadata": {},
   "source": [
    "### 3-2. Test the model"
   ]
  },
  {
   "cell_type": "code",
   "execution_count": 12,
   "metadata": {},
   "outputs": [
    {
     "data": {
      "application/vnd.jupyter.widget-view+json": {
       "model_id": "3e70f9b398c6402e8f3c2d685bbec4a6",
       "version_major": 2,
       "version_minor": 0
      },
      "text/plain": [
       "Test:   0%|          | 0/50 [00:00<?, ?it/s]"
      ]
     },
     "metadata": {},
     "output_type": "display_data"
    },
    {
     "name": "stdout",
     "output_type": "stream",
     "text": [
      "* Elapsed time: 1 seconds\n",
      "* Test loss:    1.7662e+05\n",
      "* L^2 error:    6.1901e+04\n"
     ]
    }
   ],
   "source": [
    "# normalizer['sol'].to(DEVICE)\n",
    "\n",
    "\n",
    "# NOTE: Test\n",
    "mgno.eval()\n",
    "with torch.no_grad():\n",
    "    elapsed_time = time.time()\n",
    "\n",
    "    test_epoch_loss:    torch.Tensor = 0\n",
    "    test_epoch_error:   torch.Tensor = 0\n",
    "    for batch in tqdm(test_loader, desc = \"Test\"):\n",
    "        batch: Data = batch.to(DEVICE)\n",
    "        \n",
    "        test_pred = mgno.forward(batch)\n",
    "        test_loss = criterion.forward(test_pred, batch.y)\n",
    "        \n",
    "        test_epoch_loss     = test_epoch_loss + test_loss * len(batch)\n",
    "        # test_pred   = normalizer['sol'].decode(test_pred)\n",
    "        # batch.y     = normalizer['sol'].decode(batch.y)\n",
    "        test_epoch_error    = test_epoch_error + (\n",
    "                                    torch.linalg.norm(test_pred - batch.y) / (1e-8 + torch.linalg.norm(batch.y))\n",
    "                                ) * len(batch)\n",
    "    test_epoch_loss     = test_epoch_loss / TEST_SIZE\n",
    "    test_epoch_error    = test_epoch_error / TEST_SIZE\n",
    "elapsed_time = time.time() - elapsed_time\n",
    "\n",
    "print(f\"* Elapsed time: {int(elapsed_time)} seconds\")\n",
    "print(f\"* Test loss:    {test_epoch_loss.item():.4e}\")\n",
    "print(f\"* L^2 error:    {test_epoch_error.item():.4e}\")"
   ]
  },
  {
   "cell_type": "markdown",
   "metadata": {},
   "source": [
    "### 3-3. Plot some examples"
   ]
  },
  {
   "cell_type": "code",
   "execution_count": 13,
   "metadata": {},
   "outputs": [
    {
     "ename": "IndexError",
     "evalue": "index 1981 is out of bounds for dimension 0 with size 1830",
     "output_type": "error",
     "traceback": [
      "\u001b[1;31m---------------------------------------------------------------------------\u001b[0m",
      "\u001b[1;31mIndexError\u001b[0m                                Traceback (most recent call last)",
      "Cell \u001b[1;32mIn[13], line 10\u001b[0m\n\u001b[0;32m      8\u001b[0m example_y    \u001b[38;5;241m=\u001b[39m batch\u001b[38;5;241m.\u001b[39my[example_range]\u001b[38;5;241m.\u001b[39mcpu()[:\u001b[38;5;28mlen\u001b[39m(fullgrid)]\n\u001b[0;32m      9\u001b[0m example_pred \u001b[38;5;241m=\u001b[39m test_pred[example_range]\u001b[38;5;241m.\u001b[39mcpu()[:\u001b[38;5;28mlen\u001b[39m(fullgrid)]\n\u001b[1;32m---> 10\u001b[0m example_y[grid_generator\u001b[38;5;241m.\u001b[39mmultigrid_index[\u001b[38;5;241m0\u001b[39m]]    \u001b[38;5;241m=\u001b[39m example_y\u001b[38;5;241m.\u001b[39mclone()\n\u001b[0;32m     11\u001b[0m example_pred[grid_generator\u001b[38;5;241m.\u001b[39mmultigrid_index[\u001b[38;5;241m0\u001b[39m]] \u001b[38;5;241m=\u001b[39m example_pred\u001b[38;5;241m.\u001b[39mclone()\n\u001b[0;32m     12\u001b[0m example_y    \u001b[38;5;241m=\u001b[39m example_y\u001b[38;5;241m.\u001b[39mreshape(GRID, GRID)\n",
      "\u001b[1;31mIndexError\u001b[0m: index 1981 is out of bounds for dimension 0 with size 1830"
     ]
    },
    {
     "data": {
      "image/png": "[encoded data removed]",
      "text/plain": [
       "<Figure size 1200x1200 with 4 Axes>"
      ]
     },
     "metadata": {},
     "output_type": "display_data"
    }
   ],
   "source": [
    "if True:\n",
    "    EXAMPLE_IDX = 0\n",
    "    example_range = slice(NUM_NODES * EXAMPLE_IDX, NUM_NODES * (EXAMPLE_IDX + 1))\n",
    "    fig, axes = plt.subplots(2, 2, figsize = (12, 12))\n",
    "    fullgrid = grid_generator.multigrid_index[0]\n",
    "\n",
    "\n",
    "    example_y    = batch.y[example_range].cpu()[:len(fullgrid)]\n",
    "    example_pred = test_pred[example_range].cpu()[:len(fullgrid)]\n",
    "    example_y[grid_generator.multigrid_index[0]]    = example_y.clone()\n",
    "    example_pred[grid_generator.multigrid_index[0]] = example_pred.clone()\n",
    "    example_y    = example_y.reshape(GRID, GRID)\n",
    "    example_pred = example_pred.reshape(GRID, GRID)\n",
    "\n",
    "    im = axes[0, 0].imshow(example_y)\n",
    "    axes[0, 0].set_title(\"Truth\")\n",
    "    plt.colorbar(im, ax = axes[0, 0])\n",
    "\n",
    "    im = axes[0, 1].imshow(example_pred)\n",
    "    axes[0, 1].set_title(\"Prediction\")\n",
    "    plt.colorbar(im, ax = axes[0, 1])\n",
    "\n",
    "    im = axes[1, 0].imshow((example_pred - example_y).abs())\n",
    "    axes[1, 0].set_title(\"$|(pred) - (truth)|$\")\n",
    "    plt.colorbar(im, ax = axes[1, 0])\n",
    "\n",
    "    _vmax = 0.4\n",
    "    im = axes[1, 1].imshow((example_pred - example_y).abs() / example_y.abs(), vmax = _vmax)\n",
    "    axes[1, 1].set_title(f\"$|(pred) - (truth)| / |(truth)|$ (bounded by {_vmax})\")\n",
    "    plt.colorbar(im, ax = axes[1, 1])\n",
    "\n",
    "    plt.show()"
   ]
  },
  {
   "cell_type": "markdown",
   "metadata": {},
   "source": [
    "## End of file"
   ]
  }
 ],
 "metadata": {
  "kernelspec": {
   "display_name": "Python 3 (ipykernel)",
   "language": "python",
   "name": "python3"
  },
  "language_info": {
   "codemirror_mode": {
    "name": "ipython",
    "version": 3
   },
   "file_extension": ".py",
   "mimetype": "text/x-python",
   "name": "python",
   "nbconvert_exporter": "python",
   "pygments_lexer": "ipython3",
   "version": "3.10.14"
  }
 },
 "nbformat": 4,
 "nbformat_minor": 4
}
