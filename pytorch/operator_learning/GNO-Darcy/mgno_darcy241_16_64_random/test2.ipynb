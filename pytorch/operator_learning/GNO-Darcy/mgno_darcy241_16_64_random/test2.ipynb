{
 "cells": [
  {
   "cell_type": "code",
   "execution_count": 1,
   "metadata": {},
   "outputs": [],
   "source": [
    "import  os, glob, time\n",
    "import  pickle\n",
    "from    pathlib             import  Path\n",
    "from    tqdm.notebook       import  tqdm\n",
    "\n",
    "import  numpy               as  np\n",
    "import  matplotlib.pyplot   as  plt\n",
    "\n",
    "import  torch\n",
    "from    torch.nn    import  functional  as  F"
   ]
  },
  {
   "cell_type": "code",
   "execution_count": 23,
   "metadata": {},
   "outputs": [
    {
     "name": "stdout",
     "output_type": "stream",
     "text": [
      "True False\n",
      "tensor(56., grad_fn=<SumBackward0>)\n",
      "tensor([  2.,   4.,   6.,  -6., -36., -36.])\n"
     ]
    }
   ],
   "source": [
    "x = torch.tensor([1, 2, 3, -1, -2, -2], dtype = torch.float, requires_grad = True)\n",
    "\n",
    "def f(x: torch.Tensor) -> torch.Tensor:\n",
    "    x = x ** 2\n",
    "    print(x.requires_grad, x.is_leaf)\n",
    "    u = x[-3:].clone()  # Clone to prevent inplace operations\n",
    "    x[-3:] = x[-3:] + u ** 2\n",
    "    return x.sum()\n",
    "\n",
    "\n",
    "y = f(x)\n",
    "print(y)\n",
    "y.backward()\n",
    "print(x.grad)"
   ]
  },
  {
   "cell_type": "code",
   "execution_count": 60,
   "metadata": {},
   "outputs": [
    {
     "name": "stdout",
     "output_type": "stream",
     "text": [
      "tensor([26., 60., 60., 60., 60., 60., 26.])\n"
     ]
    }
   ],
   "source": [
    "y = torch.arange(-2, 3 + 2, dtype = torch.float, requires_grad = True)\n",
    "\n",
    "def g(y: torch.Tensor) -> torch.Tensor:\n",
    "    storage = [y, y[1: -1], y[2: -2]]\n",
    "    # y[1: -1] = y[1: -1] * 2\n",
    "    y = y.clone()   # Any nontrivial function here\n",
    "    y[1: -1] = storage[0].sum() * storage[1].sum()\n",
    "    # s = storage[0].sum() + storage[1].sum() + storage[2].sum()\n",
    "    return y.sum()\n",
    "s = g(y)\n",
    "\n",
    "# storage = [y, y[1: -1], y[2: -2]]\n",
    "# # y[1: -1] = y[1: -1] * 2\n",
    "# y = y + 0\n",
    "# y[1: -1] = storage[1] * 2\n",
    "# s = storage[0].sum() + storage[1].sum() + storage[2].sum()\n",
    "\n",
    "s.backward()\n",
    "print(y.grad)"
   ]
  },
  {
   "cell_type": "code",
   "execution_count": 73,
   "metadata": {},
   "outputs": [],
   "source": [
    "class testdict():\n",
    "    def __init__(self):\n",
    "        self.__d = {'a': 1}\n",
    "    \n",
    "    def attr_names(self, key = str) -> object:\n",
    "        return self.__d[key]"
   ]
  },
  {
   "cell_type": "code",
   "execution_count": 77,
   "metadata": {},
   "outputs": [
    {
     "ename": "SyntaxError",
     "evalue": "cannot assign to function call here. Maybe you meant '==' instead of '='? (617865107.py, line 2)",
     "output_type": "error",
     "traceback": [
      "\u001b[1;36m  Cell \u001b[1;32mIn[77], line 2\u001b[1;36m\u001b[0m\n\u001b[1;33m    A.attr_names('a') = 1\u001b[0m\n\u001b[1;37m    ^\u001b[0m\n\u001b[1;31mSyntaxError\u001b[0m\u001b[1;31m:\u001b[0m cannot assign to function call here. Maybe you meant '==' instead of '='?\n"
     ]
    }
   ],
   "source": [
    "A = testdict()\n",
    "A.attr_names('a') = 1"
   ]
  },
  {
   "cell_type": "code",
   "execution_count": 72,
   "metadata": {},
   "outputs": [
    {
     "data": {
      "text/plain": [
       "{'a': 333}"
      ]
     },
     "execution_count": 72,
     "metadata": {},
     "output_type": "execute_result"
    }
   ],
   "source": [
    "A.d"
   ]
  },
  {
   "cell_type": "code",
   "execution_count": null,
   "metadata": {},
   "outputs": [],
   "source": []
  }
 ],
 "metadata": {
  "kernelspec": {
   "display_name": "torch",
   "language": "python",
   "name": "python3"
  },
  "language_info": {
   "codemirror_mode": {
    "name": "ipython",
    "version": 3
   },
   "file_extension": ".py",
   "mimetype": "text/x-python",
   "name": "python",
   "nbconvert_exporter": "python",
   "pygments_lexer": "ipython3",
   "version": "3.10.14"
  }
 },
 "nbformat": 4,
 "nbformat_minor": 2
}
