{
 "cells": [
  {
   "cell_type": "code",
   "execution_count": 1,
   "metadata": {},
   "outputs": [],
   "source": [
    "import  torch"
   ]
  },
  {
   "cell_type": "code",
   "execution_count": 2,
   "metadata": {},
   "outputs": [
    {
     "name": "stdout",
     "output_type": "stream",
     "text": [
      "tensor([-1.5667, -1.2185, -0.8704, -0.5222, -0.1741,  0.1741,  0.5222,  0.8704,\n",
      "         1.2185,  1.5667], grad_fn=<SelectBackward0>)\n"
     ]
    }
   ],
   "source": [
    "X = torch.arange(80).reshape(4, 2, 10).type(torch.float)\n",
    "ln = torch.nn.LayerNorm(normalized_shape = X.shape[-1:], eps = 1e-12)\n",
    "a = ln(X)\n",
    "\n",
    "print(a[0, 1])"
   ]
  },
  {
   "cell_type": "code",
   "execution_count": 3,
   "metadata": {},
   "outputs": [
    {
     "data": {
      "text/plain": [
       "tensor(3.2783e-08, grad_fn=<MeanBackward0>)"
      ]
     },
     "execution_count": 3,
     "metadata": {},
     "output_type": "execute_result"
    }
   ],
   "source": [
    "a.mean()"
   ]
  },
  {
   "cell_type": "code",
   "execution_count": 4,
   "metadata": {},
   "outputs": [
    {
     "name": "stdout",
     "output_type": "stream",
     "text": [
      "Interactive environ: Jupyter themes not found.\n"
     ]
    }
   ],
   "source": [
    "from    galerkin_transformer    import  layers, model"
   ]
  },
  {
   "cell_type": "code",
   "execution_count": 10,
   "metadata": {},
   "outputs": [
    {
     "name": "stdout",
     "output_type": "stream",
     "text": [
      "Parameter containing:\n",
      "tensor([[ 1.0850,  0.2188, -0.5273,  1.3456,  1.0413, -0.1277],\n",
      "        [-0.6997, -0.3943,  1.5471,  0.0903,  0.1757,  0.5586],\n",
      "        [-1.0228,  1.6078,  0.2918, -1.3457, -0.3106,  0.8791],\n",
      "        [ 0.7713, -0.0998,  0.5513,  0.0873,  0.2393,  0.8600],\n",
      "        [ 0.3944, -2.1223,  0.2257,  0.6783, -0.8262,  0.3130],\n",
      "        [ 0.1110,  0.2371,  0.3477,  0.1390,  1.4768, -0.7787],\n",
      "        [ 1.6362, -0.3394, -0.4310, -0.5618, -0.2823, -0.5770],\n",
      "        [-0.9098, -0.4526,  0.3027,  1.7093, -1.0119, -0.2089],\n",
      "        [-1.0699,  1.6557,  2.1765, -1.3487, -0.6584, -0.5565],\n",
      "        [ 0.2274,  1.3622,  0.6057, -0.7366, -1.0791, -0.8944]],\n",
      "       requires_grad=True)\n",
      "tensor([[[ 1.0850,  0.2188, -0.5273,  1.3456,  1.0413, -0.1277],\n",
      "         [-0.6997, -0.3943,  1.5471,  0.0903,  0.1757,  0.5586],\n",
      "         [-1.0228,  1.6078,  0.2918, -1.3457, -0.3106,  0.8791]],\n",
      "\n",
      "        [[-1.0228,  1.6078,  0.2918, -1.3457, -0.3106,  0.8791],\n",
      "         [-0.6997, -0.3943,  1.5471,  0.0903,  0.1757,  0.5586],\n",
      "         [ 0.2274,  1.3622,  0.6057, -0.7366, -1.0791, -0.8944]]],\n",
      "       grad_fn=<EmbeddingBackward0>)\n"
     ]
    }
   ],
   "source": [
    "from    torch       import  norm\n",
    "from    torch.nn    import  Embedding\n",
    "\n",
    "\n",
    "embed = Embedding(10, 6)\n",
    "print(embed.weight)\n",
    "\n",
    "sentences = torch.tensor([[0,1,2], [2,1,9]])\n",
    "print(embed(sentences))"
   ]
  },
  {
   "cell_type": "code",
   "execution_count": 16,
   "metadata": {},
   "outputs": [
    {
     "name": "stdout",
     "output_type": "stream",
     "text": [
      "torch.Size([12, 6])\n",
      "torch.Size([12, 6])\n",
      "torch.Size([12, 6])\n",
      "torch.Size([12, 6])\n"
     ]
    }
   ],
   "source": [
    "A = torch.arange(12*24).reshape(12, 24)\n",
    "l = A.chunk(4, -1)\n",
    "for t in l:\n",
    "    print(t.shape)\n",
    "    \n",
    "    \n",
    "    \n",
    "    "
   ]
  },
  {
   "cell_type": "code",
   "execution_count": null,
   "metadata": {},
   "outputs": [],
   "source": [
    "from    galerkin_transformer"
   ]
  }
 ],
 "metadata": {
  "kernelspec": {
   "display_name": "torch",
   "language": "python",
   "name": "python3"
  },
  "language_info": {
   "codemirror_mode": {
    "name": "ipython",
    "version": 3
   },
   "file_extension": ".py",
   "mimetype": "text/x-python",
   "name": "python",
   "nbconvert_exporter": "python",
   "pygments_lexer": "ipython3",
   "version": "undefined.undefined.undefined"
  }
 },
 "nbformat": 4,
 "nbformat_minor": 2
}
