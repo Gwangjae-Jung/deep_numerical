{
 "cells": [
  {
   "cell_type": "markdown",
   "metadata": {},
   "source": [
    "## 1. Set up the experiment"
   ]
  },
  {
   "cell_type": "markdown",
   "metadata": {},
   "source": [
    "### 1-1. Import modules"
   ]
  },
  {
   "cell_type": "code",
   "execution_count": 1,
   "metadata": {},
   "outputs": [],
   "source": [
    "import  os, time\n",
    "from    pathlib             import  Path\n",
    "from    tqdm.notebook       import  tqdm\n",
    "import  pickle\n",
    "import  yaml\n",
    "\n",
    "import  numpy       as  np\n",
    "import  torch\n",
    "from    torch       import  nn\n",
    "from    torch.utils.data            import  TensorDataset, DataLoader\n",
    "\n",
    "from    custom_modules.utils                import  get_time_str\n",
    "from    custom_modules.utils                import  GridGenerator, npzReader, GaussianNormalizer\n",
    "from    custom_modules.pytorch.neuralop     import  DeepONetStructured  as  DeepONet\n",
    "from    custom_modules.pytorch.torch_utils  import  count_parameters\n",
    "\n",
    "\n",
    "time_str = get_time_str()"
   ]
  },
  {
   "cell_type": "markdown",
   "metadata": {},
   "source": [
    "### 1-2. Load the configurations"
   ]
  },
  {
   "cell_type": "code",
   "execution_count": 2,
   "metadata": {},
   "outputs": [],
   "source": [
    "time_str = get_time_str()\n",
    "with open(\"config_train.yaml\") as f:\n",
    "    config      = yaml.load(f, Loader = yaml.FullLoader)\n",
    "    _exp        = config['experiment']\n",
    "    _data       = config['pde_dataset']\n",
    "    _deeponet   = config['deeponet']"
   ]
  },
  {
   "cell_type": "markdown",
   "metadata": {},
   "source": [
    "### 1-3. Set the experiment"
   ]
  },
  {
   "cell_type": "code",
   "execution_count": 3,
   "metadata": {},
   "outputs": [],
   "source": [
    "# NOTE Training and data preprocess\n",
    "\n",
    "\n",
    "BATCH_SIZE      = _exp['batch_size']\n",
    "NUM_EPOCHS      = _exp['num_epochs']\n",
    "LEARNING_RATE   = _exp['learning_rate']\n",
    "TRAIN_SIZE      = _exp['train_size']\n",
    "VAL_SIZE        = _exp['val_size']\n",
    "DEVICE          = torch.device(f\"cuda:{_exp['cuda_index']}\")\n",
    "\n",
    "\n",
    "RESOLUTION      = _data['resolution']\n",
    "TRAIN_PATH      = Path(_data['path'])\n",
    "__RANDOM_CHOICE = np.random.choice(1024, TRAIN_SIZE + VAL_SIZE, replace = False)\n",
    "TRAIN_MASK      = __RANDOM_CHOICE[:TRAIN_SIZE]\n",
    "VAL_MASK        = __RANDOM_CHOICE[-VAL_SIZE:]\n",
    "\n",
    "\n",
    "DOWNSAMPLE      = _data['downsample']\n",
    "GRID            = (RESOLUTION - 1) // DOWNSAMPLE + 1\n",
    "grid            = torch.stack(\n",
    "                        torch.meshgrid(\n",
    "                            torch.linspace(0, 1, GRID),\n",
    "                            torch.linspace(0, 1, GRID),\n",
    "                            indexing = 'ij'\n",
    "                        ),\n",
    "                        dim = -1\n",
    "                    )   # Shape: (GRID, GRID, dim_domain = 2)\n",
    "grid            = grid.reshape(-1, 2).to(DEVICE)"
   ]
  },
  {
   "cell_type": "markdown",
   "metadata": {},
   "source": [
    "## 2. Preprocess data"
   ]
  },
  {
   "cell_type": "markdown",
   "metadata": {},
   "source": [
    "### 2-1. Instantiate the storages"
   ]
  },
  {
   "cell_type": "code",
   "execution_count": 4,
   "metadata": {},
   "outputs": [],
   "source": [
    "train_data: dict[str, torch.Tensor] = {\n",
    "    'coeff':    None,\n",
    "    'sol':      None,\n",
    "}\n",
    "val_data: dict[str, torch.Tensor] = {\n",
    "    'coeff':    None,\n",
    "    'sol':      None,\n",
    "}\n",
    "\n",
    "\n",
    "normalizer: dict[str, GaussianNormalizer] = {\n",
    "    'coeff':    None,\n",
    "    'sol':      None,\n",
    "}"
   ]
  },
  {
   "cell_type": "markdown",
   "metadata": {},
   "source": [
    "### 2-2. Load the train data"
   ]
  },
  {
   "cell_type": "code",
   "execution_count": 5,
   "metadata": {},
   "outputs": [
    {
     "data": {
      "application/vnd.jupyter.widget-view+json": {
       "model_id": "ddc66846b38546b88f137987ac9eb957",
       "version_major": 2,
       "version_minor": 0
      },
      "text/plain": [
       "Preprocessing the train data: 0it [00:00, ?it/s]"
      ]
     },
     "metadata": {},
     "output_type": "display_data"
    },
    {
     "data": {
      "application/vnd.jupyter.widget-view+json": {
       "model_id": "4f3c2022ad7e4b3d8e3dc8bf61a48754",
       "version_major": 2,
       "version_minor": 0
      },
      "text/plain": [
       "Preprocessing the validation data: 0it [00:00, ?it/s]"
      ]
     },
     "metadata": {},
     "output_type": "display_data"
    }
   ],
   "source": [
    "# Train data\n",
    "reader = npzReader(TRAIN_PATH)\n",
    "for cnt, k in tqdm(enumerate(train_data.keys()), desc = \"Preprocessing the train data\"):   \n",
    "    # Step 1. Load data\n",
    "    train_data[k] = torch.from_numpy(reader.get_field(k)[TRAIN_MASK, ::DOWNSAMPLE, ::DOWNSAMPLE])\n",
    "    train_data[k] = train_data[k].type(torch.float)\n",
    "    train_data[k] = train_data[k].reshape(TRAIN_SIZE, -1).to(DEVICE)\n",
    "    \n",
    "    # Step 2. Normalize data\n",
    "    normalizer[k] = GaussianNormalizer(train_data[k])\n",
    "    normalizer[k].to(DEVICE)\n",
    "    train_data[k] = normalizer[k].encode(train_data[k])\n",
    "\n",
    "\n",
    "# Validation data\n",
    "for cnt, k in tqdm(enumerate(val_data.keys()), desc = \"Preprocessing the validation data\"):\n",
    "    # Step 1. Load data\n",
    "    val_data[k] = torch.from_numpy(reader.get_field(k)[VAL_MASK, ::DOWNSAMPLE, ::DOWNSAMPLE])\n",
    "    val_data[k] = val_data[k].type(torch.float)\n",
    "    val_data[k] = val_data[k].reshape(VAL_SIZE, -1).to(DEVICE)\n",
    "    \n",
    "    # Step 2. Normalize data (NOTE: Uses the normalizers for the train dataset)\n",
    "    val_data[k] = normalizer[k].encode(val_data[k])"
   ]
  },
  {
   "cell_type": "markdown",
   "metadata": {},
   "source": [
    "### 2-3. Instantiate dataloaders"
   ]
  },
  {
   "cell_type": "code",
   "execution_count": 6,
   "metadata": {},
   "outputs": [],
   "source": [
    "train_dataset = TensorDataset(train_data['coeff'], train_data['sol'])\n",
    "val_dataset   = TensorDataset(  val_data['coeff'], val_data['sol'])\n",
    "train_loader = torch.utils.data.DataLoader(train_dataset, batch_size = BATCH_SIZE, shuffle = True)\n",
    "val_loader   = torch.utils.data.DataLoader(  val_dataset,  batch_size = BATCH_SIZE, shuffle = True) "
   ]
  },
  {
   "cell_type": "markdown",
   "metadata": {},
   "source": [
    "## 3. Train the model"
   ]
  },
  {
   "cell_type": "markdown",
   "metadata": {},
   "source": [
    "### 3-1. Initialize the model and instantiate the loss function and the optimizer"
   ]
  },
  {
   "cell_type": "code",
   "execution_count": 7,
   "metadata": {},
   "outputs": [
    {
     "name": "stdout",
     "output_type": "stream",
     "text": [
      "The number of the parameters in the model\n",
      ">>> 903361\n",
      "DeepONet(\n",
      "    structured,\n",
      "    branch=MLP(layer=(961, 512, 512, 256), bias=True, activation=relu),\n",
      "    trunk =MLP(layer=(2, 64, 256), bias=True, activation=relu),\n",
      ")\n"
     ]
    }
   ],
   "source": [
    "deeponet = DeepONet(**_deeponet).to(DEVICE)\n",
    "print(f\"The number of the parameters in the model\\n>>> {count_parameters(deeponet)}\")\n",
    "print(deeponet)\n",
    "\n",
    "for p in deeponet.parameters():\n",
    "    if p.ndim == 1:\n",
    "        torch.nn.init.zeros_(p)\n",
    "    else:\n",
    "        torch.nn.init.xavier_uniform_(p)\n",
    "\n",
    "criterion = torch.nn.MSELoss(reduction = 'mean')\n",
    "optimizer = torch.optim.Adam(params = deeponet.parameters(), lr = _exp['learning_rate'])"
   ]
  },
  {
   "cell_type": "markdown",
   "metadata": {},
   "source": [
    "### 3-2. Train the model"
   ]
  },
  {
   "cell_type": "code",
   "execution_count": 8,
   "metadata": {},
   "outputs": [
    {
     "data": {
      "application/vnd.jupyter.widget-view+json": {
       "model_id": "23ccd14d833b4fddb666861430c10a2c",
       "version_major": 2,
       "version_minor": 0
      },
      "text/plain": [
       "  0%|          | 0/300 [00:00<?, ?it/s]"
      ]
     },
     "metadata": {},
     "output_type": "display_data"
    },
    {
     "name": "stdout",
     "output_type": "stream",
     "text": [
      "[ Epoch 1 / 300 ]\n",
      "* train_loss     : 1.4981e+00\n",
      "* train_error    : 6.4362e-01\n",
      "* val_loss       : 6.5141e-01\n",
      "* val_error      : 4.7844e-01\n",
      "[ Epoch 10 / 300 ]\n",
      "* train_loss     : 8.6739e-02\n",
      "* train_error    : 1.7397e-01\n",
      "* val_loss       : 9.1232e-02\n",
      "* val_error      : 1.7883e-01\n",
      "[ Epoch 20 / 300 ]\n",
      "* train_loss     : 4.7496e-02\n",
      "* train_error    : 1.2803e-01\n",
      "* val_loss       : 3.4796e-02\n",
      "* val_error      : 1.1052e-01\n",
      "[ Epoch 30 / 300 ]\n",
      "* train_loss     : 2.8584e-02\n",
      "* train_error    : 1.0041e-01\n",
      "* val_loss       : 4.3579e-02\n",
      "* val_error      : 1.2382e-01\n",
      "[ Epoch 40 / 300 ]\n",
      "* train_loss     : 2.1931e-02\n",
      "* train_error    : 8.8019e-02\n",
      "* val_loss       : 3.3846e-02\n",
      "* val_error      : 1.0896e-01\n",
      "[ Epoch 50 / 300 ]\n",
      "* train_loss     : 1.9585e-02\n",
      "* train_error    : 8.3181e-02\n",
      "* val_loss       : 2.3270e-02\n",
      "* val_error      : 9.0250e-02\n",
      "[ Epoch 60 / 300 ]\n",
      "* train_loss     : 2.3275e-02\n",
      "* train_error    : 9.0095e-02\n",
      "* val_loss       : 4.4451e-02\n",
      "* val_error      : 1.2448e-01\n",
      "[ Epoch 70 / 300 ]\n",
      "* train_loss     : 1.6854e-02\n",
      "* train_error    : 7.7231e-02\n",
      "* val_loss       : 1.7044e-02\n",
      "* val_error      : 7.7367e-02\n",
      "[ Epoch 80 / 300 ]\n",
      "* train_loss     : 2.3706e-02\n",
      "* train_error    : 9.1273e-02\n",
      "* val_loss       : 2.1083e-02\n",
      "* val_error      : 8.6070e-02\n",
      "[ Epoch 90 / 300 ]\n",
      "* train_loss     : 2.3695e-02\n",
      "* train_error    : 9.0942e-02\n",
      "* val_loss       : 1.9963e-02\n",
      "* val_error      : 8.3698e-02\n",
      "[ Epoch 100 / 300 ]\n",
      "* train_loss     : 4.4462e-02\n",
      "* train_error    : 1.2244e-01\n",
      "* val_loss       : 2.9323e-02\n",
      "* val_error      : 1.0156e-01\n",
      "[ Epoch 110 / 300 ]\n",
      "* train_loss     : 2.1294e-02\n",
      "* train_error    : 8.6461e-02\n",
      "* val_loss       : 2.0098e-02\n",
      "* val_error      : 8.4058e-02\n",
      "[ Epoch 120 / 300 ]\n",
      "* train_loss     : 2.6502e-02\n",
      "* train_error    : 9.5224e-02\n",
      "* val_loss       : 1.9039e-02\n",
      "* val_error      : 8.1771e-02\n",
      "[ Epoch 130 / 300 ]\n",
      "* train_loss     : 2.5978e-02\n",
      "* train_error    : 9.4680e-02\n",
      "* val_loss       : 4.0989e-02\n",
      "* val_error      : 1.1998e-01\n",
      "[ Epoch 140 / 300 ]\n",
      "* train_loss     : 2.1704e-02\n",
      "* train_error    : 8.7173e-02\n",
      "* val_loss       : 1.7503e-02\n",
      "* val_error      : 7.8332e-02\n",
      "[ Epoch 150 / 300 ]\n",
      "* train_loss     : 1.1330e-02\n",
      "* train_error    : 6.3346e-02\n",
      "* val_loss       : 1.2201e-02\n",
      "* val_error      : 6.5366e-02\n",
      "[ Epoch 160 / 300 ]\n",
      "* train_loss     : 1.5119e-02\n",
      "* train_error    : 7.2874e-02\n",
      "* val_loss       : 1.5362e-02\n",
      "* val_error      : 7.3375e-02\n",
      "[ Epoch 170 / 300 ]\n",
      "* train_loss     : 2.0656e-02\n",
      "* train_error    : 8.4589e-02\n",
      "* val_loss       : 2.5233e-02\n",
      "* val_error      : 9.4046e-02\n",
      "[ Epoch 180 / 300 ]\n",
      "* train_loss     : 2.4057e-02\n",
      "* train_error    : 8.9601e-02\n",
      "* val_loss       : 2.8928e-02\n",
      "* val_error      : 1.0077e-01\n",
      "[ Epoch 190 / 300 ]\n",
      "* train_loss     : 1.0798e-02\n",
      "* train_error    : 6.1824e-02\n",
      "* val_loss       : 1.1556e-02\n",
      "* val_error      : 6.3690e-02\n",
      "[ Epoch 200 / 300 ]\n",
      "* train_loss     : 1.3301e-02\n",
      "* train_error    : 6.8514e-02\n",
      "* val_loss       : 1.2687e-02\n",
      "* val_error      : 6.6633e-02\n",
      "[ Epoch 210 / 300 ]\n",
      "* train_loss     : 1.9079e-02\n",
      "* train_error    : 8.1552e-02\n",
      "* val_loss       : 1.6501e-02\n",
      "* val_error      : 7.5815e-02\n",
      "[ Epoch 220 / 300 ]\n",
      "* train_loss     : 1.0930e-02\n",
      "* train_error    : 6.2214e-02\n",
      "* val_loss       : 1.3114e-02\n",
      "* val_error      : 6.7873e-02\n",
      "[ Epoch 230 / 300 ]\n",
      "* train_loss     : 1.2924e-02\n",
      "* train_error    : 6.7394e-02\n",
      "* val_loss       : 1.2631e-02\n",
      "* val_error      : 6.6558e-02\n",
      "[ Epoch 240 / 300 ]\n",
      "* train_loss     : 9.0627e-03\n",
      "* train_error    : 5.6615e-02\n",
      "* val_loss       : 1.0994e-02\n",
      "* val_error      : 6.2096e-02\n",
      "[ Epoch 250 / 300 ]\n",
      "* train_loss     : 1.1356e-02\n",
      "* train_error    : 6.2377e-02\n",
      "* val_loss       : 1.7984e-02\n",
      "* val_error      : 7.9360e-02\n",
      "[ Epoch 260 / 300 ]\n",
      "* train_loss     : 1.0282e-02\n",
      "* train_error    : 6.0192e-02\n",
      "* val_loss       : 1.0974e-02\n",
      "* val_error      : 6.1930e-02\n",
      "[ Epoch 270 / 300 ]\n",
      "* train_loss     : 9.7241e-03\n",
      "* train_error    : 5.8684e-02\n",
      "* val_loss       : 1.1052e-02\n",
      "* val_error      : 6.2258e-02\n",
      "[ Epoch 280 / 300 ]\n",
      "* train_loss     : 1.0298e-02\n",
      "* train_error    : 6.0225e-02\n",
      "* val_loss       : 1.1265e-02\n",
      "* val_error      : 6.2882e-02\n",
      "[ Epoch 290 / 300 ]\n",
      "* train_loss     : 9.5059e-03\n",
      "* train_error    : 5.7962e-02\n",
      "* val_loss       : 9.9073e-03\n",
      "* val_error      : 5.8812e-02\n",
      "[ Epoch 300 / 300 ]\n",
      "* train_loss     : 1.1690e-02\n",
      "* train_error    : 6.4207e-02\n",
      "* val_loss       : 1.0988e-02\n",
      "* val_error      : 6.2124e-02\n",
      "Elapsed time: 40 seconds\n"
     ]
    }
   ],
   "source": [
    "train_history = {\n",
    "    'train_loss':   [],\n",
    "    'train_error':  [],\n",
    "    'val_loss':     [],\n",
    "    'val_error':    [],\n",
    "    'train_time':   0.0,\n",
    "}\n",
    "normalizer['sol'].to(DEVICE)\n",
    "\n",
    "elapsed_time = time.time()\n",
    "for epoch in tqdm(range(1, NUM_EPOCHS + 1)):\n",
    "    # NOTE: Train\n",
    "    deeponet.train()\n",
    "    _train_time = time.time()\n",
    "    train_epoch_loss:  torch.Tensor = 0\n",
    "    train_epoch_error: torch.Tensor = 0\n",
    "    for data, target in train_loader:\n",
    "        num_data = len(data)\n",
    "        \n",
    "        train_pred = deeponet.forward((data, grid))\n",
    "        train_loss = criterion.forward(train_pred, target)\n",
    "        optimizer.zero_grad()\n",
    "        train_loss.backward()\n",
    "        optimizer.step()\n",
    "        \n",
    "        train_epoch_loss = train_epoch_loss + train_loss * num_data\n",
    "        train_pred  = normalizer['sol'].decode(train_pred)\n",
    "        target      = normalizer['sol'].decode(target)\n",
    "        train_epoch_error = train_epoch_error + (\n",
    "            torch.linalg.norm(train_pred - target) / (1e-8 + torch.linalg.norm(target))\n",
    "        ) * num_data\n",
    "    _train_time = time.time() - _train_time\n",
    "    train_history['train_time'] += _train_time\n",
    "    train_epoch_loss    = train_epoch_loss / TRAIN_SIZE\n",
    "    train_epoch_error   = train_epoch_error / TRAIN_SIZE\n",
    "    train_history['train_loss'].append(train_epoch_loss.item())\n",
    "    train_history['train_error'].append(train_epoch_error.item())\n",
    "    \n",
    "    \n",
    "    # NOTE: Validation\n",
    "    deeponet.eval()\n",
    "    val_epoch_loss:     torch.Tensor = 0\n",
    "    val_epoch_error:    torch.Tensor = 0\n",
    "    with torch.no_grad():\n",
    "        for data, target in val_loader:\n",
    "            num_data = len(data)\n",
    "            \n",
    "            val_pred = deeponet.forward((data, grid))\n",
    "            val_loss = criterion.forward(val_pred, target)\n",
    "            \n",
    "            val_epoch_loss      = val_epoch_loss + val_loss * num_data\n",
    "            val_pred = normalizer['sol'].decode(val_pred)\n",
    "            target   = normalizer['sol'].decode(target)\n",
    "            val_epoch_error     = val_epoch_error + (\n",
    "                                        torch.linalg.norm(val_pred - target) / (1e-8 + torch.linalg.norm(target))\n",
    "                                    ) * num_data\n",
    "    val_epoch_loss      = val_epoch_loss / VAL_SIZE\n",
    "    val_epoch_error     = val_epoch_error / VAL_SIZE\n",
    "    train_history['val_loss'].append(val_epoch_loss.item())\n",
    "    train_history['val_error'].append(val_epoch_error.item())\n",
    "    \n",
    "    if epoch % 10 == 0 or epoch == 1:\n",
    "        print(f\"[ Epoch {epoch} / {NUM_EPOCHS} ]\")\n",
    "        for k in train_history.keys():\n",
    "            if k == \"train_time\":\n",
    "                continue\n",
    "            print(f\"* {k:15s}: {train_history[k][-1]:.4e}\")\n",
    "    \n",
    "elapsed_time = time.time() - elapsed_time\n",
    "print(f\"Elapsed time: {int(elapsed_time)} seconds\")"
   ]
  },
  {
   "cell_type": "markdown",
   "metadata": {},
   "source": [
    "### 3-3. Save the model and the train history"
   ]
  },
  {
   "cell_type": "code",
   "execution_count": 9,
   "metadata": {},
   "outputs": [],
   "source": [
    "deeponet.cpu()\n",
    "\n",
    "# Save the model\n",
    "os.makedirs(f\"./{time_str}\", exist_ok = True)\n",
    "torch.save(deeponet.state_dict(), f\"{time_str}/deeponet_darcy{RESOLUTION}_res{GRID}.pth\")\n",
    "\n",
    "# Save the normalizer, which will also be used in prediction\n",
    "normalizer['sol'].cpu()\n",
    "torch.save(normalizer, f\"{time_str}/deeponet_darcy{RESOLUTION}_res{GRID}_normalizer.pth\")\n",
    "\n",
    "# Save the history\n",
    "with open(f\"{time_str}/deeponet_darcy{RESOLUTION}_res{GRID}.pickle\", \"wb\") as f:\n",
    "    pickle.dump(train_history, f)"
   ]
  },
  {
   "cell_type": "markdown",
   "metadata": {},
   "source": [
    "## End of file"
   ]
  }
 ],
 "metadata": {
  "kernelspec": {
   "display_name": "Python 3 (ipykernel)",
   "language": "python",
   "name": "python3"
  },
  "language_info": {
   "codemirror_mode": {
    "name": "ipython",
    "version": 3
   },
   "file_extension": ".py",
   "mimetype": "text/x-python",
   "name": "python",
   "nbconvert_exporter": "python",
   "pygments_lexer": "ipython3",
   "version": "3.10.14"
  }
 },
 "nbformat": 4,
 "nbformat_minor": 4
}
