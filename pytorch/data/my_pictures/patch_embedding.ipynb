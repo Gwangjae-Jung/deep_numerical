{
 "cells": [
  {
   "cell_type": "code",
   "execution_count": null,
   "metadata": {},
   "outputs": [],
   "source": [
    "from    math        import  gcd\n",
    "\n",
    "import  numpy               as      np\n",
    "import  torch\n",
    "\n",
    "import  matplotlib.pyplot   as      plt\n",
    "import  os, sys\n",
    "sys.path.append(r\"E:\\\\_____custom_modules\\\\custom_modules\\\\\")\n",
    "\n",
    "from    pytorch.layers      import  PatchEmbedding, IntegralConv2D\n",
    "from    pytorch.neuralop    import  *"
   ]
  },
  {
   "cell_type": "code",
   "execution_count": null,
   "metadata": {},
   "outputs": [],
   "source": [
    "MAX_VALUE = 255\n",
    "shiba = plt.imread('sleeping_shiba.jpeg').astype(np.float64) / MAX_VALUE\n",
    "shiba = torch.tensor(shiba, dtype=torch.float32)\n",
    "plt.title(f\"Sleeping shiba of shape {list(shiba.shape)}\")\n",
    "plt.imshow(shiba)\n",
    "plt.show()"
   ]
  },
  {
   "cell_type": "markdown",
   "metadata": {},
   "source": [
    "Integral convolutional layer"
   ]
  },
  {
   "cell_type": "code",
   "execution_count": null,
   "metadata": {},
   "outputs": [],
   "source": [
    "kernel_size = gcd(*shiba.shape[:2]) // 4\n",
    "integral_conv = IntegralConv2D(12, 12, 8, 8)\n",
    "images = shiba.unsqueeze(0).permute(0,3,1,2)\n",
    "output = integral_conv.forward(images, 3, 3*16, kernel_size=kernel_size, stride=kernel_size)\n",
    "plt.imshow(output[0, 0].detach().numpy())\n",
    "plt.show()"
   ]
  },
  {
   "cell_type": "code",
   "execution_count": null,
   "metadata": {},
   "outputs": [],
   "source": [
    "gcd(*shiba.shape[:2])"
   ]
  },
  {
   "cell_type": "code",
   "execution_count": null,
   "metadata": {},
   "outputs": [],
   "source": [
    "patch_size = 4\n",
    "\n",
    "weight = torch.zeros((3, 3, patch_size, patch_size))\n",
    "for i in range(3):\n",
    "    weight[i, i] = torch.ones((patch_size, patch_size)) / (patch_size**2)"
   ]
  },
  {
   "cell_type": "code",
   "execution_count": null,
   "metadata": {},
   "outputs": [],
   "source": [
    "patch_embed = PatchEmbedding(2, 1, patch_size)\n",
    "# patch_embed.patch_embed.weight.data = weight\n",
    "# patch_embed.patch_embed.bias.data = torch.zeros(3)\n",
    "Z = patch_embed.forward(shiba[None, ...])\n",
    "print(Z.shape)\n",
    "plt.imshow(Z[0].detach())"
   ]
  },
  {
   "cell_type": "code",
   "execution_count": null,
   "metadata": {},
   "outputs": [],
   "source": []
  }
 ],
 "metadata": {
  "kernelspec": {
   "display_name": "dev_main",
   "language": "python",
   "name": "python3"
  },
  "language_info": {
   "codemirror_mode": {
    "name": "ipython",
    "version": 3
   },
   "file_extension": ".py",
   "mimetype": "text/x-python",
   "name": "python",
   "nbconvert_exporter": "python",
   "pygments_lexer": "ipython3",
   "version": "3.10.16"
  }
 },
 "nbformat": 4,
 "nbformat_minor": 2
}
