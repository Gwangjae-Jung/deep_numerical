{
 "cells": [
  {
   "cell_type": "code",
   "execution_count": 1,
   "id": "e0505e7a",
   "metadata": {},
   "outputs": [],
   "source": [
    "from    typing      import  Callable\n",
    "\n",
    "import  numpy               as      np\n",
    "import  torch\n",
    "import  matplotlib.pyplot   as      plt\n",
    "\n",
    "from    tqdm.notebook       import  tqdm\n",
    "\n",
    "from    kinetic_distribtutions      import  *\n",
    "\n",
    "from    pathlib             import  Path\n",
    "root_dir    = r\"/media/junseung/47a90e46-3a9d-467c-bbee-066752b68532/GWANGJAE\"\n",
    "path_root   = Path(root_dir)\n",
    "path_lib    = path_root / \"python_deep_numerical/pytorch\"\n",
    "path_data   = path_root / \"datasets\"\n",
    "\n",
    "from    sys         import  path\n",
    "path.append( str(path_lib) )\n",
    "from    torch_numerical             import  utils, distribution\n",
    "from    torch_numerical.solvers     import  FastSM_Boltzmann_VHS\n",
    "\n",
    "dtype:  torch.dtype     = torch.float64\n",
    "device: torch.device    = torch.device('cuda:2' if torch.cuda.is_available() else 'cpu')\n",
    "\n",
    "dtype_and_device = {'dtype': dtype, 'device': device}\n",
    "__dtype_str = str(dtype).split('.')[-1]"
   ]
  },
  {
   "cell_type": "code",
   "execution_count": 2,
   "id": "0903214d",
   "metadata": {},
   "outputs": [],
   "source": [
    "DELTA_T:    float   = 0.1\n",
    "MAX_T:      float   = 5.0\n",
    "NUM_INST:   int     = 20\n",
    "DATA_SIZE:  int     = NUM_INST * int(MAX_T/DELTA_T + 0.1)\n",
    "\n",
    "T1__n_init  = T2__n_init    = T3__n_init    = NUM_INST\n",
    "T1__size    = T2__size      = T3__size      = DATA_SIZE\n",
    "\n",
    "DIMENSION:  int     = 2\n",
    "RESOLUTION: int     = (2**6)+1\n",
    "V_MAX:      float   = 3.0/utils.LAMBDA\n",
    "DELTA_V:    float   = (2*V_MAX) / RESOLUTION\n",
    "V_WHERE_CLOSED: str = 'both' if RESOLUTION%2==1 else 'none'\n",
    "\n",
    "v_grid = utils.velocity_grid(DIMENSION, RESOLUTION, V_MAX, where_closed=V_WHERE_CLOSED, **dtype_and_device)\n",
    "\n",
    "FFT_AXES:   tuple[int] = tuple(range(-(1+DIMENSION), -1))\n",
    "FFT_NORM:   str  = 'forward'\n",
    "\n",
    "VHS_COEFF = 1 / utils.area_of_unit_sphere(DIMENSION)\n",
    "VHS_ALPHA = -2\n",
    "\n",
    "sample_q: Callable[[int], tuple[torch.Tensor]] = \\\n",
    "    lambda batch_size: sample_quantities(DIMENSION, batch_size, **dtype_and_device)\n",
    "\n",
    "# Saved information\n",
    "dataset_info: dict[str, object] = {\n",
    "    'dimension':    DIMENSION,\n",
    "    'resolution':   RESOLUTION,\n",
    "    'v_max':        V_MAX,\n",
    "    'vhs_coeff':    VHS_COEFF,\n",
    "    'equation':     'Boltzmann',\n",
    "}"
   ]
  },
  {
   "cell_type": "code",
   "execution_count": 3,
   "id": "db59253d",
   "metadata": {},
   "outputs": [],
   "source": [
    "solver = FastSM_Boltzmann_VHS(\n",
    "    dimension   = DIMENSION,\n",
    "    v_num_grid  = RESOLUTION,\n",
    "    v_max       = V_MAX,\n",
    "    \n",
    "    vhs_coeff   = VHS_COEFF,\n",
    "    vhs_alpha   = VHS_ALPHA,\n",
    "    \n",
    "    quad_order_uniform  = 25,\n",
    "    quad_order_legendre = 25,\n",
    "    quad_order_lebedev  = 7,\n",
    "    \n",
    "    **dtype_and_device,\n",
    ")\n",
    "FFT_CONFIG: dict[str, object] = {'s': solver.v_shape, 'dim': solver.v_axes, 'norm': FFT_NORM}"
   ]
  },
  {
   "cell_type": "markdown",
   "id": "bf7cfac2",
   "metadata": {},
   "source": [
    "Type 1. Maxwellian distribution"
   ]
  },
  {
   "cell_type": "code",
   "execution_count": 4,
   "id": "302c8d7d",
   "metadata": {},
   "outputs": [
    {
     "data": {
      "application/vnd.jupyter.widget-view+json": {
       "model_id": "741c4968ebb046be941f4a5b05407969",
       "version_major": 2,
       "version_minor": 0
      },
      "text/plain": [
       "  0%|          | 0/50 [00:00<?, ?it/s]"
      ]
     },
     "metadata": {},
     "output_type": "display_data"
    },
    {
     "name": "stdout",
     "output_type": "stream",
     "text": [
      "The shape of the input data\n",
      ">>> torch.Size([1000, 1, 1, 65, 65, 1])\n",
      "The shape of the output data\n",
      ">>> torch.Size([1000, 1, 1, 65, 65, 1])\n"
     ]
    }
   ],
   "source": [
    "T1__data:       list[torch.Tensor]  = []\n",
    "T1__collision:  list[torch.Tensor]  = []\n",
    "\n",
    "T1__init: torch.Tensor = distribution.maxwellian_homogeneous(v_grid, *sample_q(T1__n_init))\n",
    "arr_f_1 = T1__init = normalize_density(T1__init, DELTA_V)\n",
    "arr_f_1_fft: torch.Tensor = torch.fft.fftn(arr_f_1, **FFT_CONFIG)\n",
    "\n",
    "for cnt in tqdm(range(T1__size//T1__n_init)):\n",
    "    ##### 1. Save the distribution at the previous time step\n",
    "    T1__data.append(arr_f_1)\n",
    "    ##### 2. Save the collision term at the previous time step\n",
    "    _col_1_fft = solver.compute_fft(None, arr_f_1_fft)\n",
    "    col_1 = torch.real(torch.fft.ifftn(_col_1_fft, **FFT_CONFIG))\n",
    "    T1__collision.append(col_1)\n",
    "    ##### 3. Compute the distribution at the current time step\n",
    "    arr_f_1_fft = solver.forward(0.0, arr_f_1_fft, DELTA_T, utils.one_step_RK4_classic)\n",
    "    arr_f_1 = torch.real(torch.fft.ifftn(arr_f_1_fft, **FFT_CONFIG))\n",
    "    \n",
    "T1__data:       torch.Tensor    = torch.concatenate(T1__data, dim=0).cpu()\n",
    "T1__collision:  torch.Tensor    = torch.concatenate(T1__collision, dim=0).cpu()\n",
    "\n",
    "\n",
    "print(f\"The shape of the input data\")\n",
    "print(f\">>> {T1__data.shape}\")\n",
    "print(f\"The shape of the output data\")\n",
    "print(f\">>> {T1__collision.shape}\")"
   ]
  },
  {
   "cell_type": "markdown",
   "id": "b208ce13",
   "metadata": {},
   "source": [
    "Type 2. Sum of two Maxwellian distributions"
   ]
  },
  {
   "cell_type": "code",
   "execution_count": 5,
   "id": "bb6abd9d",
   "metadata": {},
   "outputs": [
    {
     "data": {
      "application/vnd.jupyter.widget-view+json": {
       "model_id": "71912d08689a4275b472cee4eca67559",
       "version_major": 2,
       "version_minor": 0
      },
      "text/plain": [
       "  0%|          | 0/50 [00:00<?, ?it/s]"
      ]
     },
     "metadata": {},
     "output_type": "display_data"
    },
    {
     "name": "stdout",
     "output_type": "stream",
     "text": [
      "The shape of the input data\n",
      ">>> torch.Size([1000, 1, 1, 65, 65, 1])\n",
      "The shape of the output data\n",
      ">>> torch.Size([1000, 1, 1, 65, 65, 1])\n"
     ]
    }
   ],
   "source": [
    "T2__data:       list[torch.Tensor]  = []\n",
    "T2__collision:  list[torch.Tensor]  = []\n",
    "\n",
    "T2__init: torch.Tensor = \\\n",
    "    0.5 * (\n",
    "        distribution.maxwellian_homogeneous(v_grid, *sample_q(T2__n_init))\n",
    "        +\n",
    "        distribution.maxwellian_homogeneous(v_grid, *sample_q(T2__n_init))\n",
    "    )\n",
    "arr_f_2 = T2__init = normalize_density(T2__init, DELTA_V)\n",
    "arr_f_2_fft: torch.Tensor = torch.fft.fftn(arr_f_2, **FFT_CONFIG)\n",
    "\n",
    "for cnt in tqdm(range(T2__size//T2__n_init)):\n",
    "    ##### 1. Save the distribution at the previous time step\n",
    "    T2__data.append(arr_f_2)\n",
    "    ##### 2. Save the collision term at the previous time step\n",
    "    _col_2_fft = solver.compute_fft(None, arr_f_2_fft)\n",
    "    col_2 = torch.real(torch.fft.ifftn(_col_2_fft, **FFT_CONFIG))\n",
    "    T2__collision.append(col_2)\n",
    "    ##### 3. Compute the distribution at the current time step\n",
    "    arr_f_2_fft = solver.forward(0.0, arr_f_2_fft, DELTA_T, utils.one_step_RK4_classic)\n",
    "    arr_f_2 = torch.real(torch.fft.ifftn(arr_f_2_fft, **FFT_CONFIG))\n",
    "    \n",
    "T2__data:       torch.Tensor    = torch.concatenate(T2__data, dim=0).cpu()\n",
    "T2__collision:  torch.Tensor    = torch.concatenate(T2__collision, dim=0).cpu()\n",
    "\n",
    "print(f\"The shape of the input data\")\n",
    "print(f\">>> {T2__data.shape}\")\n",
    "print(f\"The shape of the output data\")\n",
    "print(f\">>> {T2__collision.shape}\")"
   ]
  },
  {
   "cell_type": "markdown",
   "id": "aa3541f9",
   "metadata": {},
   "source": [
    "Type 3. Perturbed Maxwellian distributions"
   ]
  },
  {
   "cell_type": "code",
   "execution_count": 6,
   "id": "5a3d8984",
   "metadata": {},
   "outputs": [
    {
     "data": {
      "application/vnd.jupyter.widget-view+json": {
       "model_id": "397662251c874b02b056e4ae0538ee34",
       "version_major": 2,
       "version_minor": 0
      },
      "text/plain": [
       "  0%|          | 0/50 [00:00<?, ?it/s]"
      ]
     },
     "metadata": {},
     "output_type": "display_data"
    },
    {
     "name": "stdout",
     "output_type": "stream",
     "text": [
      "The shape of the input data\n",
      ">>> torch.Size([1000, 1, 1, 65, 65, 1])\n",
      "The shape of the output data\n",
      ">>> torch.Size([1000, 1, 1, 65, 65, 1])\n"
     ]
    }
   ],
   "source": [
    "T3__data:       list[torch.Tensor] = []\n",
    "T3__collision:  list[torch.Tensor] = []\n",
    "\n",
    "coeffs = sample_noise_quadratic(DIMENSION, V_MAX, T3__n_init, **dtype_and_device)\n",
    "quad = compute_quadratic_polynomial(v_grid, coeffs)\n",
    "quad = quad.reshape(T3__n_init, *utils.ones(DIMENSION), *utils.repeat(RESOLUTION, DIMENSION), 1)\n",
    "\n",
    "T3__init: torch.Tensor = \\\n",
    "    distribution.maxwellian_homogeneous(v_grid, *sample_q(T3__n_init)) * \\\n",
    "    (1 + quad)\n",
    "arr_f_3 = T3__init = normalize_density(T3__init, DELTA_V)\n",
    "arr_f_3_fft: torch.Tensor = torch.fft.fftn(arr_f_3, **FFT_CONFIG)\n",
    "\n",
    "for cnt in tqdm(range(T3__size//T3__n_init)):\n",
    "    ##### 1. Save the distribution at the previous time step\n",
    "    T3__data.append(arr_f_3)\n",
    "    ##### 2. Save the collision term at the previous time step\n",
    "    _col_3_fft = solver.compute_fft(None, arr_f_3_fft)\n",
    "    col_3 = torch.real(torch.fft.ifftn(_col_3_fft, **FFT_CONFIG))\n",
    "    T3__collision.append(col_3)\n",
    "    ##### 3. Compute the distribution at the current time step\n",
    "    arr_f_3_fft = solver.forward(0.0, arr_f_3_fft, DELTA_T, utils.one_step_RK4_classic)\n",
    "    arr_f_3 = torch.real(torch.fft.ifftn(arr_f_3_fft, **FFT_CONFIG))\n",
    "    \n",
    "T3__data:       torch.Tensor    = torch.concatenate(T3__data, dim=0).cpu()\n",
    "T3__collision:  torch.Tensor    = torch.concatenate(T3__collision, dim=0).cpu()\n",
    "\n",
    "print(f\"The shape of the input data\")\n",
    "print(f\">>> {T3__data.shape}\")\n",
    "print(f\"The shape of the output data\")\n",
    "print(f\">>> {T3__collision.shape}\")"
   ]
  },
  {
   "cell_type": "markdown",
   "id": "708c228a",
   "metadata": {},
   "source": [
    "Merge the data"
   ]
  },
  {
   "cell_type": "code",
   "execution_count": 7,
   "id": "ab3e4eca",
   "metadata": {},
   "outputs": [],
   "source": [
    "data        = \\\n",
    "    torch.concatenate((T1__data, T2__data, T3__data), dim=0)\n",
    "collision   = \\\n",
    "    torch.concatenate((T1__collision, T2__collision, T3__collision), dim=0)"
   ]
  },
  {
   "cell_type": "code",
   "execution_count": 8,
   "id": "e9509410",
   "metadata": {},
   "outputs": [],
   "source": [
    "saved_data: dict[str, object] = {\n",
    "    'input_distribution':   data,\n",
    "    'collision_term':       collision,\n",
    "    \n",
    "    'max_t':            MAX_T,\n",
    "    'delta_t':          DELTA_T,\n",
    "    \n",
    "    'resolution':       RESOLUTION,\n",
    "    'max_v':            V_MAX,\n",
    "    'v_where_closed':   V_WHERE_CLOSED,\n",
    "    \n",
    "    'vhs_coeff':    VHS_COEFF,\n",
    "    'vhs_alpha':    VHS_ALPHA,\n",
    "    \n",
    "    'equation':     'Landau',\n",
    "    'dtype_str':    __dtype_str,\n",
    "}\n",
    "file_dir = path_data / __dtype_str\n",
    "file_name = f\"Boltzmann__{DIMENSION}D__res_{str(RESOLUTION).zfill(3)}__alpha_{float(VHS_ALPHA):.1e}.pth\"\n",
    "if not Path.exists(file_dir):\n",
    "    Path.mkdir(file_dir, parents=True)\n",
    "torch.save(saved_data, file_dir/file_name)"
   ]
  },
  {
   "cell_type": "markdown",
   "id": "a574d3cb",
   "metadata": {},
   "source": [
    "End of file"
   ]
  }
 ],
 "metadata": {
  "kernelspec": {
   "display_name": "GJ2",
   "language": "python",
   "name": "python3"
  },
  "language_info": {
   "codemirror_mode": {
    "name": "ipython",
    "version": 3
   },
   "file_extension": ".py",
   "mimetype": "text/x-python",
   "name": "python",
   "nbconvert_exporter": "python",
   "pygments_lexer": "ipython3",
   "version": "3.12.8"
  }
 },
 "nbformat": 4,
 "nbformat_minor": 5
}
