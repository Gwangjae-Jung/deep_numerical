{
 "cells": [
  {
   "cell_type": "code",
   "execution_count": 1,
   "metadata": {},
   "outputs": [
    {
     "name": "stdout",
     "output_type": "stream",
     "text": [
      "The path [e:\\_____custom_modules\\python_custom_modules\\numerical] will be appended.\n",
      "The path [e:\\_____custom_modules\\python_custom_modules] will be appended.\n"
     ]
    }
   ],
   "source": [
    "import  time\n",
    "from    tqdm.notebook           import  tqdm\n",
    "\n",
    "import  numpy                   as      np\n",
    "import  matplotlib.pyplot       as      plt\n",
    "from    IPython                 import  display\n",
    "from    ipywidgets              import  Output\n",
    "\n",
    "import  find_library\n",
    "from    numerical.utils           import  *\n",
    "from    numerical.distribution    import  *\n",
    "from    numerical.solvers         import  *"
   ]
  },
  {
   "cell_type": "code",
   "execution_count": 2,
   "metadata": {},
   "outputs": [],
   "source": [
    "# Time\n",
    "DELTA_T:    float       = 0.01\n",
    "MIN_T:      float       = 0.0\n",
    "MAX_T:      float       = 10.0\n",
    "NUM_T:      int         = int(1 + (MAX_T - MIN_T + 0.1*DELTA_T) / DELTA_T)\n",
    "ARR_T:      np.ndarray  = np.linspace(MIN_T, MAX_T, NUM_T)\n",
    "\n",
    "# Velocity\n",
    "DIMENSION:      int         = 2\n",
    "RESOLUTION:     int         = 32\n",
    "MAX_V:          float       = 3.0 / LAMBDA\n",
    "V:              np.ndarray  = velocity_grid(\n",
    "                                    DIMENSION,\n",
    "                                    RESOLUTION,\n",
    "                                    MAX_V,\n",
    "                                )\n",
    "\n",
    "# Further configurations - FFT\n",
    "FFT_NORM:   str         = 'forward'\n",
    "_FREQ:      np.ndarray  = fft_index(RESOLUTION)\n",
    "FREQ_MIN:   int         = int(_FREQ.min())\n",
    "FREQ_MAX:   int         = int(_FREQ.max())\n",
    "freqs:      np.ndarray  = freq_tensor(DIMENSION, RESOLUTION)\n",
    "    \n",
    "# VHS model\n",
    "VHS_ALPHA:      float   = 0.0\n",
    "VHS_COEFF:      float   = 1 / area_of_unit_sphere(DIMENSION)\n",
    "\n",
    "# Metric\n",
    "METRIC_ORDER:   float   = float('inf')\n",
    "def metric(pred: np.ndarray, target: np.ndarray) -> float:\n",
    "    numer = np.linalg.norm((pred - target).flatten(), ord=METRIC_ORDER)\n",
    "    denom = np.linalg.norm(target.flatten(), ord=METRIC_ORDER)\n",
    "    return float(numer / denom)\n",
    "\n",
    "\n",
    "# Problem type\n",
    "PROBLEM_TYPE:   str = 'bkw'\n",
    "PROBLEM_TYPE = PROBLEM_TYPE.lower()\n",
    "\n",
    "## BKW solution\n",
    "BKW_COEFF_EXT:  float = get_bkw_coeff_ext(DIMENSION)\n",
    "\n",
    "## Maxwellian distribution\n",
    "MAXWELLIAN_MEAN_DENSITY:        float       = 1.0\n",
    "MAXWELLIAN_MEAN_VELOCITY:       np.ndarray  = np.zeros(DIMENSION)\n",
    "MAXWELLIAN_MEAN_TEMPERATURE:    float       = 1.0\n",
    "\n",
    "## Bimodal distribution\n",
    "BIMODAL_MODE1_MEAN_DENSITY:     float       = 0.5\n",
    "BIMODAL_MODE1_MEAN_VELOCITY:    np.ndarray  = np.array([MAX_V/6, *zeros(DIMENSION-1)])\n",
    "BIMODAL_MODE1_MEAN_TEMPERATURE: float       = 0.5"
   ]
  },
  {
   "cell_type": "code",
   "execution_count": null,
   "metadata": {},
   "outputs": [
    {
     "name": "stdout",
     "output_type": "stream",
     "text": [
      "[ Initialization ]\n",
      "* Setting the initial value.\n",
      "----------[ BKW solution ]----------\n",
      "* coeff_ext: 0.5\n",
      "* coeff_int: 0.125\n",
      "------------------------------------\n",
      "* Computing the kernel components.\n",
      "\tDone. (approximation level: 1250)\n"
     ]
    }
   ],
   "source": [
    "print(f\"[ Initialization ]\")\n",
    "print(f\"* Setting the initial value.\")\n",
    "arr_f:  np.ndarray\n",
    "\"\"\"A space-homogeneous initial condition\"\"\"\n",
    "if PROBLEM_TYPE == 'bkw':\n",
    "    bkw_sol = bkw(\n",
    "                    ARR_T, V,\n",
    "                    coeff_ext   = BKW_COEFF_EXT,\n",
    "                    vhs_coeff   = VHS_COEFF,\n",
    "                )\n",
    "    arr_f = bkw_sol[:, 0]\n",
    "elif PROBLEM_TYPE == 'maxwellian':\n",
    "    arr_f = maxwellian_homogeneous(\n",
    "                V,\n",
    "                MAXWELLIAN_MEAN_DENSITY,\n",
    "                MAXWELLIAN_MEAN_VELOCITY,\n",
    "                MAXWELLIAN_MEAN_TEMPERATURE,\n",
    "            )\n",
    "elif PROBLEM_TYPE == 'bimodal':\n",
    "    arr_f = maxwellian_homogeneous(\n",
    "                V,\n",
    "                BIMODAL_MODE1_MEAN_DENSITY,\n",
    "                +BIMODAL_MODE1_MEAN_VELOCITY,\n",
    "                BIMODAL_MODE1_MEAN_TEMPERATURE,\n",
    "            ) + \\\n",
    "            maxwellian_homogeneous(\n",
    "                V,\n",
    "                BIMODAL_MODE1_MEAN_DENSITY,\n",
    "                -BIMODAL_MODE1_MEAN_VELOCITY,\n",
    "                BIMODAL_MODE1_MEAN_TEMPERATURE,\n",
    "            )\n",
    "\n",
    "f_shape     = arr_f.shape[-(1+DIMENSION):-1]\n",
    "f_axes_v    = tuple(range(-(1+DIMENSION), -1))\n",
    "\n",
    "\n",
    "arr_f_fft = np.fft.fftn(arr_f, s=f_shape, axes=f_axes_v, norm=FFT_NORM)\n",
    "\"\"\"The discrete Fourier transform of the solution sample\"\"\"\n",
    "\n",
    "print(f\"* Computing the kernel components.\")\n",
    "sm_object = FastSM_Boltzmann_VHS(\n",
    "    dim         = DIMENSION,\n",
    "    v_num_grid  = RESOLUTION,\n",
    "    v_max       = MAX_V,\n",
    "    vhs_coeff   = VHS_COEFF,\n",
    "    vhs_alpha   = VHS_ALPHA,\n",
    "    quad_order_uniform  = 25,\n",
    "    quad_order_legendre = 50,\n",
    "    quad_order_lebedev  = 7,\n",
    ")\n",
    "sm_object.precompute()\n",
    "print(f\"\\tDone. (approximation level: {sm_object.approximation_level})\")"
   ]
  },
  {
   "cell_type": "code",
   "execution_count": 5,
   "metadata": {},
   "outputs": [
    {
     "data": {
      "image/png": "[encoded data removed]",
      "text/plain": [
       "<Figure size 640x480 with 2 Axes>"
      ]
     },
     "metadata": {},
     "output_type": "display_data"
    }
   ],
   "source": [
    "bkw_fft = sm_object.compute_collision_fft(None, arr_f_fft)\n",
    "bkw_collision = np.fft.ifftn(bkw_fft, s=f_shape, axes=f_axes_v, norm=FFT_NORM).real\n",
    "plt.imshow(bkw_collision[0].reshape(RESOLUTION, RESOLUTION))\n",
    "plt.colorbar()\n",
    "plt.show()"
   ]
  },
  {
   "cell_type": "markdown",
   "metadata": {},
   "source": [
    "End of file"
   ]
  }
 ],
 "metadata": {
  "kernelspec": {
   "display_name": "dev_main",
   "language": "python",
   "name": "python3"
  },
  "language_info": {
   "codemirror_mode": {
    "name": "ipython",
    "version": 3
   },
   "file_extension": ".py",
   "mimetype": "text/x-python",
   "name": "python",
   "nbconvert_exporter": "python",
   "pygments_lexer": "ipython3",
   "version": "3.12.3"
  }
 },
 "nbformat": 4,
 "nbformat_minor": 2
}
