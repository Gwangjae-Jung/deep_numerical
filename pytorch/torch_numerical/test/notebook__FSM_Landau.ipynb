{
 "cells": [
  {
   "cell_type": "code",
   "execution_count": 1,
   "metadata": {},
   "outputs": [
    {
     "name": "stdout",
     "output_type": "stream",
     "text": [
      "The following path will be appended.\n",
      ">>> [/media/junseung/47a90e46-3a9d-467c-bbee-066752b68532/GWANGJAE/python_deep_numerical/pytorch/torch_numerical]\n",
      "The following path will be appended.\n",
      ">>> [/media/junseung/47a90e46-3a9d-467c-bbee-066752b68532/GWANGJAE/python_deep_numerical/pytorch]\n"
     ]
    }
   ],
   "source": [
    "import  time\n",
    "from    tqdm.notebook           import  tqdm\n",
    "\n",
    "import  torch\n",
    "from    torch                   import  Tensor\n",
    "import  matplotlib.pyplot       as      plt\n",
    "from    IPython                 import  display\n",
    "from    ipywidgets              import  Output\n",
    "\n",
    "import  find_library\n",
    "from    torch_numerical.utils           import  *\n",
    "from    torch_numerical.distribution    import  *\n",
    "from    torch_numerical.solvers         import  *\n",
    "\n",
    "DTYPE:  torch.dtype     = torch.float64\n",
    "DEVICE: torch.device    = torch.device('cuda:0')\n",
    "tensor_kwargs = {'dtype': DTYPE, 'device': DEVICE}"
   ]
  },
  {
   "cell_type": "code",
   "execution_count": 2,
   "metadata": {},
   "outputs": [],
   "source": [
    "# Time\n",
    "DELTA_T:    float       = 1e-3\n",
    "MIN_T:      float       = 0.0\n",
    "MAX_T:      float       = MIN_T + 10.0\n",
    "NUM_T:      int         = int(1 + (MAX_T - MIN_T + 0.1*DELTA_T) / DELTA_T)\n",
    "ARR_T:      Tensor      = torch.linspace(MIN_T, MAX_T, NUM_T, **tensor_kwargs)\n",
    "\n",
    "# Velocity\n",
    "DIMENSION:      int         = 2\n",
    "RESOLUTION:     int         = 65\n",
    "MAX_V:          float       = 3.0 / LAMBDA\n",
    "V:              Tensor      = velocity_grid(\n",
    "                                    DIMENSION,\n",
    "                                    RESOLUTION,\n",
    "                                    MAX_V,\n",
    "                                    where_closed='both',\n",
    "                                    **tensor_kwargs\n",
    "                                )\n",
    "\n",
    "# Further configurations - FFT\n",
    "FFT_NORM:   str         = 'forward'\n",
    "_FREQ:      Tensor      = fft_index(RESOLUTION, **tensor_kwargs)\n",
    "FREQ_MIN:   int         = int(_FREQ.min())\n",
    "FREQ_MAX:   int         = int(_FREQ.max())\n",
    "freqs:      Tensor      = freq_tensor(DIMENSION, RESOLUTION, **tensor_kwargs)\n",
    "    \n",
    "# VHS model\n",
    "VHS_ALPHA:      float   = -2.0\n",
    "VHS_COEFF:      float   = 1 / area_of_unit_sphere(DIMENSION)\n",
    "\n",
    "# Metric\n",
    "METRIC_ORDER:   float   = float('inf')\n",
    "\n",
    "\n",
    "# Problem type\n",
    "PROBLEM_TYPE:   str = 'bimodal' # 'bimodal', 'bkw', 'maxwellian'\n",
    "PROBLEM_TYPE = PROBLEM_TYPE.lower()\n",
    "\n",
    "## BKW solution\n",
    "BKW_COEFF_EXT:  float = get_bkw_coeff_ext(DIMENSION)\n",
    "\n",
    "## Maxwellian distribution\n",
    "MAXWELLIAN_MEAN_DENSITY:        float       = torch.ones((1,1), **tensor_kwargs)\n",
    "MAXWELLIAN_MEAN_VELOCITY:       Tensor      = torch.zeros((1,DIMENSION), **tensor_kwargs)\n",
    "MAXWELLIAN_MEAN_TEMPERATURE:    float       = torch.ones((1,1), **tensor_kwargs)\n",
    "\n",
    "## Bimodal distribution\n",
    "BIMODAL_MODE1_MEAN_DENSITY:     float       = 0.5 * torch.ones((1,1), **tensor_kwargs)\n",
    "BIMODAL_MODE1_MEAN_VELOCITY:    Tensor      = torch.tensor([[MAX_V/6, *zeros(DIMENSION-1)]], **tensor_kwargs)\n",
    "BIMODAL_MODE1_MEAN_TEMPERATURE: float       = 0.5 * torch.ones((1,1), **tensor_kwargs)"
   ]
  },
  {
   "cell_type": "code",
   "execution_count": 3,
   "metadata": {},
   "outputs": [
    {
     "name": "stdout",
     "output_type": "stream",
     "text": [
      "[ Initialization ]\n",
      "* Setting the initial value.\n",
      "* Computing the kernel components.\n",
      "\tDone.\n"
     ]
    }
   ],
   "source": [
    "print(f\"[ Initialization ]\")\n",
    "print(f\"* Setting the initial value.\")\n",
    "init_f: Tensor\n",
    "arr_f:  Tensor\n",
    "if PROBLEM_TYPE == 'bkw':\n",
    "    bkw_sol = bkw(\n",
    "        ARR_T, V,\n",
    "        coeff_ext   = BKW_COEFF_EXT,\n",
    "        vhs_coeff   = VHS_COEFF,\n",
    "        equation    = 'fpl',\n",
    "    )\n",
    "    init_f = bkw_sol[:, 0]\n",
    "elif PROBLEM_TYPE == 'maxwellian':\n",
    "    init_f = maxwellian_homogeneous(\n",
    "        V,\n",
    "        MAXWELLIAN_MEAN_DENSITY,\n",
    "        MAXWELLIAN_MEAN_VELOCITY,\n",
    "        MAXWELLIAN_MEAN_TEMPERATURE,\n",
    "    )\n",
    "elif PROBLEM_TYPE == 'bimodal':\n",
    "    init_f = maxwellian_homogeneous(\n",
    "        V,\n",
    "        BIMODAL_MODE1_MEAN_DENSITY,\n",
    "        +BIMODAL_MODE1_MEAN_VELOCITY,\n",
    "        BIMODAL_MODE1_MEAN_TEMPERATURE,\n",
    "    ) + \\\n",
    "    maxwellian_homogeneous(\n",
    "        V,\n",
    "        BIMODAL_MODE1_MEAN_DENSITY,\n",
    "        -BIMODAL_MODE1_MEAN_VELOCITY,\n",
    "        BIMODAL_MODE1_MEAN_TEMPERATURE,\n",
    "    )\n",
    "arr_f = init_f\n",
    "\n",
    "print(f\"* Computing the kernel components.\")\n",
    "sm_object = FastSM_Landau_VHS(\n",
    "    dimension   = DIMENSION,\n",
    "    v_num_grid  = RESOLUTION,\n",
    "    v_max       = MAX_V,\n",
    "    vhs_coeff   = VHS_COEFF,\n",
    "    vhs_alpha   = VHS_ALPHA,\n",
    "    \n",
    "    quad_order_uniform  = 150,\n",
    "    quad_order_legendre = 150,\n",
    "    \n",
    "    dtype   = DTYPE,\n",
    "    device  = DEVICE,\n",
    ")\n",
    "print(f\"\\tDone.\")\n",
    "\n",
    "fft_config = {'s': sm_object.v_shape, 'dim': sm_object.v_axes, 'norm': FFT_NORM}\n",
    "arr_f_fft: Tensor = torch.fft.fftn(arr_f, **fft_config)"
   ]
  },
  {
   "cell_type": "code",
   "execution_count": 4,
   "metadata": {},
   "outputs": [],
   "source": [
    "# Define the function which returns the target\n",
    "def return_target(t_idx: int) -> Tensor:\n",
    "    if PROBLEM_TYPE == 'bkw':\n",
    "        # Return the BKW solution at the given time index\n",
    "        return bkw_sol[:, t_idx]\n",
    "    elif PROBLEM_TYPE == 'maxwellian':\n",
    "        # Return the initial value, which is the Maxwellian distribution\n",
    "        return init_f\n",
    "    elif PROBLEM_TYPE == 'bimodal':\n",
    "        # Return the Maxwellian distribution\n",
    "        _batch_size, _data_dim = init_f.size(0), init_f.size(-1)\n",
    "        _squeeze_dims = tuple(range(1, 1+2*DIMENSION))\n",
    "        _moments = compute_moments_homogeneous(init_f, V)\n",
    "        _moments = tuple(map(lambda x: torch.squeeze(x, dim=_squeeze_dims), _moments))\n",
    "        return maxwellian_homogeneous(V, *_moments).reshape(\n",
    "            _batch_size, *ones(DIMENSION), *sm_object.v_shape, _data_dim\n",
    "        )"
   ]
  },
  {
   "cell_type": "code",
   "execution_count": 5,
   "metadata": {},
   "outputs": [],
   "source": [
    "# Define storages\n",
    "arr_distribution        = []\n",
    "arr_mean_density        = []\n",
    "arr_mean_velocity       = []\n",
    "arr_mean_temperature    = []\n",
    "arr_rel_error           = []\n",
    "\n",
    "\n",
    "# Define the function which updates the storages\n",
    "def update_storages(t_idx: int, f: Tensor) -> None:\n",
    "    _mean_density, _mean_velocity, _mean_temperature = \\\n",
    "        compute_moments_inhomogeneous(f, V, eps=1e-20)\n",
    "    _target = return_target(t_idx)\n",
    "    _rel_error = relative_error(f, _target, p=METRIC_ORDER)\n",
    "    \n",
    "    arr_distribution.append(f)\n",
    "    arr_mean_density.append(_mean_density)\n",
    "    arr_mean_velocity.append(_mean_velocity)\n",
    "    arr_mean_temperature.append(_mean_temperature)\n",
    "    arr_rel_error.append(_rel_error)\n",
    "    \n",
    "    return"
   ]
  },
  {
   "cell_type": "code",
   "execution_count": 6,
   "metadata": {},
   "outputs": [
    {
     "name": "stdout",
     "output_type": "stream",
     "text": [
      "[ Computation ]\n",
      "* Computing the numerical solution.\n"
     ]
    },
    {
     "data": {
      "application/vnd.jupyter.widget-view+json": {
       "model_id": "674f6e0ec622427fb939ae9709c00921",
       "version_major": 2,
       "version_minor": 0
      },
      "text/plain": [
       "Output()"
      ]
     },
     "metadata": {},
     "output_type": "display_data"
    },
    {
     "data": {
      "application/vnd.jupyter.widget-view+json": {
       "model_id": "9e182b3b41f4405aa9987c5e4e95ddc9",
       "version_major": 2,
       "version_minor": 0
      },
      "text/plain": [
       "  0%|          | 0/10000 [00:00<?, ?it/s]"
      ]
     },
     "metadata": {},
     "output_type": "display_data"
    },
    {
     "name": "stdout",
     "output_type": "stream",
     "text": [
      "\tDone. (Elapsed time: 59.34 seconds)\n",
      "* Stacking the results into tensors.\n",
      "\tDone.\n"
     ]
    }
   ],
   "source": [
    "print(f\"[ Computation ]\")\n",
    "print(f\"* Computing the numerical solution.\")\n",
    "_idx_start = 1\n",
    "out = Output()\n",
    "display.display(out)\n",
    "\n",
    "elapsed_time = time.time()\n",
    "update_storages(0, init_f)\n",
    "for t_idx, t_curr in enumerate(tqdm(ARR_T[_idx_start:]), _idx_start):\n",
    "    \"\"\"Time marching from the temporal index `t_idx-1` to `t_idx`\"\"\"\n",
    "    # Conduct time-marching\n",
    "    t_prev = float(ARR_T[t_idx-1])\n",
    "    arr_f_fft = sm_object.forward(t_prev, arr_f_fft, DELTA_T, one_step_RK4_classic)\n",
    "    arr_f = torch.fft.ifftn(arr_f_fft, **fft_config).real\n",
    "    # Save data\n",
    "    update_storages(t_idx, arr_f)\n",
    "elapsed_time = time.time() - elapsed_time\n",
    "print(f\"\\tDone. (Elapsed time: {elapsed_time:.2f} seconds)\")\n",
    "\n",
    "print(f\"* Stacking the results into tensors.\")\n",
    "ARR_T                   = ARR_T.cpu()\n",
    "arr_distribution        = torch.stack(arr_distribution, dim=1).cpu()\n",
    "arr_mean_density        = torch.stack(arr_mean_density, dim=1).cpu()\n",
    "arr_mean_velocity       = torch.stack(arr_mean_velocity, dim=1).cpu()\n",
    "arr_mean_temperature    = torch.stack(arr_mean_temperature, dim=1).cpu()\n",
    "arr_rel_error           = torch.stack(arr_rel_error, dim=1).cpu()\n",
    "print(f\"\\tDone.\")"
   ]
  },
  {
   "cell_type": "code",
   "execution_count": 7,
   "metadata": {},
   "outputs": [
    {
     "data": {
      "image/png": "[encoded data removed]",
      "text/plain": [
       "<Figure size 640x480 with 1 Axes>"
      ]
     },
     "metadata": {},
     "output_type": "display_data"
    }
   ],
   "source": [
    "plt.plot(ARR_T, *arr_rel_error, 'r-', linewidth=1)\n",
    "plt.suptitle(f\"Plot of the relative error ($p={METRIC_ORDER}$)\")\n",
    "plt.title(f\"Problem type: {PROBLEM_TYPE}\")\n",
    "plt.xlim(MIN_T, MAX_T)\n",
    "plt.ylim(1e-12, 1e+1)\n",
    "plt.grid(True)\n",
    "plt.yscale('log')\n",
    "plt.show()"
   ]
  },
  {
   "cell_type": "markdown",
   "metadata": {},
   "source": [
    "End of file"
   ]
  }
 ],
 "metadata": {
  "kernelspec": {
   "display_name": "GJ2",
   "language": "python",
   "name": "python3"
  },
  "language_info": {
   "codemirror_mode": {
    "name": "ipython",
    "version": 3
   },
   "file_extension": ".py",
   "mimetype": "text/x-python",
   "name": "python",
   "nbconvert_exporter": "python",
   "pygments_lexer": "ipython3",
   "version": "3.12.8"
  }
 },
 "nbformat": 4,
 "nbformat_minor": 2
}
