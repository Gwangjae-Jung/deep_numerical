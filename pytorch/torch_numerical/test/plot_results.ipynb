{
 "cells": [
  {
   "cell_type": "code",
   "execution_count": 1,
   "metadata": {},
   "outputs": [],
   "source": [
    "import  numpy                   as      np\n",
    "import  matplotlib.pyplot       as      plt\n",
    "\n",
    "from    kinetic.collision_kernel import  *\n",
    "from    kinetic.utils            import  *\n",
    "from    kinetic.distribution     import  *\n",
    "from    kinetic.parsers          import  *"
   ]
  },
  {
   "cell_type": "code",
   "execution_count": 2,
   "metadata": {},
   "outputs": [],
   "source": [
    "fsm_file_list = [f'data/FSM_3D__BKW__res{int(2**i)}_Tmin5.50_Tmax10.00_dt0.10_alpha0.00.npz' for i in (3, 4, 5)]\n",
    "dsm_file_list = [f'data/DSM_3D__BKW__res{int(2**i)}_Tmin5.50_Tmax10.00_dt0.10_alpha0.00.npz' for i in (3, 4)]\n",
    "\n",
    "\n",
    "fsm_data_list = [np.load(file, allow_pickle=True) for file in fsm_file_list]\n",
    "dsm_data_list = [np.load(file, allow_pickle=True) for file in dsm_file_list]\n",
    "\n",
    "\n",
    "fsm_sol_list:   list[np.ndarray] = [x['arr_distribution'] for x in fsm_data_list]\n",
    "dsm_sol_list:   list[np.ndarray] = [x['arr_distribution'] for x in dsm_data_list]\n",
    "fsm_args_list:  list[SpectralMethodArguments] = [x['args'].item() for x in fsm_data_list]\n",
    "dsm_args_list:  list[SpectralMethodArguments] = [x['args'].item() for x in fsm_data_list]\n",
    "\n",
    "\n",
    "\n",
    "fsm_min_t_list: list[float] = [x.min_t for x in fsm_args_list]\n",
    "fsm_max_t_list: list[float] = [x.max_t for x in fsm_args_list]\n",
    "fsm_num_t_list: list[int]   = [x.num_t for x in fsm_args_list]\n",
    "fsm_arr_t_list: list[np.ndarray] = [\n",
    "    np.linspace(fsm_min_t_list[k], fsm_max_t_list[k], fsm_num_t_list[k])\n",
    "    for k in range(len(fsm_file_list))\n",
    "]\n",
    "dsm_min_t_list: list[float] = [x.min_t for x in dsm_args_list]\n",
    "dsm_max_t_list: list[float] = [x.max_t for x in dsm_args_list]\n",
    "dsm_num_t_list: list[int]   = [x.num_t for x in dsm_args_list]\n",
    "dsm_arr_t_list: list[np.ndarray] = [\n",
    "    np.linspace(dsm_min_t_list[k], dsm_max_t_list[k], dsm_num_t_list[k])\n",
    "    for k in range(len(dsm_file_list))\n",
    "]\n",
    "\n",
    "fsm_max_v_list:     list[float] = [args.max_v for args in fsm_args_list]\n",
    "fsm_res_v_list:     list[int]   = [args.resolution for args in fsm_args_list]\n",
    "fsm_grid_v_list:    list[np.ndarray] = [\n",
    "    velocity_grid(3, res, v)\n",
    "    for res, v in zip(fsm_res_v_list, fsm_max_v_list)\n",
    "]\n",
    "dsm_max_v_list:     list[float] = [args.max_v for args in dsm_args_list]\n",
    "dsm_res_v_list:     list[int]   = [args.resolution for args in dsm_args_list]\n",
    "dsm_grid_v_list:    list[np.ndarray] = [\n",
    "    velocity_grid(3, res, v)\n",
    "    for res, v in zip(dsm_res_v_list, dsm_max_v_list)\n",
    "]"
   ]
  },
  {
   "cell_type": "code",
   "execution_count": 3,
   "metadata": {},
   "outputs": [
    {
     "name": "stdout",
     "output_type": "stream",
     "text": [
      "----------[ BKW solution ]----------\n",
      "* coeff_ext: 1\n",
      "* coeff_int: 0.16666666666666666\n",
      "------------------------------------\n",
      "----------[ BKW solution ]----------\n",
      "* coeff_ext: 1\n",
      "* coeff_int: 0.16666666666666666\n",
      "------------------------------------\n",
      "----------[ BKW solution ]----------\n",
      "* coeff_ext: 1\n",
      "* coeff_int: 0.16666666666666666\n",
      "------------------------------------\n",
      "----------[ BKW solution ]----------\n",
      "* coeff_ext: 1\n",
      "* coeff_int: 0.16666666666666666\n",
      "------------------------------------\n",
      "----------[ BKW solution ]----------\n",
      "* coeff_ext: 1\n",
      "* coeff_int: 0.16666666666666666\n",
      "------------------------------------\n"
     ]
    }
   ],
   "source": [
    "fsm_bkw_list:  list[np.ndarray] = [\n",
    "    bkw(arr_t, v, args.bkw_coeff_ext, args.vhs_coeff)\n",
    "    for arr_t, v, args in zip(fsm_arr_t_list, fsm_grid_v_list, fsm_args_list)\n",
    "]\n",
    "dsm_bkw_list:  list[np.ndarray] = [\n",
    "    bkw(arr_t, v, args.bkw_coeff_ext, args.vhs_coeff)\n",
    "    for arr_t, v, args in zip(dsm_arr_t_list, dsm_grid_v_list, dsm_args_list)\n",
    "]"
   ]
  },
  {
   "cell_type": "code",
   "execution_count": 4,
   "metadata": {},
   "outputs": [
    {
     "data": {
      "text/plain": [
       "(46, 8, 8, 8)"
      ]
     },
     "execution_count": 4,
     "metadata": {},
     "output_type": "execute_result"
    }
   ],
   "source": [
    "fsm_bkw_list[0].shape"
   ]
  },
  {
   "cell_type": "code",
   "execution_count": 5,
   "metadata": {},
   "outputs": [
    {
     "ename": "TypeError",
     "evalue": "linalg_vector_norm(): argument 'dim' (position 3) must be tuple of ints, not float",
     "output_type": "error",
     "traceback": [
      "\u001b[0;31m---------------------------------------------------------------------------\u001b[0m",
      "\u001b[0;31mTypeError\u001b[0m                                 Traceback (most recent call last)",
      "Cell \u001b[0;32mIn[5], line 2\u001b[0m\n\u001b[1;32m      1\u001b[0m METRIC_ORDER \u001b[38;5;241m=\u001b[39m \u001b[38;5;28mfloat\u001b[39m(\u001b[38;5;124m'\u001b[39m\u001b[38;5;124minf\u001b[39m\u001b[38;5;124m'\u001b[39m)\n\u001b[0;32m----> 2\u001b[0m fsm_error_list \u001b[38;5;241m=\u001b[39m [\u001b[43mmetric\u001b[49m\u001b[43m(\u001b[49m\u001b[43mfsm_sol_list\u001b[49m\u001b[43m[\u001b[49m\u001b[43mk\u001b[49m\u001b[43m]\u001b[49m\u001b[43m[\u001b[49m\u001b[38;5;241;43m0\u001b[39;49m\u001b[43m]\u001b[49m\u001b[43m,\u001b[49m\u001b[43m \u001b[49m\u001b[43mfsm_bkw_list\u001b[49m\u001b[43m[\u001b[49m\u001b[43mk\u001b[49m\u001b[43m]\u001b[49m\u001b[43m,\u001b[49m\u001b[43m \u001b[49m\u001b[43mMETRIC_ORDER\u001b[49m\u001b[43m)\u001b[49m \u001b[38;5;28;01mfor\u001b[39;00m k \u001b[38;5;129;01min\u001b[39;00m \u001b[38;5;28mrange\u001b[39m(\u001b[38;5;28mlen\u001b[39m(fsm_file_list))]\n\u001b[1;32m      3\u001b[0m dsm_error_list \u001b[38;5;241m=\u001b[39m [metric(dsm_sol_list[k][\u001b[38;5;241m0\u001b[39m], dsm_bkw_list[k], METRIC_ORDER) \u001b[38;5;28;01mfor\u001b[39;00m k \u001b[38;5;129;01min\u001b[39;00m \u001b[38;5;28mrange\u001b[39m(\u001b[38;5;28mlen\u001b[39m(dsm_file_list))]\n\u001b[1;32m      5\u001b[0m fsm_fmt_list \u001b[38;5;241m=\u001b[39m [\u001b[38;5;124m'\u001b[39m\u001b[38;5;124mr--\u001b[39m\u001b[38;5;124m'\u001b[39m, \u001b[38;5;124m'\u001b[39m\u001b[38;5;124mg--\u001b[39m\u001b[38;5;124m'\u001b[39m, \u001b[38;5;124m'\u001b[39m\u001b[38;5;124mb--\u001b[39m\u001b[38;5;124m'\u001b[39m]\n",
      "File \u001b[0;32m/media/junseung/47a90e46-3a9d-467c-bbee-066752b68532/GWANGJAE/kinetic_equation/kinetic/utils/_math.py:62\u001b[0m, in \u001b[0;36mmetric\u001b[0;34m(preds, targets, axes, ord)\u001b[0m\n\u001b[1;32m     60\u001b[0m preds   \u001b[38;5;241m=\u001b[39m torch\u001b[38;5;241m.\u001b[39mfrom_numpy(preds)\u001b[38;5;241m.\u001b[39mtype(torch\u001b[38;5;241m.\u001b[39mfloat)\n\u001b[1;32m     61\u001b[0m targets \u001b[38;5;241m=\u001b[39m torch\u001b[38;5;241m.\u001b[39mfrom_numpy(targets)\u001b[38;5;241m.\u001b[39mtype(torch\u001b[38;5;241m.\u001b[39mfloat)\n\u001b[0;32m---> 62\u001b[0m numer \u001b[38;5;241m=\u001b[39m \u001b[43mtorch\u001b[49m\u001b[38;5;241;43m.\u001b[39;49m\u001b[43mnorm\u001b[49m\u001b[43m(\u001b[49m\u001b[43mpreds\u001b[49m\u001b[38;5;241;43m-\u001b[39;49m\u001b[43mtargets\u001b[49m\u001b[43m,\u001b[49m\u001b[43m \u001b[49m\u001b[43mdim\u001b[49m\u001b[38;5;241;43m=\u001b[39;49m\u001b[43maxes\u001b[49m\u001b[43m,\u001b[49m\u001b[43m \u001b[49m\u001b[43mp\u001b[49m\u001b[38;5;241;43m=\u001b[39;49m\u001b[38;5;28;43mord\u001b[39;49m\u001b[43m)\u001b[49m\n\u001b[1;32m     63\u001b[0m denom \u001b[38;5;241m=\u001b[39m torch\u001b[38;5;241m.\u001b[39mnorm(targets, dim\u001b[38;5;241m=\u001b[39maxes, p\u001b[38;5;241m=\u001b[39m\u001b[38;5;28mord\u001b[39m)\n\u001b[1;32m     64\u001b[0m \u001b[38;5;28;01mreturn\u001b[39;00m (numer\u001b[38;5;241m/\u001b[39mdenom)\u001b[38;5;241m.\u001b[39mnumpy()\n",
      "File \u001b[0;32m~/.local/lib/python3.12/site-packages/torch/functional.py:1632\u001b[0m, in \u001b[0;36mnorm\u001b[0;34m(input, p, dim, keepdim, out, dtype)\u001b[0m\n\u001b[1;32m   1630\u001b[0m _p \u001b[38;5;241m=\u001b[39m \u001b[38;5;241m2.0\u001b[39m \u001b[38;5;28;01mif\u001b[39;00m p \u001b[38;5;129;01mis\u001b[39;00m \u001b[38;5;28;01mNone\u001b[39;00m \u001b[38;5;28;01melse\u001b[39;00m p\n\u001b[1;32m   1631\u001b[0m \u001b[38;5;28;01mif\u001b[39;00m out \u001b[38;5;129;01mis\u001b[39;00m \u001b[38;5;28;01mNone\u001b[39;00m:\n\u001b[0;32m-> 1632\u001b[0m     \u001b[38;5;28;01mreturn\u001b[39;00m \u001b[43mtorch\u001b[49m\u001b[38;5;241;43m.\u001b[39;49m\u001b[43mlinalg\u001b[49m\u001b[38;5;241;43m.\u001b[39;49m\u001b[43mvector_norm\u001b[49m\u001b[43m(\u001b[49m\u001b[38;5;28;43minput\u001b[39;49m\u001b[43m,\u001b[49m\u001b[43m \u001b[49m\u001b[43m_p\u001b[49m\u001b[43m,\u001b[49m\u001b[43m \u001b[49m\u001b[43m_dim\u001b[49m\u001b[43m,\u001b[49m\u001b[43m \u001b[49m\u001b[43mkeepdim\u001b[49m\u001b[43m,\u001b[49m\u001b[43m \u001b[49m\u001b[43mdtype\u001b[49m\u001b[38;5;241;43m=\u001b[39;49m\u001b[43mdtype\u001b[49m\u001b[43m)\u001b[49m\n\u001b[1;32m   1633\u001b[0m \u001b[38;5;28;01melse\u001b[39;00m:\n\u001b[1;32m   1634\u001b[0m     \u001b[38;5;28;01mreturn\u001b[39;00m torch\u001b[38;5;241m.\u001b[39mlinalg\u001b[38;5;241m.\u001b[39mvector_norm(\u001b[38;5;28minput\u001b[39m, _p, _dim, keepdim, dtype\u001b[38;5;241m=\u001b[39mdtype, out\u001b[38;5;241m=\u001b[39mout)\n",
      "\u001b[0;31mTypeError\u001b[0m: linalg_vector_norm(): argument 'dim' (position 3) must be tuple of ints, not float"
     ]
    }
   ],
   "source": [
    "METRIC_ORDER = float('inf')\n",
    "fsm_error_list = [metric(fsm_sol_list[k][0], fsm_bkw_list[k], METRIC_ORDER) for k in range(len(fsm_file_list))]\n",
    "dsm_error_list = [metric(dsm_sol_list[k][0], dsm_bkw_list[k], METRIC_ORDER) for k in range(len(dsm_file_list))]\n",
    "\n",
    "fsm_fmt_list = ['r--', 'g--', 'b--']\n",
    "dsm_fmt_list = ['r-', 'g-']\n",
    "\n",
    "plt.figure(figsize=(10,6))\n",
    "plt.title(f\"Relative error of order {METRIC_ORDER}\")\n",
    "for k in range(len(fsm_file_list)):\n",
    "    plt.plot(fsm_arr_t_list[k], fsm_error_list[k], fsm_fmt_list[k], label=f\"Fast, $N={2**(k+3)}$\")\n",
    "for k in range(len(dsm_file_list)):\n",
    "    plt.plot(dsm_arr_t_list[k], dsm_error_list[k], dsm_fmt_list[k], label=f\"Direct, $N={2**(k+3)}$\")\n",
    "plt.yscale('log')\n",
    "plt.ylim((1e-8, 1e+1))\n",
    "plt.xlim((5.6, 8.5))\n",
    "plt.legend()\n",
    "plt.grid(True)\n",
    "plt.show()"
   ]
  },
  {
   "cell_type": "markdown",
   "metadata": {},
   "source": [
    "End of file"
   ]
  },
  {
   "cell_type": "code",
   "execution_count": 9,
   "metadata": {},
   "outputs": [
    {
     "name": "stdout",
     "output_type": "stream",
     "text": [
      "<class 'int'>\n"
     ]
    }
   ],
   "source": [
    "axes = tuple(range(1, fsm_sol_list[0].ndim))\n",
    "print(axes[0].__class__)"
   ]
  },
  {
   "cell_type": "code",
   "execution_count": null,
   "metadata": {},
   "outputs": [],
   "source": [
    "X = dsm_bkw_list[1] - fsm_bkw_list[1]"
   ]
  },
  {
   "cell_type": "code",
   "execution_count": null,
   "metadata": {},
   "outputs": [],
   "source": [
    "plt.imshow(dsm_bkw_list[1][10, 8])"
   ]
  },
  {
   "cell_type": "code",
   "execution_count": null,
   "metadata": {},
   "outputs": [],
   "source": [
    "print(dsm_args_list[1])"
   ]
  },
  {
   "cell_type": "code",
   "execution_count": null,
   "metadata": {},
   "outputs": [],
   "source": []
  }
 ],
 "metadata": {
  "kernelspec": {
   "display_name": "GJ2",
   "language": "python",
   "name": "python3"
  },
  "language_info": {
   "codemirror_mode": {
    "name": "ipython",
    "version": 3
   },
   "file_extension": ".py",
   "mimetype": "text/x-python",
   "name": "python",
   "nbconvert_exporter": "python",
   "pygments_lexer": "ipython3",
   "version": "3.12.8"
  }
 },
 "nbformat": 4,
 "nbformat_minor": 2
}
